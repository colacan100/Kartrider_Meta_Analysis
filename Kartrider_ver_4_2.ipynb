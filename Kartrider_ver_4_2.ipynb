{
 "cells": [
  {
   "cell_type": "code",
   "execution_count": 11,
   "metadata": {},
   "outputs": [],
   "source": [
    "import pandas as pd\n",
    "df = pd.read_csv('C:\\\\Users\\\\colacan\\\\Documents\\\\GitHub\\\\Kartrider_Meta_Analysis_Project\\\\kartrider_eda_2.csv')"
   ]
  },
  {
   "cell_type": "code",
   "execution_count": 12,
   "metadata": {},
   "outputs": [],
   "source": [
    "df = df.drop('Unnamed: 0', axis = 1)"
   ]
  },
  {
   "cell_type": "code",
   "execution_count": 13,
   "metadata": {},
   "outputs": [
    {
     "data": {
      "text/html": [
       "<div>\n",
       "<style scoped>\n",
       "    .dataframe tbody tr th:only-of-type {\n",
       "        vertical-align: middle;\n",
       "    }\n",
       "\n",
       "    .dataframe tbody tr th {\n",
       "        vertical-align: top;\n",
       "    }\n",
       "\n",
       "    .dataframe thead th {\n",
       "        text-align: right;\n",
       "    }\n",
       "</style>\n",
       "<table border=\"1\" class=\"dataframe\">\n",
       "  <thead>\n",
       "    <tr style=\"text-align: right;\">\n",
       "      <th></th>\n",
       "      <th>channelName</th>\n",
       "      <th>gameSpeed</th>\n",
       "      <th>matchType</th>\n",
       "      <th>trackId</th>\n",
       "      <th>kart</th>\n",
       "      <th>pet</th>\n",
       "      <th>flyingPet</th>\n",
       "      <th>partsEngine</th>\n",
       "      <th>partsHandle</th>\n",
       "      <th>partsWheel</th>\n",
       "      <th>partsKit</th>\n",
       "      <th>rankinggrade2</th>\n",
       "      <th>matchRank</th>\n",
       "    </tr>\n",
       "  </thead>\n",
       "  <tbody>\n",
       "    <tr>\n",
       "      <th>0</th>\n",
       "      <td>speedIndiCombine</td>\n",
       "      <td>7.0</td>\n",
       "      <td>7b9f0fd5377c38514dbb78ebe63ac6c3b81009d5a31dd5...</td>\n",
       "      <td>936626b1d09165291db82c65c8533f6a023e1f72669741...</td>\n",
       "      <td>826f4a85b74f291472189c317c70155e754875675f3082...</td>\n",
       "      <td>non_pet</td>\n",
       "      <td>7a7c82225a7e19701d446f6bd2a3028235c158a8b3c0d9...</td>\n",
       "      <td>0.0</td>\n",
       "      <td>0.0</td>\n",
       "      <td>0.0</td>\n",
       "      <td>0.0</td>\n",
       "      <td>3</td>\n",
       "      <td>2</td>\n",
       "    </tr>\n",
       "    <tr>\n",
       "      <th>1</th>\n",
       "      <td>speedIndiCombine</td>\n",
       "      <td>7.0</td>\n",
       "      <td>7b9f0fd5377c38514dbb78ebe63ac6c3b81009d5a31dd5...</td>\n",
       "      <td>936626b1d09165291db82c65c8533f6a023e1f72669741...</td>\n",
       "      <td>0b41bf8620b5851d7dcc7eb33765d506e530b8d2e612e6...</td>\n",
       "      <td>fde208f0931f9d4ddb97b315b84ac6e15d4e4f0e1f799b...</td>\n",
       "      <td>a87cb96d91a4e0c357c4eaeb7dbc05ef515d183e79a8aa...</td>\n",
       "      <td>0.0</td>\n",
       "      <td>0.0</td>\n",
       "      <td>0.0</td>\n",
       "      <td>0.0</td>\n",
       "      <td>3</td>\n",
       "      <td>99</td>\n",
       "    </tr>\n",
       "    <tr>\n",
       "      <th>2</th>\n",
       "      <td>speedIndiCombine</td>\n",
       "      <td>7.0</td>\n",
       "      <td>7b9f0fd5377c38514dbb78ebe63ac6c3b81009d5a31dd5...</td>\n",
       "      <td>936626b1d09165291db82c65c8533f6a023e1f72669741...</td>\n",
       "      <td>dd0685efa8397ab65468ea28f229fa61a1ca2e8fe7e311...</td>\n",
       "      <td>f69c4abf9ae9fe3818287b017b06c93a19933cbf0e6e8d...</td>\n",
       "      <td>7a7c82225a7e19701d446f6bd2a3028235c158a8b3c0d9...</td>\n",
       "      <td>3.0</td>\n",
       "      <td>3.0</td>\n",
       "      <td>3.0</td>\n",
       "      <td>3.0</td>\n",
       "      <td>3</td>\n",
       "      <td>3</td>\n",
       "    </tr>\n",
       "    <tr>\n",
       "      <th>3</th>\n",
       "      <td>speedIndiCombine</td>\n",
       "      <td>7.0</td>\n",
       "      <td>7b9f0fd5377c38514dbb78ebe63ac6c3b81009d5a31dd5...</td>\n",
       "      <td>936626b1d09165291db82c65c8533f6a023e1f72669741...</td>\n",
       "      <td>d47aa62de79d88ecee263e07456555d99ff8957f1760d0...</td>\n",
       "      <td>non_pet</td>\n",
       "      <td>a87cb96d91a4e0c357c4eaeb7dbc05ef515d183e79a8aa...</td>\n",
       "      <td>2.0</td>\n",
       "      <td>0.0</td>\n",
       "      <td>1.0</td>\n",
       "      <td>2.0</td>\n",
       "      <td>3</td>\n",
       "      <td>1</td>\n",
       "    </tr>\n",
       "    <tr>\n",
       "      <th>4</th>\n",
       "      <td>speedIndiInfinit</td>\n",
       "      <td>4.0</td>\n",
       "      <td>7b9f0fd5377c38514dbb78ebe63ac6c3b81009d5a31dd5...</td>\n",
       "      <td>b57588a6c4fd89fbc2a2c9e9c1a95a746c35ab3ee08e39...</td>\n",
       "      <td>82ef440c285247789c576cd0f7dfc9b047bff7606baf3a...</td>\n",
       "      <td>f69c4abf9ae9fe3818287b017b06c93a19933cbf0e6e8d...</td>\n",
       "      <td>a87cb96d91a4e0c357c4eaeb7dbc05ef515d183e79a8aa...</td>\n",
       "      <td>0.0</td>\n",
       "      <td>0.0</td>\n",
       "      <td>0.0</td>\n",
       "      <td>0.0</td>\n",
       "      <td>3</td>\n",
       "      <td>1</td>\n",
       "    </tr>\n",
       "    <tr>\n",
       "      <th>...</th>\n",
       "      <td>...</td>\n",
       "      <td>...</td>\n",
       "      <td>...</td>\n",
       "      <td>...</td>\n",
       "      <td>...</td>\n",
       "      <td>...</td>\n",
       "      <td>...</td>\n",
       "      <td>...</td>\n",
       "      <td>...</td>\n",
       "      <td>...</td>\n",
       "      <td>...</td>\n",
       "      <td>...</td>\n",
       "      <td>...</td>\n",
       "    </tr>\n",
       "    <tr>\n",
       "      <th>100430</th>\n",
       "      <td>itemIndiCombine</td>\n",
       "      <td>7.0</td>\n",
       "      <td>7ca6fd44026a2c8f5d939b60aa56b4b1714b9cc2355ec5...</td>\n",
       "      <td>2534a9e0a5d477de6097d635513b1bc16afb9d7ef15116...</td>\n",
       "      <td>faf963e754c62f90d61f127d4c7f17d04947cce93acd96...</td>\n",
       "      <td>c70baab2d17098faa3c9d44388d6e3fb2f5a717631d7da...</td>\n",
       "      <td>a87cb96d91a4e0c357c4eaeb7dbc05ef515d183e79a8aa...</td>\n",
       "      <td>0.0</td>\n",
       "      <td>0.0</td>\n",
       "      <td>0.0</td>\n",
       "      <td>0.0</td>\n",
       "      <td>4</td>\n",
       "      <td>5</td>\n",
       "    </tr>\n",
       "    <tr>\n",
       "      <th>100431</th>\n",
       "      <td>itemIndiCombine</td>\n",
       "      <td>7.0</td>\n",
       "      <td>7ca6fd44026a2c8f5d939b60aa56b4b1714b9cc2355ec5...</td>\n",
       "      <td>2534a9e0a5d477de6097d635513b1bc16afb9d7ef15116...</td>\n",
       "      <td>d1bb276d82e79398a211df10113f27b24678178b9176cf...</td>\n",
       "      <td>b5e59da7e51a056fca10406d710af9898b1f29e4182036...</td>\n",
       "      <td>a86786a4492d950e3739a918089fba61e5ba99ec46083e...</td>\n",
       "      <td>over_ver_engine</td>\n",
       "      <td>over_ver_handle</td>\n",
       "      <td>over_ver_wheel</td>\n",
       "      <td>over_ver_kit</td>\n",
       "      <td>2</td>\n",
       "      <td>99</td>\n",
       "    </tr>\n",
       "    <tr>\n",
       "      <th>100432</th>\n",
       "      <td>itemIndiCombine</td>\n",
       "      <td>7.0</td>\n",
       "      <td>7ca6fd44026a2c8f5d939b60aa56b4b1714b9cc2355ec5...</td>\n",
       "      <td>2534a9e0a5d477de6097d635513b1bc16afb9d7ef15116...</td>\n",
       "      <td>7e9af2569848299f8aae60f4cfdeb21df32daa1f26aef4...</td>\n",
       "      <td>b5e59da7e51a056fca10406d710af9898b1f29e4182036...</td>\n",
       "      <td>44338a00eafb0d85851fa471384b28c5c6683ec5e61637...</td>\n",
       "      <td>1.0</td>\n",
       "      <td>1.0</td>\n",
       "      <td>1.0</td>\n",
       "      <td>1.0</td>\n",
       "      <td>0</td>\n",
       "      <td>4</td>\n",
       "    </tr>\n",
       "    <tr>\n",
       "      <th>100433</th>\n",
       "      <td>itemIndiCombine</td>\n",
       "      <td>7.0</td>\n",
       "      <td>7ca6fd44026a2c8f5d939b60aa56b4b1714b9cc2355ec5...</td>\n",
       "      <td>2534a9e0a5d477de6097d635513b1bc16afb9d7ef15116...</td>\n",
       "      <td>22f6e7faf98caf43b1bad667f77daabb4d77656226448f...</td>\n",
       "      <td>non_pet</td>\n",
       "      <td>a87cb96d91a4e0c357c4eaeb7dbc05ef515d183e79a8aa...</td>\n",
       "      <td>0.0</td>\n",
       "      <td>0.0</td>\n",
       "      <td>0.0</td>\n",
       "      <td>0.0</td>\n",
       "      <td>3</td>\n",
       "      <td>3</td>\n",
       "    </tr>\n",
       "    <tr>\n",
       "      <th>100434</th>\n",
       "      <td>itemIndiCombine</td>\n",
       "      <td>7.0</td>\n",
       "      <td>7ca6fd44026a2c8f5d939b60aa56b4b1714b9cc2355ec5...</td>\n",
       "      <td>caf2382bb9c0cf432379d97e5658cd0f1f7ad0008bac0a...</td>\n",
       "      <td>1486359e5347dab52c7acdcd952c4dab00c5253e82576f...</td>\n",
       "      <td>c2593beb7fab49d1b08b70d3da563e3d1eb3f3e7f347d6...</td>\n",
       "      <td>a87cb96d91a4e0c357c4eaeb7dbc05ef515d183e79a8aa...</td>\n",
       "      <td>over_ver_engine</td>\n",
       "      <td>over_ver_handle</td>\n",
       "      <td>over_ver_wheel</td>\n",
       "      <td>over_ver_kit</td>\n",
       "      <td>0</td>\n",
       "      <td>99</td>\n",
       "    </tr>\n",
       "  </tbody>\n",
       "</table>\n",
       "<p>100435 rows × 13 columns</p>\n",
       "</div>"
      ],
      "text/plain": [
       "             channelName  gameSpeed  \\\n",
       "0       speedIndiCombine        7.0   \n",
       "1       speedIndiCombine        7.0   \n",
       "2       speedIndiCombine        7.0   \n",
       "3       speedIndiCombine        7.0   \n",
       "4       speedIndiInfinit        4.0   \n",
       "...                  ...        ...   \n",
       "100430   itemIndiCombine        7.0   \n",
       "100431   itemIndiCombine        7.0   \n",
       "100432   itemIndiCombine        7.0   \n",
       "100433   itemIndiCombine        7.0   \n",
       "100434   itemIndiCombine        7.0   \n",
       "\n",
       "                                                matchType  \\\n",
       "0       7b9f0fd5377c38514dbb78ebe63ac6c3b81009d5a31dd5...   \n",
       "1       7b9f0fd5377c38514dbb78ebe63ac6c3b81009d5a31dd5...   \n",
       "2       7b9f0fd5377c38514dbb78ebe63ac6c3b81009d5a31dd5...   \n",
       "3       7b9f0fd5377c38514dbb78ebe63ac6c3b81009d5a31dd5...   \n",
       "4       7b9f0fd5377c38514dbb78ebe63ac6c3b81009d5a31dd5...   \n",
       "...                                                   ...   \n",
       "100430  7ca6fd44026a2c8f5d939b60aa56b4b1714b9cc2355ec5...   \n",
       "100431  7ca6fd44026a2c8f5d939b60aa56b4b1714b9cc2355ec5...   \n",
       "100432  7ca6fd44026a2c8f5d939b60aa56b4b1714b9cc2355ec5...   \n",
       "100433  7ca6fd44026a2c8f5d939b60aa56b4b1714b9cc2355ec5...   \n",
       "100434  7ca6fd44026a2c8f5d939b60aa56b4b1714b9cc2355ec5...   \n",
       "\n",
       "                                                  trackId  \\\n",
       "0       936626b1d09165291db82c65c8533f6a023e1f72669741...   \n",
       "1       936626b1d09165291db82c65c8533f6a023e1f72669741...   \n",
       "2       936626b1d09165291db82c65c8533f6a023e1f72669741...   \n",
       "3       936626b1d09165291db82c65c8533f6a023e1f72669741...   \n",
       "4       b57588a6c4fd89fbc2a2c9e9c1a95a746c35ab3ee08e39...   \n",
       "...                                                   ...   \n",
       "100430  2534a9e0a5d477de6097d635513b1bc16afb9d7ef15116...   \n",
       "100431  2534a9e0a5d477de6097d635513b1bc16afb9d7ef15116...   \n",
       "100432  2534a9e0a5d477de6097d635513b1bc16afb9d7ef15116...   \n",
       "100433  2534a9e0a5d477de6097d635513b1bc16afb9d7ef15116...   \n",
       "100434  caf2382bb9c0cf432379d97e5658cd0f1f7ad0008bac0a...   \n",
       "\n",
       "                                                     kart  \\\n",
       "0       826f4a85b74f291472189c317c70155e754875675f3082...   \n",
       "1       0b41bf8620b5851d7dcc7eb33765d506e530b8d2e612e6...   \n",
       "2       dd0685efa8397ab65468ea28f229fa61a1ca2e8fe7e311...   \n",
       "3       d47aa62de79d88ecee263e07456555d99ff8957f1760d0...   \n",
       "4       82ef440c285247789c576cd0f7dfc9b047bff7606baf3a...   \n",
       "...                                                   ...   \n",
       "100430  faf963e754c62f90d61f127d4c7f17d04947cce93acd96...   \n",
       "100431  d1bb276d82e79398a211df10113f27b24678178b9176cf...   \n",
       "100432  7e9af2569848299f8aae60f4cfdeb21df32daa1f26aef4...   \n",
       "100433  22f6e7faf98caf43b1bad667f77daabb4d77656226448f...   \n",
       "100434  1486359e5347dab52c7acdcd952c4dab00c5253e82576f...   \n",
       "\n",
       "                                                      pet  \\\n",
       "0                                                 non_pet   \n",
       "1       fde208f0931f9d4ddb97b315b84ac6e15d4e4f0e1f799b...   \n",
       "2       f69c4abf9ae9fe3818287b017b06c93a19933cbf0e6e8d...   \n",
       "3                                                 non_pet   \n",
       "4       f69c4abf9ae9fe3818287b017b06c93a19933cbf0e6e8d...   \n",
       "...                                                   ...   \n",
       "100430  c70baab2d17098faa3c9d44388d6e3fb2f5a717631d7da...   \n",
       "100431  b5e59da7e51a056fca10406d710af9898b1f29e4182036...   \n",
       "100432  b5e59da7e51a056fca10406d710af9898b1f29e4182036...   \n",
       "100433                                            non_pet   \n",
       "100434  c2593beb7fab49d1b08b70d3da563e3d1eb3f3e7f347d6...   \n",
       "\n",
       "                                                flyingPet      partsEngine  \\\n",
       "0       7a7c82225a7e19701d446f6bd2a3028235c158a8b3c0d9...              0.0   \n",
       "1       a87cb96d91a4e0c357c4eaeb7dbc05ef515d183e79a8aa...              0.0   \n",
       "2       7a7c82225a7e19701d446f6bd2a3028235c158a8b3c0d9...              3.0   \n",
       "3       a87cb96d91a4e0c357c4eaeb7dbc05ef515d183e79a8aa...              2.0   \n",
       "4       a87cb96d91a4e0c357c4eaeb7dbc05ef515d183e79a8aa...              0.0   \n",
       "...                                                   ...              ...   \n",
       "100430  a87cb96d91a4e0c357c4eaeb7dbc05ef515d183e79a8aa...              0.0   \n",
       "100431  a86786a4492d950e3739a918089fba61e5ba99ec46083e...  over_ver_engine   \n",
       "100432  44338a00eafb0d85851fa471384b28c5c6683ec5e61637...              1.0   \n",
       "100433  a87cb96d91a4e0c357c4eaeb7dbc05ef515d183e79a8aa...              0.0   \n",
       "100434  a87cb96d91a4e0c357c4eaeb7dbc05ef515d183e79a8aa...  over_ver_engine   \n",
       "\n",
       "            partsHandle      partsWheel      partsKit  rankinggrade2  \\\n",
       "0                   0.0             0.0           0.0              3   \n",
       "1                   0.0             0.0           0.0              3   \n",
       "2                   3.0             3.0           3.0              3   \n",
       "3                   0.0             1.0           2.0              3   \n",
       "4                   0.0             0.0           0.0              3   \n",
       "...                 ...             ...           ...            ...   \n",
       "100430              0.0             0.0           0.0              4   \n",
       "100431  over_ver_handle  over_ver_wheel  over_ver_kit              2   \n",
       "100432              1.0             1.0           1.0              0   \n",
       "100433              0.0             0.0           0.0              3   \n",
       "100434  over_ver_handle  over_ver_wheel  over_ver_kit              0   \n",
       "\n",
       "        matchRank  \n",
       "0               2  \n",
       "1              99  \n",
       "2               3  \n",
       "3               1  \n",
       "4               1  \n",
       "...           ...  \n",
       "100430          5  \n",
       "100431         99  \n",
       "100432          4  \n",
       "100433          3  \n",
       "100434         99  \n",
       "\n",
       "[100435 rows x 13 columns]"
      ]
     },
     "execution_count": 13,
     "metadata": {},
     "output_type": "execute_result"
    }
   ],
   "source": [
    "df"
   ]
  },
  {
   "cell_type": "code",
   "execution_count": 14,
   "metadata": {},
   "outputs": [],
   "source": [
    "# 등수 예측이 목적이므로 타겟은 matchRank\n",
    "target = 'matchRank'"
   ]
  },
  {
   "cell_type": "code",
   "execution_count": 15,
   "metadata": {},
   "outputs": [
    {
     "data": {
      "image/png": "[encoded data removed]",
      "text/plain": [
       "<Figure size 720x432 with 1 Axes>"
      ]
     },
     "metadata": {
      "needs_background": "light"
     },
     "output_type": "display_data"
    }
   ],
   "source": [
    "# 타겟이 범주형데이터이므로 분류문제로 해결\n",
    "import seaborn as sns\n",
    "import matplotlib.pyplot as plt\n",
    "\n",
    "fig = sns.displot(df[target])\n",
    "fig.fig.set_size_inches(10,6)"
   ]
  },
  {
   "cell_type": "code",
   "execution_count": 16,
   "metadata": {},
   "outputs": [
    {
     "data": {
      "text/plain": [
       "1     0.378484\n",
       "2     0.230159\n",
       "99    0.211351\n",
       "3     0.072943\n",
       "4     0.040096\n",
       "5     0.026903\n",
       "6     0.018709\n",
       "7     0.013919\n",
       "8     0.007438\n",
       "Name: matchRank, dtype: float64"
      ]
     },
     "execution_count": 16,
     "metadata": {},
     "output_type": "execute_result"
    }
   ],
   "source": [
    "df[target].value_counts(normalize=True)"
   ]
  },
  {
   "cell_type": "code",
   "execution_count": 17,
   "metadata": {},
   "outputs": [],
   "source": [
    "major = df[target].mode()[0]\n",
    "pred = [major] * len(df[target])"
   ]
  },
  {
   "cell_type": "code",
   "execution_count": 18,
   "metadata": {},
   "outputs": [
    {
     "name": "stdout",
     "output_type": "stream",
     "text": [
      "training accuracy:  0.20783683329878372\n"
     ]
    }
   ],
   "source": [
    "from sklearn.metrics import f1_score\n",
    "import sklearn.metrics as metrics\n",
    "\n",
    "# 기준모델의 평가지표\n",
    "print(\"training accuracy: \", metrics.f1_score(df[target], pred,average ='weighted'))"
   ]
  },
  {
   "cell_type": "code",
   "execution_count": 19,
   "metadata": {},
   "outputs": [],
   "source": [
    "from sklearn.model_selection import train_test_split\n",
    "train, test = train_test_split(df, train_size=0.7, stratify=df[target], random_state=2)"
   ]
  },
  {
   "cell_type": "code",
   "execution_count": 20,
   "metadata": {},
   "outputs": [
    {
     "data": {
      "text/plain": [
       "((70304, 13), (30131, 13))"
      ]
     },
     "execution_count": 20,
     "metadata": {},
     "output_type": "execute_result"
    }
   ],
   "source": [
    "train.shape,test.shape"
   ]
  },
  {
   "cell_type": "code",
   "execution_count": 21,
   "metadata": {},
   "outputs": [],
   "source": [
    "import pandas as pd\n",
    "import numpy as np\n",
    "from sklearn.model_selection import train_test_split\n",
    "\n",
    "def divide_data(df):\n",
    "    X = df.drop('matchRank', axis = 1)\n",
    "    y = df['matchRank']\n",
    "    return X, y"
   ]
  },
  {
   "cell_type": "code",
   "execution_count": 22,
   "metadata": {},
   "outputs": [],
   "source": [
    "train, test = train_test_split(df, train_size=0.7, stratify=df[target], random_state=2)\n",
    "X_train, y_train = divide_data(train)\n",
    "X_test, y_test = divide_data(test)"
   ]
  },
  {
   "cell_type": "code",
   "execution_count": 23,
   "metadata": {},
   "outputs": [
    {
     "name": "stdout",
     "output_type": "stream",
     "text": [
      "(70304, 12) (70304,)\n",
      "(30131, 12) (30131,)\n"
     ]
    }
   ],
   "source": [
    "print(X_train.shape,y_train.shape)\n",
    "print(X_test.shape,y_test.shape)"
   ]
  },
  {
   "cell_type": "code",
   "execution_count": 24,
   "metadata": {},
   "outputs": [],
   "source": [
    "from sklearn.metrics import accuracy_score, precision_score, recall_score, confusion_matrix\n",
    "\n",
    "def get_clf_eval(y_test, pred):\n",
    "    confusion = confusion_matrix(y_test, pred)\n",
    "    accuracy = accuracy_score(y_test, pred)\n",
    "    precision = precision_score(y_test, pred,average='weighted')\n",
    "    recall = recall_score(y_test, pred,average='weighted')\n",
    "    print('Confusion Matrix')\n",
    "    print(confusion)\n",
    "    print('정확도:{}, 정밀도:{}, 재현율:{}'.format(accuracy, precision, recall))"
   ]
  },
  {
   "cell_type": "code",
   "execution_count": 25,
   "metadata": {},
   "outputs": [],
   "source": [
    "import warnings\n",
    "warnings.filterwarnings(action='ignore')"
   ]
  },
  {
   "cell_type": "code",
   "execution_count": 26,
   "metadata": {},
   "outputs": [],
   "source": [
    "from sklearn.model_selection import RandomizedSearchCV\n",
    "from sklearn.pipeline import make_pipeline\n",
    "from sklearn.ensemble import RandomForestClassifier\n",
    "from category_encoders import OrdinalEncoder\n",
    "from sklearn.impute import SimpleImputer\n",
    "from scipy.stats import randint, uniform"
   ]
  },
  {
   "cell_type": "code",
   "execution_count": 27,
   "metadata": {},
   "outputs": [],
   "source": [
    "train, test = train_test_split(df, train_size=0.7, stratify=df[target], random_state=2)\n",
    "X_train, y_train = divide_data(train)\n",
    "X_test, y_test = divide_data(test)"
   ]
  },
  {
   "cell_type": "code",
   "execution_count": 28,
   "metadata": {},
   "outputs": [],
   "source": [
    "def fit_rf(X_train, y_train):\n",
    "    # YOUR CODE HERE\n",
    "    pipe = make_pipeline(\n",
    "    OrdinalEncoder(),\n",
    "    SimpleImputer(),  \n",
    "    RandomForestClassifier(class_weight = \"balanced\", random_state=42)\n",
    "    )\n",
    "    dists = {\n",
    "    'randomforestclassifier__max_depth' : randint(1, 30),\n",
    "    'randomforestclassifier__max_features' : randint(1, 10),\n",
    "    'randomforestclassifier__n_estimators' : randint(1, 300)\n",
    "    }\n",
    "    clf = RandomizedSearchCV(\n",
    "    pipe, \n",
    "    param_distributions=dists, \n",
    "    n_iter=10, \n",
    "    cv=5, \n",
    "    scoring='f1',  \n",
    "    verbose=1,\n",
    "    n_jobs=-1,\n",
    "    random_state = 42\n",
    "    )\n",
    "    # YOUR CODE ENDS HERE\n",
    "\n",
    "    clf.fit(X_train, y_train)\n",
    "    print(\"Optimal Hyperparameter:\", clf.best_params_)\n",
    "\n",
    "    return clf"
   ]
  },
  {
   "cell_type": "code",
   "execution_count": 29,
   "metadata": {},
   "outputs": [
    {
     "name": "stdout",
     "output_type": "stream",
     "text": [
      "Fitting 5 folds for each of 10 candidates, totalling 50 fits\n",
      "Optimal Hyperparameter: {'randomforestclassifier__max_depth': 7, 'randomforestclassifier__max_features': 4, 'randomforestclassifier__n_estimators': 271}\n"
     ]
    }
   ],
   "source": [
    "clf_rf = fit_rf(X_train, y_train)"
   ]
  },
  {
   "cell_type": "code",
   "execution_count": 30,
   "metadata": {},
   "outputs": [
    {
     "name": "stdout",
     "output_type": "stream",
     "text": [
      "Confusion Matrix\n",
      "[[2500 2647 1627   36   76  859  760  794 2105]\n",
      " [ 715 2212 1048   20   31  626  422  558 1303]\n",
      " [ 267    1  468   17   13  423  270  290  449]\n",
      " [ 113    0  209    7    8  310  200  229  132]\n",
      " [  61    0  100    7    5  249  156  154   79]\n",
      " [  21    0   58    0    7  203  123  115   37]\n",
      " [  19    0   34    0    4  128   67  115   52]\n",
      " [   0    0    8    1    1   62   32  113    7]\n",
      " [ 849  378  733    9   55  698  553  888 2205]]\n",
      "정확도:0.2582058345225847, 정밀도:0.39177109034167606, 재현율:0.2582058345225847\n",
      "f1 score : 0.28965070761449174\n"
     ]
    }
   ],
   "source": [
    "pred_rf = clf_rf.predict(X_test)\n",
    "get_clf_eval(y_test, pred_rf)\n",
    "f1 = f1_score(y_test, pred_rf,average='weighted')\n",
    "print('f1 score :', f1)"
   ]
  },
  {
   "cell_type": "code",
   "execution_count": 31,
   "metadata": {},
   "outputs": [],
   "source": [
    "train, test = train_test_split(df, train_size=0.7, stratify=df[target], random_state=2)\n",
    "X_train, y_train = divide_data(train)\n",
    "X_test, y_test = divide_data(test)"
   ]
  },
  {
   "cell_type": "code",
   "execution_count": 32,
   "metadata": {},
   "outputs": [
    {
     "name": "stdout",
     "output_type": "stream",
     "text": [
      "Requirement already satisfied: catboost in c:\\users\\colacan\\anaconda3\\lib\\site-packages (1.0.4)\n",
      "Requirement already satisfied: matplotlib in c:\\users\\colacan\\anaconda3\\lib\\site-packages (from catboost) (3.5.1)\n",
      "Requirement already satisfied: graphviz in c:\\users\\colacan\\anaconda3\\lib\\site-packages (from catboost) (0.19.1)\n",
      "Requirement already satisfied: six in c:\\users\\colacan\\anaconda3\\lib\\site-packages (from catboost) (1.16.0)\n",
      "Requirement already satisfied: scipy in c:\\users\\colacan\\anaconda3\\lib\\site-packages (from catboost) (1.7.3)\n",
      "Requirement already satisfied: pandas>=0.24.0 in c:\\users\\colacan\\anaconda3\\lib\\site-packages (from catboost) (1.4.1)\n",
      "Requirement already satisfied: plotly in c:\\users\\colacan\\anaconda3\\lib\\site-packages (from catboost) (5.6.0)\n",
      "Requirement already satisfied: numpy>=1.16.0 in c:\\users\\colacan\\anaconda3\\lib\\site-packages (from catboost) (1.20.3)\n",
      "Requirement already satisfied: python-dateutil>=2.8.1 in c:\\users\\colacan\\anaconda3\\lib\\site-packages (from pandas>=0.24.0->catboost) (2.8.2)\n",
      "Requirement already satisfied: pytz>=2020.1 in c:\\users\\colacan\\anaconda3\\lib\\site-packages (from pandas>=0.24.0->catboost) (2021.3)\n",
      "Requirement already satisfied: fonttools>=4.22.0 in c:\\users\\colacan\\anaconda3\\lib\\site-packages (from matplotlib->catboost) (4.25.0)\n",
      "Requirement already satisfied: kiwisolver>=1.0.1 in c:\\users\\colacan\\anaconda3\\lib\\site-packages (from matplotlib->catboost) (1.3.2)\n",
      "Requirement already satisfied: pyparsing>=2.2.1 in c:\\users\\colacan\\anaconda3\\lib\\site-packages (from matplotlib->catboost) (3.0.4)\n",
      "Requirement already satisfied: pillow>=6.2.0 in c:\\users\\colacan\\anaconda3\\lib\\site-packages (from matplotlib->catboost) (9.0.1)\n",
      "Requirement already satisfied: cycler>=0.10 in c:\\users\\colacan\\anaconda3\\lib\\site-packages (from matplotlib->catboost) (0.11.0)\n",
      "Requirement already satisfied: packaging>=20.0 in c:\\users\\colacan\\anaconda3\\lib\\site-packages (from matplotlib->catboost) (21.3)\n",
      "Requirement already satisfied: tenacity>=6.2.0 in c:\\users\\colacan\\anaconda3\\lib\\site-packages (from plotly->catboost) (8.0.1)\n"
     ]
    }
   ],
   "source": [
    "!pip install catboost"
   ]
  },
  {
   "cell_type": "code",
   "execution_count": 33,
   "metadata": {},
   "outputs": [],
   "source": [
    "from catboost import CatBoostClassifier\n",
    "\n",
    "def fit_cb(X_train, y_train):\n",
    "    # YOUR CODE HERE\n",
    "    pipe = make_pipeline(\n",
    "    OrdinalEncoder(),\n",
    "    SimpleImputer(),  \n",
    "    CatBoostClassifier(loss_function = 'MultiClass',class_weights=[0.622,0.77,0.928,0.928,0.974,0.982,0.987,0.993,0.789],early_stopping_rounds=35,verbose=100)\n",
    "    )\n",
    "    # YOUR CODE ENDS HERE\n",
    "    pipe.fit(X_train, y_train)\n",
    "\n",
    "    return pipe"
   ]
  },
  {
   "cell_type": "code",
   "execution_count": 34,
   "metadata": {},
   "outputs": [
    {
     "name": "stdout",
     "output_type": "stream",
     "text": [
      "Learning rate set to 0.098292\n",
      "0:\tlearn: 2.0792839\ttotal: 88.3ms\tremaining: 1m 28s\n",
      "100:\tlearn: 1.5310798\ttotal: 2.06s\tremaining: 18.3s\n",
      "200:\tlearn: 1.4961407\ttotal: 4.01s\tremaining: 15.9s\n",
      "300:\tlearn: 1.4711634\ttotal: 5.95s\tremaining: 13.8s\n",
      "400:\tlearn: 1.4509433\ttotal: 7.9s\tremaining: 11.8s\n",
      "500:\tlearn: 1.4320292\ttotal: 9.84s\tremaining: 9.8s\n",
      "600:\tlearn: 1.4129688\ttotal: 11.8s\tremaining: 7.84s\n",
      "700:\tlearn: 1.3957663\ttotal: 13.8s\tremaining: 5.88s\n",
      "800:\tlearn: 1.3799354\ttotal: 15.8s\tremaining: 3.92s\n",
      "900:\tlearn: 1.3648626\ttotal: 17.8s\tremaining: 1.95s\n",
      "999:\tlearn: 1.3501424\ttotal: 19.8s\tremaining: 0us\n"
     ]
    }
   ],
   "source": [
    "clf_cb = fit_cb(X_train, y_train)"
   ]
  },
  {
   "cell_type": "code",
   "execution_count": 35,
   "metadata": {},
   "outputs": [
    {
     "name": "stdout",
     "output_type": "stream",
     "text": [
      "Confusion Matrix\n",
      "[[6788 2118  141   50   15   21   11   10 2250]\n",
      " [3254 1856  124   36   21   14    8    6 1616]\n",
      " [ 956  397   76   40   17   15   13    6  678]\n",
      " [ 461  220   65   39   15   21    5    8  374]\n",
      " [ 295  155   47   25   15   16   12   12  234]\n",
      " [ 185  121   36   25   13    4   11    7  162]\n",
      " [ 148   67   27   12    9   12    9    9  126]\n",
      " [  48   34   13    8    8   12    7   11   83]\n",
      " [2013  808   94   31   10   15    8    6 3383]]\n",
      "정확도:0.4042680296040623, 정밀도:0.35704309576619625, 재현율:0.4042680296040623\n",
      "f1 score : 0.3701013240706507\n"
     ]
    }
   ],
   "source": [
    "pred_cb = clf_cb.predict(X_test)\n",
    "get_clf_eval(y_test, pred_cb)\n",
    "f1 = f1_score(y_test, pred_cb,average='weighted')\n",
    "print('f1 score :', f1)"
   ]
  },
  {
   "cell_type": "code",
   "execution_count": 36,
   "metadata": {},
   "outputs": [],
   "source": [
    "train, test = train_test_split(df, train_size=0.7, stratify=df[target], random_state=2)\n",
    "X_train, y_train = divide_data(train)\n",
    "X_test, y_test = divide_data(test)"
   ]
  },
  {
   "cell_type": "code",
   "execution_count": 37,
   "metadata": {},
   "outputs": [
    {
     "name": "stdout",
     "output_type": "stream",
     "text": [
      "Requirement already satisfied: xgboost in c:\\users\\colacan\\anaconda3\\lib\\site-packages (1.5.2)\n",
      "Requirement already satisfied: scipy in c:\\users\\colacan\\anaconda3\\lib\\site-packages (from xgboost) (1.7.3)\n",
      "Requirement already satisfied: numpy in c:\\users\\colacan\\anaconda3\\lib\\site-packages (from xgboost) (1.20.3)\n"
     ]
    }
   ],
   "source": [
    "!pip install xgboost"
   ]
  },
  {
   "cell_type": "code",
   "execution_count": 38,
   "metadata": {},
   "outputs": [],
   "source": [
    "# XGBClassifier\n",
    "from sklearn.utils import class_weight\n",
    "from xgboost import XGBClassifier\n",
    "\n",
    "def fit_xg(X_train, y_train):\n",
    "\n",
    "    processor = make_pipeline(\n",
    "    OrdinalEncoder(),\n",
    "    SimpleImputer(strategy='median')\n",
    "    )\n",
    "    X_train_processed = processor.fit_transform(X_train)\n",
    "\n",
    "    classes_weights = class_weight.compute_sample_weight(\n",
    "        class_weight='balanced',\n",
    "        y=y_train\n",
    "    )\n",
    "    \n",
    "    clf = XGBClassifier(eval_metric='mlogloss',max_depth = 21,n_estimators = 190)\n",
    "    clf.fit(X_train_processed, y_train, sample_weight=classes_weights)\n",
    "\n",
    "    return clf"
   ]
  },
  {
   "cell_type": "code",
   "execution_count": 39,
   "metadata": {},
   "outputs": [],
   "source": [
    "clf_xg = fit_xg(X_train, y_train)"
   ]
  },
  {
   "cell_type": "code",
   "execution_count": 40,
   "metadata": {},
   "outputs": [
    {
     "name": "stdout",
     "output_type": "stream",
     "text": [
      "Confusion Matrix\n",
      "[[6678 2093  177   24   50   17    4    8 2353]\n",
      " [3623 1502  129   27   30    8   10    9 1597]\n",
      " [1117  514   42    9    6    3    1    3  503]\n",
      " [ 595  350   14    3    5    0    0    2  239]\n",
      " [ 368  281    8    2    0    0    0    2  150]\n",
      " [ 269  195    4    1    1    0    0    0   94]\n",
      " [ 203  131    6    2    0    0    0    0   77]\n",
      " [  90   89    3    0    0    0    0    0   42]\n",
      " [3132 1303  145   32   27    3    2   10 1714]]\n",
      "정확도:0.3298596130231323, 정밀도:0.27128274062014546, 재현율:0.3298596130231323\n",
      "f1 score : 0.2931629055152374\n"
     ]
    }
   ],
   "source": [
    "processor = make_pipeline(\n",
    "    OrdinalEncoder(),\n",
    "    SimpleImputer(strategy='median')\n",
    "    )\n",
    "X_test_processed = processor.fit_transform(X_test)\n",
    "\n",
    "pred_xg = clf_xg.predict(X_test_processed)\n",
    "\n",
    "get_clf_eval(y_test, pred_xg)\n",
    "\n",
    "f1 = f1_score(y_test, pred_xg,average='weighted')\n",
    "print('f1 score :', f1)"
   ]
  },
  {
   "cell_type": "code",
   "execution_count": 41,
   "metadata": {},
   "outputs": [],
   "source": [
    "import seaborn as sns\n",
    "import matplotlib.pyplot as plt\n",
    "df_by_group =  pd.DataFrame(columns = {'model 2','f1'})"
   ]
  },
  {
   "cell_type": "code",
   "execution_count": 42,
   "metadata": {},
   "outputs": [],
   "source": [
    "data_to_insert = {'model 2': 'baseline','f1': 0.2105}\n",
    "df_by_group = df_by_group.append(data_to_insert, ignore_index=True)"
   ]
  },
  {
   "cell_type": "code",
   "execution_count": 43,
   "metadata": {},
   "outputs": [],
   "source": [
    "data_to_insert = {'model 2': 'RandomForestClassifier','f1': 0.2838}\n",
    "df_by_group = df_by_group.append(data_to_insert, ignore_index=True)"
   ]
  },
  {
   "cell_type": "code",
   "execution_count": 44,
   "metadata": {},
   "outputs": [],
   "source": [
    "data_to_insert = {'model 2': 'CatBoostClassifier','f1': 0.3701}\n",
    "df_by_group = df_by_group.append(data_to_insert, ignore_index=True)"
   ]
  },
  {
   "cell_type": "code",
   "execution_count": 45,
   "metadata": {},
   "outputs": [],
   "source": [
    "data_to_insert = {'model 2': 'XGBClassifier','f1': 0.2931}\n",
    "df_by_group = df_by_group.append(data_to_insert, ignore_index=True)"
   ]
  },
  {
   "cell_type": "code",
   "execution_count": 46,
   "metadata": {},
   "outputs": [
    {
     "data": {
      "text/plain": [
       "(array([0, 1, 2, 3]),\n",
       " [Text(0, 0, 'baseline'),\n",
       "  Text(1, 0, 'RandomForestClassifier'),\n",
       "  Text(2, 0, 'CatBoostClassifier'),\n",
       "  Text(3, 0, 'XGBClassifier')])"
      ]
     },
     "execution_count": 46,
     "metadata": {},
     "output_type": "execute_result"
    },
    {
     "data": {
      "image/png": "[encoded data removed]",
      "text/plain": [
       "<Figure size 432x288 with 1 Axes>"
      ]
     },
     "metadata": {
      "needs_background": "light"
     },
     "output_type": "display_data"
    }
   ],
   "source": [
    "df_by_group.plot.bar(x='model 2',y='f1',rot=0)\n",
    "plt.xticks(rotation=45)"
   ]
  },
  {
   "cell_type": "code",
   "execution_count": 47,
   "metadata": {},
   "outputs": [],
   "source": [
    "train, test = train_test_split(df, train_size=0.7, stratify=df[target], random_state=2)\n",
    "X_train, y_train = divide_data(train)\n",
    "X_test, y_test = divide_data(test)"
   ]
  },
  {
   "cell_type": "code",
   "execution_count": 48,
   "metadata": {},
   "outputs": [
    {
     "name": "stdout",
     "output_type": "stream",
     "text": [
      "Learning rate set to 0.09718\n",
      "0:\tlearn: 2.0799659\ttotal: 28ms\tremaining: 28s\n",
      "100:\tlearn: 1.5239269\ttotal: 1.74s\tremaining: 15.5s\n",
      "200:\tlearn: 1.4839997\ttotal: 3.52s\tremaining: 14s\n",
      "300:\tlearn: 1.4554752\ttotal: 5.27s\tremaining: 12.2s\n",
      "400:\tlearn: 1.4327430\ttotal: 6.99s\tremaining: 10.4s\n",
      "500:\tlearn: 1.4111864\ttotal: 8.7s\tremaining: 8.67s\n",
      "600:\tlearn: 1.3904533\ttotal: 10.4s\tremaining: 6.92s\n",
      "700:\tlearn: 1.3700534\ttotal: 12.2s\tremaining: 5.19s\n",
      "800:\tlearn: 1.3515373\ttotal: 13.9s\tremaining: 3.45s\n",
      "900:\tlearn: 1.3342386\ttotal: 15.6s\tremaining: 1.72s\n",
      "999:\tlearn: 1.3166383\ttotal: 17.4s\tremaining: 0us\n",
      "Learning rate set to 0.09718\n",
      "0:\tlearn: 2.0805420\ttotal: 25.1ms\tremaining: 25.1s\n",
      "100:\tlearn: 1.5282762\ttotal: 1.85s\tremaining: 16.4s\n",
      "200:\tlearn: 1.4891612\ttotal: 3.65s\tremaining: 14.5s\n",
      "300:\tlearn: 1.4617516\ttotal: 5.4s\tremaining: 12.5s\n",
      "400:\tlearn: 1.4365313\ttotal: 7.15s\tremaining: 10.7s\n",
      "500:\tlearn: 1.4143422\ttotal: 8.93s\tremaining: 8.9s\n",
      "600:\tlearn: 1.3943283\ttotal: 10.7s\tremaining: 7.11s\n",
      "700:\tlearn: 1.3749513\ttotal: 12.5s\tremaining: 5.34s\n",
      "800:\tlearn: 1.3568744\ttotal: 14.3s\tremaining: 3.55s\n",
      "900:\tlearn: 1.3396537\ttotal: 16.2s\tremaining: 1.78s\n",
      "999:\tlearn: 1.3226228\ttotal: 18s\tremaining: 0us\n",
      "Learning rate set to 0.09718\n",
      "0:\tlearn: 2.0797836\ttotal: 24.5ms\tremaining: 24.5s\n",
      "100:\tlearn: 1.5272200\ttotal: 1.82s\tremaining: 16.2s\n",
      "200:\tlearn: 1.4901315\ttotal: 3.57s\tremaining: 14.2s\n",
      "300:\tlearn: 1.4631061\ttotal: 5.33s\tremaining: 12.4s\n",
      "400:\tlearn: 1.4394704\ttotal: 7.09s\tremaining: 10.6s\n",
      "500:\tlearn: 1.4179940\ttotal: 8.85s\tremaining: 8.82s\n",
      "600:\tlearn: 1.3967258\ttotal: 10.7s\tremaining: 7.07s\n",
      "700:\tlearn: 1.3760662\ttotal: 12.5s\tremaining: 5.32s\n",
      "800:\tlearn: 1.3562275\ttotal: 14.3s\tremaining: 3.56s\n",
      "900:\tlearn: 1.3383923\ttotal: 16.2s\tremaining: 1.78s\n",
      "999:\tlearn: 1.3216337\ttotal: 18s\tremaining: 0us\n",
      "Learning rate set to 0.09718\n",
      "0:\tlearn: 2.0819033\ttotal: 23.3ms\tremaining: 23.3s\n",
      "100:\tlearn: 1.5261346\ttotal: 1.91s\tremaining: 17s\n",
      "200:\tlearn: 1.4894423\ttotal: 3.69s\tremaining: 14.7s\n",
      "300:\tlearn: 1.4608791\ttotal: 5.49s\tremaining: 12.8s\n",
      "400:\tlearn: 1.4391876\ttotal: 7.24s\tremaining: 10.8s\n",
      "500:\tlearn: 1.4169075\ttotal: 9.08s\tremaining: 9.04s\n",
      "600:\tlearn: 1.3968236\ttotal: 10.8s\tremaining: 7.19s\n",
      "700:\tlearn: 1.3762603\ttotal: 12.6s\tremaining: 5.37s\n",
      "800:\tlearn: 1.3576041\ttotal: 14.3s\tremaining: 3.56s\n",
      "900:\tlearn: 1.3396419\ttotal: 16.1s\tremaining: 1.76s\n",
      "999:\tlearn: 1.3240184\ttotal: 17.9s\tremaining: 0us\n",
      "Learning rate set to 0.09718\n",
      "0:\tlearn: 2.0818974\ttotal: 25.4ms\tremaining: 25.4s\n",
      "100:\tlearn: 1.5261767\ttotal: 1.86s\tremaining: 16.6s\n",
      "200:\tlearn: 1.4886944\ttotal: 3.67s\tremaining: 14.6s\n",
      "300:\tlearn: 1.4614932\ttotal: 5.38s\tremaining: 12.5s\n",
      "400:\tlearn: 1.4371628\ttotal: 7.12s\tremaining: 10.6s\n",
      "500:\tlearn: 1.4151489\ttotal: 8.84s\tremaining: 8.8s\n",
      "600:\tlearn: 1.3948084\ttotal: 10.6s\tremaining: 7.03s\n",
      "700:\tlearn: 1.3757636\ttotal: 12.3s\tremaining: 5.26s\n",
      "800:\tlearn: 1.3566016\ttotal: 14.1s\tremaining: 3.5s\n",
      "900:\tlearn: 1.3388773\ttotal: 15.8s\tremaining: 1.74s\n",
      "999:\tlearn: 1.3225755\ttotal: 17.6s\tremaining: 0us\n",
      "f1 (5 folds): [0.37507727 0.37053896 0.36973846 0.37202236 0.3717662 ]\n"
     ]
    }
   ],
   "source": [
    "from sklearn.model_selection import cross_val_score\n",
    "from sklearn.metrics import make_scorer\n",
    "\n",
    "# (참고) warning 제거를 위한 코드\n",
    "np.seterr(divide='ignore', invalid='ignore')\n",
    "\n",
    "pipe = make_pipeline(\n",
    "    OrdinalEncoder(), \n",
    "    SimpleImputer(strategy='mean'),\n",
    "    CatBoostClassifier(loss_function = 'MultiClass',class_weights=[0.619,0.818,0.916,0.953,0.969,0.979,0.986,0.993,0.773],early_stopping_rounds=35,verbose=100)\n",
    ")\n",
    "\n",
    "# 5-fold 교차검증을 수행합니다.\n",
    "k = 5\n",
    "scores = cross_val_score(pipe, X_train, y_train, cv=k, scoring=make_scorer(f1_score,average ='weighted'))\n",
    "\n",
    "print(f'f1 ({k} folds):', scores)"
   ]
  },
  {
   "cell_type": "code",
   "execution_count": 49,
   "metadata": {},
   "outputs": [
    {
     "data": {
      "text/plain": [
       "0.3718286504129684"
      ]
     },
     "execution_count": 49,
     "metadata": {},
     "output_type": "execute_result"
    }
   ],
   "source": [
    "scores.mean()"
   ]
  },
  {
   "cell_type": "code",
   "execution_count": 50,
   "metadata": {},
   "outputs": [
    {
     "data": {
      "text/plain": [
       "0.001823574246439436"
      ]
     },
     "execution_count": 50,
     "metadata": {},
     "output_type": "execute_result"
    }
   ],
   "source": [
    "scores.std()\n",
    "# Variance가 작다는 것은 모델 complexity에 비해 sample수가 많다"
   ]
  },
  {
   "cell_type": "code",
   "execution_count": 51,
   "metadata": {},
   "outputs": [],
   "source": [
    "import seaborn as sns\n",
    "import matplotlib.pyplot as plt\n",
    "\n",
    "data = {'fold2': ['fold1', 'fold2', 'fold3', 'fold4', 'fold5'], 'f1': [0.37507727, 0.37053896, 0.36973846, 0.37202236, 0.3717662]}\n",
    "df_by_fold = pd.DataFrame(data=data)"
   ]
  },
  {
   "cell_type": "code",
   "execution_count": 52,
   "metadata": {},
   "outputs": [
    {
     "data": {
      "text/plain": [
       "<AxesSubplot:xlabel='fold2'>"
      ]
     },
     "execution_count": 52,
     "metadata": {},
     "output_type": "execute_result"
    },
    {
     "data": {
      "image/png": "[encoded data removed]",
      "text/plain": [
       "<Figure size 432x288 with 1 Axes>"
      ]
     },
     "metadata": {
      "needs_background": "light"
     },
     "output_type": "display_data"
    }
   ],
   "source": [
    "df_by_fold.plot.bar(x='fold2',y='f1',rot=0)"
   ]
  },
  {
   "cell_type": "code",
   "execution_count": 77,
   "metadata": {},
   "outputs": [],
   "source": [
    "train, test = train_test_split(df, train_size=0.7, stratify=df[target], random_state=2)\n",
    "X_train, y_train = divide_data(train)\n",
    "X_test, y_test = divide_data(test)"
   ]
  },
  {
   "cell_type": "code",
   "execution_count": null,
   "metadata": {},
   "outputs": [],
   "source": [
    "from catboost import CatBoostClassifier\n",
    "\n",
    "def fit_cb(X_train, y_train):\n",
    "    # YOUR CODE HERE\n",
    "    pipe = make_pipeline(\n",
    "    OrdinalEncoder(),\n",
    "    SimpleImputer(),  \n",
    "    CatBoostClassifier(loss_function = 'MultiClass',class_weights=[0.622,0.77,0.928,0.928,0.974,0.982,0.987,0.993,0.789],early_stopping_rounds=35,verbose=100)\n",
    "    )\n",
    "    # YOUR CODE ENDS HERE\n",
    "    pipe.fit(X_train, y_train)\n",
    "\n",
    "    return pipe"
   ]
  },
  {
   "cell_type": "code",
   "execution_count": 79,
   "metadata": {},
   "outputs": [
    {
     "name": "stdout",
     "output_type": "stream",
     "text": [
      "Learning rate set to 0.098292\n",
      "0:\tlearn: 2.0792839\ttotal: 32.6ms\tremaining: 32.6s\n",
      "100:\tlearn: 1.5310798\ttotal: 2.11s\tremaining: 18.8s\n",
      "200:\tlearn: 1.4961407\ttotal: 4.17s\tremaining: 16.6s\n",
      "300:\tlearn: 1.4711634\ttotal: 6.18s\tremaining: 14.4s\n",
      "400:\tlearn: 1.4509433\ttotal: 8.19s\tremaining: 12.2s\n",
      "500:\tlearn: 1.4320292\ttotal: 10.2s\tremaining: 10.2s\n",
      "600:\tlearn: 1.4129688\ttotal: 12.2s\tremaining: 8.13s\n",
      "700:\tlearn: 1.3957663\ttotal: 14.3s\tremaining: 6.1s\n",
      "800:\tlearn: 1.3799354\ttotal: 16.4s\tremaining: 4.06s\n",
      "900:\tlearn: 1.3648626\ttotal: 18.4s\tremaining: 2.02s\n",
      "999:\tlearn: 1.3501424\ttotal: 20.5s\tremaining: 0us\n"
     ]
    },
    {
     "data": {
      "text/plain": [
       "<catboost.core.CatBoostClassifier at 0x163129b7220>"
      ]
     },
     "execution_count": 79,
     "metadata": {},
     "output_type": "execute_result"
    }
   ],
   "source": [
    "processor = make_pipeline(\n",
    "    OrdinalEncoder(),\n",
    "    SimpleImputer(strategy='median')\n",
    "    )\n",
    "X_train_processed = processor.fit_transform(X_train)\n",
    "\n",
    "res_clf = CatBoostClassifier(loss_function = 'MultiClass',class_weights=[0.622,0.77,0.928,0.928,0.974,0.982,0.987,0.993,0.789],early_stopping_rounds=35,verbose=100)\n",
    "\n",
    "res_clf.fit(X_train_processed,y_train)"
   ]
  },
  {
   "cell_type": "code",
   "execution_count": 97,
   "metadata": {},
   "outputs": [
    {
     "data": {
      "text/plain": [
       "array([ 8.48187497,  2.52673043, 11.82047782, 16.88065552, 12.22374631,\n",
       "       10.84198201, 11.09684469,  3.72070098,  3.54307055,  3.8935927 ,\n",
       "        3.86178176, 11.10854226])"
      ]
     },
     "execution_count": 97,
     "metadata": {},
     "output_type": "execute_result"
    }
   ],
   "source": [
    "res_clf.get_feature_importance()"
   ]
  },
  {
   "cell_type": "code",
   "execution_count": 102,
   "metadata": {},
   "outputs": [],
   "source": [
    "def plot_feature_importance(importance,names,model_type):\n",
    "    \n",
    "    #Create arrays from feature importance and feature names\n",
    "    feature_importance = np.array(importance)\n",
    "    feature_names = np.array(names)\n",
    "    \n",
    "    #Create a DataFrame using a Dictionary\n",
    "    data={'feature_names':feature_names,'feature_importance':feature_importance}\n",
    "    fi_df = pd.DataFrame(data)\n",
    "    \n",
    "    #Sort the DataFrame in order decreasing feature importance\n",
    "    fi_df.sort_values(by=['feature_importance'], ascending=False,inplace=True)\n",
    "    \n",
    "    #Define size of bar plot\n",
    "    plt.figure(figsize=(10,8))\n",
    "    #Plot Searborn bar chart\n",
    "    sns.barplot(x=fi_df['feature_importance'], y=fi_df['feature_names'])\n",
    "    #Add chart labels\n",
    "    plt.title(model_type + 'FEATURE IMPORTANCE')\n",
    "    plt.xlabel('FEATURE IMPORTANCE')\n",
    "    plt.ylabel('FEATURE NAMES')"
   ]
  },
  {
   "cell_type": "code",
   "execution_count": 103,
   "metadata": {},
   "outputs": [
    {
     "data": {
      "image/png": "[encoded data removed]",
      "text/plain": [
       "<Figure size 720x576 with 1 Axes>"
      ]
     },
     "metadata": {
      "needs_background": "light"
     },
     "output_type": "display_data"
    }
   ],
   "source": [
    "plot_feature_importance(res_clf.get_feature_importance(),X_train.columns,'CATBOOST')"
   ]
  },
  {
   "cell_type": "code",
   "execution_count": 129,
   "metadata": {},
   "outputs": [],
   "source": [
    "import seaborn as sns\n",
    "import matplotlib.pyplot as plt\n",
    "\n",
    "df_by_feature = pd.DataFrame(columns=['channelName','gameSpeed','matchType','trackId','kart','pet','flyingPet','partsEngine','partsHandle','partsWheel','partsKit','rankinggrade2'])"
   ]
  },
  {
   "cell_type": "code",
   "execution_count": 130,
   "metadata": {},
   "outputs": [
    {
     "data": {
      "text/html": [
       "<div>\n",
       "<style scoped>\n",
       "    .dataframe tbody tr th:only-of-type {\n",
       "        vertical-align: middle;\n",
       "    }\n",
       "\n",
       "    .dataframe tbody tr th {\n",
       "        vertical-align: top;\n",
       "    }\n",
       "\n",
       "    .dataframe thead th {\n",
       "        text-align: right;\n",
       "    }\n",
       "</style>\n",
       "<table border=\"1\" class=\"dataframe\">\n",
       "  <thead>\n",
       "    <tr style=\"text-align: right;\">\n",
       "      <th></th>\n",
       "      <th>channelName</th>\n",
       "      <th>gameSpeed</th>\n",
       "      <th>matchType</th>\n",
       "      <th>trackId</th>\n",
       "      <th>kart</th>\n",
       "      <th>pet</th>\n",
       "      <th>flyingPet</th>\n",
       "      <th>partsEngine</th>\n",
       "      <th>partsHandle</th>\n",
       "      <th>partsWheel</th>\n",
       "      <th>partsKit</th>\n",
       "      <th>rankinggrade2</th>\n",
       "    </tr>\n",
       "  </thead>\n",
       "  <tbody>\n",
       "  </tbody>\n",
       "</table>\n",
       "</div>"
      ],
      "text/plain": [
       "Empty DataFrame\n",
       "Columns: [channelName, gameSpeed, matchType, trackId, kart, pet, flyingPet, partsEngine, partsHandle, partsWheel, partsKit, rankinggrade2]\n",
       "Index: []"
      ]
     },
     "execution_count": 130,
     "metadata": {},
     "output_type": "execute_result"
    }
   ],
   "source": [
    "df_by_feature"
   ]
  },
  {
   "cell_type": "code",
   "execution_count": 131,
   "metadata": {},
   "outputs": [],
   "source": [
    "row = [ 9.42506961,  3.8843528 ,  3.6941246 , 18.29352653, 13.32113064,\n",
    "       12.2050236 , 12.24629638,  3.98242717,  3.26797755,  3.67377797,\n",
    "        3.28963557, 12.71665759]\n",
    "df_by_feature = df_by_feature.append(pd.Series(row, index=df_by_feature.columns), ignore_index=True)"
   ]
  },
  {
   "cell_type": "code",
   "execution_count": 132,
   "metadata": {},
   "outputs": [
    {
     "data": {
      "text/html": [
       "<div>\n",
       "<style scoped>\n",
       "    .dataframe tbody tr th:only-of-type {\n",
       "        vertical-align: middle;\n",
       "    }\n",
       "\n",
       "    .dataframe tbody tr th {\n",
       "        vertical-align: top;\n",
       "    }\n",
       "\n",
       "    .dataframe thead th {\n",
       "        text-align: right;\n",
       "    }\n",
       "</style>\n",
       "<table border=\"1\" class=\"dataframe\">\n",
       "  <thead>\n",
       "    <tr style=\"text-align: right;\">\n",
       "      <th></th>\n",
       "      <th>channelName</th>\n",
       "      <th>gameSpeed</th>\n",
       "      <th>matchType</th>\n",
       "      <th>trackId</th>\n",
       "      <th>kart</th>\n",
       "      <th>pet</th>\n",
       "      <th>flyingPet</th>\n",
       "      <th>partsEngine</th>\n",
       "      <th>partsHandle</th>\n",
       "      <th>partsWheel</th>\n",
       "      <th>partsKit</th>\n",
       "      <th>rankinggrade2</th>\n",
       "    </tr>\n",
       "  </thead>\n",
       "  <tbody>\n",
       "    <tr>\n",
       "      <th>0</th>\n",
       "      <td>9.42507</td>\n",
       "      <td>3.884353</td>\n",
       "      <td>3.694125</td>\n",
       "      <td>18.293527</td>\n",
       "      <td>13.321131</td>\n",
       "      <td>12.205024</td>\n",
       "      <td>12.246296</td>\n",
       "      <td>3.982427</td>\n",
       "      <td>3.267978</td>\n",
       "      <td>3.673778</td>\n",
       "      <td>3.289636</td>\n",
       "      <td>12.716658</td>\n",
       "    </tr>\n",
       "  </tbody>\n",
       "</table>\n",
       "</div>"
      ],
      "text/plain": [
       "  channelName gameSpeed matchType    trackId       kart        pet  flyingPet  \\\n",
       "0     9.42507  3.884353  3.694125  18.293527  13.321131  12.205024  12.246296   \n",
       "\n",
       "  partsEngine partsHandle partsWheel  partsKit rankinggrade2  \n",
       "0    3.982427    3.267978   3.673778  3.289636     12.716658  "
      ]
     },
     "execution_count": 132,
     "metadata": {},
     "output_type": "execute_result"
    }
   ],
   "source": [
    "df_by_feature"
   ]
  },
  {
   "cell_type": "code",
   "execution_count": 134,
   "metadata": {},
   "outputs": [
    {
     "data": {
      "text/plain": [
       "<AxesSubplot:>"
      ]
     },
     "execution_count": 134,
     "metadata": {},
     "output_type": "execute_result"
    },
    {
     "data": {
      "image/png": "[encoded data removed]",
      "text/plain": [
       "<Figure size 432x288 with 1 Axes>"
      ]
     },
     "metadata": {
      "needs_background": "light"
     },
     "output_type": "display_data"
    }
   ],
   "source": [
    "df_by_feature.plot.bar()"
   ]
  },
  {
   "cell_type": "code",
   "execution_count": 135,
   "metadata": {},
   "outputs": [],
   "source": [
    "import seaborn as sns\n",
    "import matplotlib.pyplot as plt\n",
    "\n",
    "df_by_feature2 = pd.DataFrame(columns=['channelName','gameSpeed','matchType','trackId','kart','pet','flyingPet','partsEngine','partsHandle','partsWheel','partsKit','rankinggrade2'])"
   ]
  },
  {
   "cell_type": "code",
   "execution_count": 136,
   "metadata": {},
   "outputs": [],
   "source": [
    "row2 = [ 8.48187497,  2.52673043, 11.82047782, 16.88065552, 12.22374631,\n",
    "       10.84198201, 11.09684469,  3.72070098,  3.54307055,  3.8935927 ,\n",
    "        3.86178176, 11.10854226]\n",
    "df_by_feature2 = df_by_feature2.append(pd.Series(row2, index=df_by_feature2.columns), ignore_index=True)"
   ]
  },
  {
   "cell_type": "code",
   "execution_count": 137,
   "metadata": {},
   "outputs": [
    {
     "data": {
      "text/html": [
       "<div>\n",
       "<style scoped>\n",
       "    .dataframe tbody tr th:only-of-type {\n",
       "        vertical-align: middle;\n",
       "    }\n",
       "\n",
       "    .dataframe tbody tr th {\n",
       "        vertical-align: top;\n",
       "    }\n",
       "\n",
       "    .dataframe thead th {\n",
       "        text-align: right;\n",
       "    }\n",
       "</style>\n",
       "<table border=\"1\" class=\"dataframe\">\n",
       "  <thead>\n",
       "    <tr style=\"text-align: right;\">\n",
       "      <th></th>\n",
       "      <th>channelName</th>\n",
       "      <th>gameSpeed</th>\n",
       "      <th>matchType</th>\n",
       "      <th>trackId</th>\n",
       "      <th>kart</th>\n",
       "      <th>pet</th>\n",
       "      <th>flyingPet</th>\n",
       "      <th>partsEngine</th>\n",
       "      <th>partsHandle</th>\n",
       "      <th>partsWheel</th>\n",
       "      <th>partsKit</th>\n",
       "      <th>rankinggrade2</th>\n",
       "    </tr>\n",
       "  </thead>\n",
       "  <tbody>\n",
       "    <tr>\n",
       "      <th>0</th>\n",
       "      <td>8.481875</td>\n",
       "      <td>2.52673</td>\n",
       "      <td>11.820478</td>\n",
       "      <td>16.880656</td>\n",
       "      <td>12.223746</td>\n",
       "      <td>10.841982</td>\n",
       "      <td>11.096845</td>\n",
       "      <td>3.720701</td>\n",
       "      <td>3.543071</td>\n",
       "      <td>3.893593</td>\n",
       "      <td>3.861782</td>\n",
       "      <td>11.108542</td>\n",
       "    </tr>\n",
       "  </tbody>\n",
       "</table>\n",
       "</div>"
      ],
      "text/plain": [
       "  channelName gameSpeed  matchType    trackId       kart        pet  \\\n",
       "0    8.481875   2.52673  11.820478  16.880656  12.223746  10.841982   \n",
       "\n",
       "   flyingPet partsEngine partsHandle partsWheel  partsKit rankinggrade2  \n",
       "0  11.096845    3.720701    3.543071   3.893593  3.861782     11.108542  "
      ]
     },
     "execution_count": 137,
     "metadata": {},
     "output_type": "execute_result"
    }
   ],
   "source": [
    "df_by_feature2"
   ]
  },
  {
   "cell_type": "code",
   "execution_count": 138,
   "metadata": {},
   "outputs": [
    {
     "data": {
      "text/plain": [
       "<AxesSubplot:>"
      ]
     },
     "execution_count": 138,
     "metadata": {},
     "output_type": "execute_result"
    },
    {
     "data": {
      "image/png": "[encoded data removed]",
      "text/plain": [
       "<Figure size 432x288 with 1 Axes>"
      ]
     },
     "metadata": {
      "needs_background": "light"
     },
     "output_type": "display_data"
    }
   ],
   "source": [
    "df_by_feature2.plot.bar()"
   ]
  },
  {
   "cell_type": "code",
   "execution_count": null,
   "metadata": {},
   "outputs": [],
   "source": []
  }
 ],
 "metadata": {
  "interpreter": {
   "hash": "2777d6cdcc847d8b23e024fdc471fca5052584b8a5117ac6ff394b98c975e41f"
  },
  "kernelspec": {
   "display_name": "Python 3.8.12 ('base')",
   "language": "python",
   "name": "python3"
  },
  "language_info": {
   "codemirror_mode": {
    "name": "ipython",
    "version": 3
   },
   "file_extension": ".py",
   "mimetype": "text/x-python",
   "name": "python",
   "nbconvert_exporter": "python",
   "pygments_lexer": "ipython3",
   "version": "3.8.12"
  },
  "orig_nbformat": 4
 },
 "nbformat": 4,
 "nbformat_minor": 2
}
