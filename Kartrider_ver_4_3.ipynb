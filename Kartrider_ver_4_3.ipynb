{
 "cells": [
  {
   "cell_type": "code",
   "execution_count": 8,
   "metadata": {},
   "outputs": [],
   "source": [
    "import pandas as pd\n",
    "df = pd.read_csv('C:\\\\Users\\\\colacan\\\\Documents\\\\GitHub\\\\Kartrider_Meta_Analysis_Project\\kartrider_eda.csv')"
   ]
  },
  {
   "cell_type": "code",
   "execution_count": 9,
   "metadata": {},
   "outputs": [],
   "source": [
    "df = df.drop('Unnamed: 0', axis = 1)"
   ]
  },
  {
   "cell_type": "code",
   "execution_count": 10,
   "metadata": {},
   "outputs": [
    {
     "data": {
      "text/html": [
       "<div>\n",
       "<style scoped>\n",
       "    .dataframe tbody tr th:only-of-type {\n",
       "        vertical-align: middle;\n",
       "    }\n",
       "\n",
       "    .dataframe tbody tr th {\n",
       "        vertical-align: top;\n",
       "    }\n",
       "\n",
       "    .dataframe thead th {\n",
       "        text-align: right;\n",
       "    }\n",
       "</style>\n",
       "<table border=\"1\" class=\"dataframe\">\n",
       "  <thead>\n",
       "    <tr style=\"text-align: right;\">\n",
       "      <th></th>\n",
       "      <th>channelName</th>\n",
       "      <th>gameSpeed</th>\n",
       "      <th>matchType</th>\n",
       "      <th>trackId</th>\n",
       "      <th>kart</th>\n",
       "      <th>pet</th>\n",
       "      <th>flyingPet</th>\n",
       "      <th>partsEngine</th>\n",
       "      <th>partsHandle</th>\n",
       "      <th>partsWheel</th>\n",
       "      <th>partsKit</th>\n",
       "      <th>rankinggrade2</th>\n",
       "      <th>matchRank</th>\n",
       "    </tr>\n",
       "  </thead>\n",
       "  <tbody>\n",
       "    <tr>\n",
       "      <th>0</th>\n",
       "      <td>speedIndiCombine</td>\n",
       "      <td>7</td>\n",
       "      <td>7b9f0fd5377c38514dbb78ebe63ac6c3b81009d5a31dd5...</td>\n",
       "      <td>2fd45f66e1c8df78c260aeffab51e3d9ba41bbd4a3952a...</td>\n",
       "      <td>9d20fe9502958d53fba8fd567036e853318407e575fa82...</td>\n",
       "      <td>36e0b23b8a828cbe001bc81e4580db8f27637febb3bcfc...</td>\n",
       "      <td>a87cb96d91a4e0c357c4eaeb7dbc05ef515d183e79a8aa...</td>\n",
       "      <td>over_ver_engine</td>\n",
       "      <td>over_ver_handle</td>\n",
       "      <td>over_ver_wheel</td>\n",
       "      <td>over_ver_kit</td>\n",
       "      <td>3</td>\n",
       "      <td>1.0</td>\n",
       "    </tr>\n",
       "    <tr>\n",
       "      <th>1</th>\n",
       "      <td>speedIndiInfinit</td>\n",
       "      <td>4</td>\n",
       "      <td>7b9f0fd5377c38514dbb78ebe63ac6c3b81009d5a31dd5...</td>\n",
       "      <td>3a801d3a1be83ef6c290f942e9a9c90b8a5ebc8d978eaa...</td>\n",
       "      <td>d47aa62de79d88ecee263e07456555d99ff8957f1760d0...</td>\n",
       "      <td>non_pet</td>\n",
       "      <td>non_flyingPet</td>\n",
       "      <td>1.0</td>\n",
       "      <td>1.0</td>\n",
       "      <td>1.0</td>\n",
       "      <td>1.0</td>\n",
       "      <td>2</td>\n",
       "      <td>1.0</td>\n",
       "    </tr>\n",
       "    <tr>\n",
       "      <th>2</th>\n",
       "      <td>speedIndiCombine</td>\n",
       "      <td>7</td>\n",
       "      <td>7b9f0fd5377c38514dbb78ebe63ac6c3b81009d5a31dd5...</td>\n",
       "      <td>d167c7195cee3b4e65cf30f507affb0a85d00a5babfc6a...</td>\n",
       "      <td>eb333073a3486846660dc9e82e6b0c55c508c31853e4f4...</td>\n",
       "      <td>7b34fb3da1d2b564672a2ae3938c7ad011f2743e18f088...</td>\n",
       "      <td>d064fb1098287bc1ddf83798b94585ee317dcd90275b10...</td>\n",
       "      <td>over_ver_engine</td>\n",
       "      <td>over_ver_handle</td>\n",
       "      <td>over_ver_wheel</td>\n",
       "      <td>over_ver_kit</td>\n",
       "      <td>3</td>\n",
       "      <td>1.0</td>\n",
       "    </tr>\n",
       "    <tr>\n",
       "      <th>3</th>\n",
       "      <td>speedIndiNewbie</td>\n",
       "      <td>7</td>\n",
       "      <td>7b9f0fd5377c38514dbb78ebe63ac6c3b81009d5a31dd5...</td>\n",
       "      <td>8d50ed8ae32a4ce260dd7d8303552f72f3e80f15d8bf41...</td>\n",
       "      <td>2aeff87dba14c8445406fac69263eb788a40e1bb792b36...</td>\n",
       "      <td>e021e32edef255c629c3d46b02e639cbb5093f536d06e7...</td>\n",
       "      <td>16c0894cf7de4a419b2a4fb40568922546ac1436db1bda...</td>\n",
       "      <td>over_ver_engine</td>\n",
       "      <td>over_ver_handle</td>\n",
       "      <td>over_ver_wheel</td>\n",
       "      <td>over_ver_kit</td>\n",
       "      <td>0</td>\n",
       "      <td>1.0</td>\n",
       "    </tr>\n",
       "    <tr>\n",
       "      <th>4</th>\n",
       "      <td>speedIndiInfinit</td>\n",
       "      <td>4</td>\n",
       "      <td>7b9f0fd5377c38514dbb78ebe63ac6c3b81009d5a31dd5...</td>\n",
       "      <td>3a801d3a1be83ef6c290f942e9a9c90b8a5ebc8d978eaa...</td>\n",
       "      <td>5dae1a3dd645b7e8ee1e61b51c7f4111d9861b08ed0cdc...</td>\n",
       "      <td>non_pet</td>\n",
       "      <td>a87cb96d91a4e0c357c4eaeb7dbc05ef515d183e79a8aa...</td>\n",
       "      <td>over_ver_engine</td>\n",
       "      <td>over_ver_handle</td>\n",
       "      <td>over_ver_wheel</td>\n",
       "      <td>over_ver_kit</td>\n",
       "      <td>5</td>\n",
       "      <td>1.0</td>\n",
       "    </tr>\n",
       "    <tr>\n",
       "      <th>...</th>\n",
       "      <td>...</td>\n",
       "      <td>...</td>\n",
       "      <td>...</td>\n",
       "      <td>...</td>\n",
       "      <td>...</td>\n",
       "      <td>...</td>\n",
       "      <td>...</td>\n",
       "      <td>...</td>\n",
       "      <td>...</td>\n",
       "      <td>...</td>\n",
       "      <td>...</td>\n",
       "      <td>...</td>\n",
       "      <td>...</td>\n",
       "    </tr>\n",
       "    <tr>\n",
       "      <th>99027</th>\n",
       "      <td>itemIndiCombine</td>\n",
       "      <td>7</td>\n",
       "      <td>7ca6fd44026a2c8f5d939b60aa56b4b1714b9cc2355ec5...</td>\n",
       "      <td>692fe5afee5a6423472247e044d61f813ca86a3bd72e5a...</td>\n",
       "      <td>7e9af2569848299f8aae60f4cfdeb21df32daa1f26aef4...</td>\n",
       "      <td>875fb610637b0d48341b73c0bdb078fa90954c477ea9f2...</td>\n",
       "      <td>0ba76db19374fe129bea077d5f72b9db5e5763afef4432...</td>\n",
       "      <td>1.0</td>\n",
       "      <td>1.0</td>\n",
       "      <td>1.0</td>\n",
       "      <td>1.0</td>\n",
       "      <td>2</td>\n",
       "      <td>1.0</td>\n",
       "    </tr>\n",
       "    <tr>\n",
       "      <th>99028</th>\n",
       "      <td>itemIndiCombine</td>\n",
       "      <td>7</td>\n",
       "      <td>7ca6fd44026a2c8f5d939b60aa56b4b1714b9cc2355ec5...</td>\n",
       "      <td>692fe5afee5a6423472247e044d61f813ca86a3bd72e5a...</td>\n",
       "      <td>227c55eaa613b7932ff0ed5918bca667aa609dd18d5be4...</td>\n",
       "      <td>fde208f0931f9d4ddb97b315b84ac6e15d4e4f0e1f799b...</td>\n",
       "      <td>non_flyingPet</td>\n",
       "      <td>over_ver_engine</td>\n",
       "      <td>over_ver_handle</td>\n",
       "      <td>over_ver_wheel</td>\n",
       "      <td>over_ver_kit</td>\n",
       "      <td>1</td>\n",
       "      <td>99.0</td>\n",
       "    </tr>\n",
       "    <tr>\n",
       "      <th>99029</th>\n",
       "      <td>itemIndiCombine</td>\n",
       "      <td>7</td>\n",
       "      <td>7ca6fd44026a2c8f5d939b60aa56b4b1714b9cc2355ec5...</td>\n",
       "      <td>692fe5afee5a6423472247e044d61f813ca86a3bd72e5a...</td>\n",
       "      <td>7e9af2569848299f8aae60f4cfdeb21df32daa1f26aef4...</td>\n",
       "      <td>b5e59da7e51a056fca10406d710af9898b1f29e4182036...</td>\n",
       "      <td>a87cb96d91a4e0c357c4eaeb7dbc05ef515d183e79a8aa...</td>\n",
       "      <td>1.0</td>\n",
       "      <td>0.0</td>\n",
       "      <td>1.0</td>\n",
       "      <td>2.0</td>\n",
       "      <td>2</td>\n",
       "      <td>5.0</td>\n",
       "    </tr>\n",
       "    <tr>\n",
       "      <th>99030</th>\n",
       "      <td>itemIndiCombine</td>\n",
       "      <td>7</td>\n",
       "      <td>7ca6fd44026a2c8f5d939b60aa56b4b1714b9cc2355ec5...</td>\n",
       "      <td>692fe5afee5a6423472247e044d61f813ca86a3bd72e5a...</td>\n",
       "      <td>faf963e754c62f90d61f127d4c7f17d04947cce93acd96...</td>\n",
       "      <td>b5e59da7e51a056fca10406d710af9898b1f29e4182036...</td>\n",
       "      <td>8cc64a4759f245b29ecb30043ae6eb9f9cd63ece7fd9f4...</td>\n",
       "      <td>0.0</td>\n",
       "      <td>0.0</td>\n",
       "      <td>0.0</td>\n",
       "      <td>0.0</td>\n",
       "      <td>2</td>\n",
       "      <td>2.0</td>\n",
       "    </tr>\n",
       "    <tr>\n",
       "      <th>99031</th>\n",
       "      <td>itemIndiCombine</td>\n",
       "      <td>7</td>\n",
       "      <td>7ca6fd44026a2c8f5d939b60aa56b4b1714b9cc2355ec5...</td>\n",
       "      <td>692fe5afee5a6423472247e044d61f813ca86a3bd72e5a...</td>\n",
       "      <td>199114d190e456acde0c46e436c2770cc2ead1e8641027...</td>\n",
       "      <td>492e06ae60ff9d70c311cab587117173484ff667a58832...</td>\n",
       "      <td>a87cb96d91a4e0c357c4eaeb7dbc05ef515d183e79a8aa...</td>\n",
       "      <td>2.0</td>\n",
       "      <td>1.0</td>\n",
       "      <td>2.0</td>\n",
       "      <td>2.0</td>\n",
       "      <td>0</td>\n",
       "      <td>4.0</td>\n",
       "    </tr>\n",
       "  </tbody>\n",
       "</table>\n",
       "<p>99032 rows × 13 columns</p>\n",
       "</div>"
      ],
      "text/plain": [
       "            channelName  gameSpeed  \\\n",
       "0      speedIndiCombine          7   \n",
       "1      speedIndiInfinit          4   \n",
       "2      speedIndiCombine          7   \n",
       "3       speedIndiNewbie          7   \n",
       "4      speedIndiInfinit          4   \n",
       "...                 ...        ...   \n",
       "99027   itemIndiCombine          7   \n",
       "99028   itemIndiCombine          7   \n",
       "99029   itemIndiCombine          7   \n",
       "99030   itemIndiCombine          7   \n",
       "99031   itemIndiCombine          7   \n",
       "\n",
       "                                               matchType  \\\n",
       "0      7b9f0fd5377c38514dbb78ebe63ac6c3b81009d5a31dd5...   \n",
       "1      7b9f0fd5377c38514dbb78ebe63ac6c3b81009d5a31dd5...   \n",
       "2      7b9f0fd5377c38514dbb78ebe63ac6c3b81009d5a31dd5...   \n",
       "3      7b9f0fd5377c38514dbb78ebe63ac6c3b81009d5a31dd5...   \n",
       "4      7b9f0fd5377c38514dbb78ebe63ac6c3b81009d5a31dd5...   \n",
       "...                                                  ...   \n",
       "99027  7ca6fd44026a2c8f5d939b60aa56b4b1714b9cc2355ec5...   \n",
       "99028  7ca6fd44026a2c8f5d939b60aa56b4b1714b9cc2355ec5...   \n",
       "99029  7ca6fd44026a2c8f5d939b60aa56b4b1714b9cc2355ec5...   \n",
       "99030  7ca6fd44026a2c8f5d939b60aa56b4b1714b9cc2355ec5...   \n",
       "99031  7ca6fd44026a2c8f5d939b60aa56b4b1714b9cc2355ec5...   \n",
       "\n",
       "                                                 trackId  \\\n",
       "0      2fd45f66e1c8df78c260aeffab51e3d9ba41bbd4a3952a...   \n",
       "1      3a801d3a1be83ef6c290f942e9a9c90b8a5ebc8d978eaa...   \n",
       "2      d167c7195cee3b4e65cf30f507affb0a85d00a5babfc6a...   \n",
       "3      8d50ed8ae32a4ce260dd7d8303552f72f3e80f15d8bf41...   \n",
       "4      3a801d3a1be83ef6c290f942e9a9c90b8a5ebc8d978eaa...   \n",
       "...                                                  ...   \n",
       "99027  692fe5afee5a6423472247e044d61f813ca86a3bd72e5a...   \n",
       "99028  692fe5afee5a6423472247e044d61f813ca86a3bd72e5a...   \n",
       "99029  692fe5afee5a6423472247e044d61f813ca86a3bd72e5a...   \n",
       "99030  692fe5afee5a6423472247e044d61f813ca86a3bd72e5a...   \n",
       "99031  692fe5afee5a6423472247e044d61f813ca86a3bd72e5a...   \n",
       "\n",
       "                                                    kart  \\\n",
       "0      9d20fe9502958d53fba8fd567036e853318407e575fa82...   \n",
       "1      d47aa62de79d88ecee263e07456555d99ff8957f1760d0...   \n",
       "2      eb333073a3486846660dc9e82e6b0c55c508c31853e4f4...   \n",
       "3      2aeff87dba14c8445406fac69263eb788a40e1bb792b36...   \n",
       "4      5dae1a3dd645b7e8ee1e61b51c7f4111d9861b08ed0cdc...   \n",
       "...                                                  ...   \n",
       "99027  7e9af2569848299f8aae60f4cfdeb21df32daa1f26aef4...   \n",
       "99028  227c55eaa613b7932ff0ed5918bca667aa609dd18d5be4...   \n",
       "99029  7e9af2569848299f8aae60f4cfdeb21df32daa1f26aef4...   \n",
       "99030  faf963e754c62f90d61f127d4c7f17d04947cce93acd96...   \n",
       "99031  199114d190e456acde0c46e436c2770cc2ead1e8641027...   \n",
       "\n",
       "                                                     pet  \\\n",
       "0      36e0b23b8a828cbe001bc81e4580db8f27637febb3bcfc...   \n",
       "1                                                non_pet   \n",
       "2      7b34fb3da1d2b564672a2ae3938c7ad011f2743e18f088...   \n",
       "3      e021e32edef255c629c3d46b02e639cbb5093f536d06e7...   \n",
       "4                                                non_pet   \n",
       "...                                                  ...   \n",
       "99027  875fb610637b0d48341b73c0bdb078fa90954c477ea9f2...   \n",
       "99028  fde208f0931f9d4ddb97b315b84ac6e15d4e4f0e1f799b...   \n",
       "99029  b5e59da7e51a056fca10406d710af9898b1f29e4182036...   \n",
       "99030  b5e59da7e51a056fca10406d710af9898b1f29e4182036...   \n",
       "99031  492e06ae60ff9d70c311cab587117173484ff667a58832...   \n",
       "\n",
       "                                               flyingPet      partsEngine  \\\n",
       "0      a87cb96d91a4e0c357c4eaeb7dbc05ef515d183e79a8aa...  over_ver_engine   \n",
       "1                                          non_flyingPet              1.0   \n",
       "2      d064fb1098287bc1ddf83798b94585ee317dcd90275b10...  over_ver_engine   \n",
       "3      16c0894cf7de4a419b2a4fb40568922546ac1436db1bda...  over_ver_engine   \n",
       "4      a87cb96d91a4e0c357c4eaeb7dbc05ef515d183e79a8aa...  over_ver_engine   \n",
       "...                                                  ...              ...   \n",
       "99027  0ba76db19374fe129bea077d5f72b9db5e5763afef4432...              1.0   \n",
       "99028                                      non_flyingPet  over_ver_engine   \n",
       "99029  a87cb96d91a4e0c357c4eaeb7dbc05ef515d183e79a8aa...              1.0   \n",
       "99030  8cc64a4759f245b29ecb30043ae6eb9f9cd63ece7fd9f4...              0.0   \n",
       "99031  a87cb96d91a4e0c357c4eaeb7dbc05ef515d183e79a8aa...              2.0   \n",
       "\n",
       "           partsHandle      partsWheel      partsKit  rankinggrade2  matchRank  \n",
       "0      over_ver_handle  over_ver_wheel  over_ver_kit              3        1.0  \n",
       "1                  1.0             1.0           1.0              2        1.0  \n",
       "2      over_ver_handle  over_ver_wheel  over_ver_kit              3        1.0  \n",
       "3      over_ver_handle  over_ver_wheel  over_ver_kit              0        1.0  \n",
       "4      over_ver_handle  over_ver_wheel  over_ver_kit              5        1.0  \n",
       "...                ...             ...           ...            ...        ...  \n",
       "99027              1.0             1.0           1.0              2        1.0  \n",
       "99028  over_ver_handle  over_ver_wheel  over_ver_kit              1       99.0  \n",
       "99029              0.0             1.0           2.0              2        5.0  \n",
       "99030              0.0             0.0           0.0              2        2.0  \n",
       "99031              1.0             2.0           2.0              0        4.0  \n",
       "\n",
       "[99032 rows x 13 columns]"
      ]
     },
     "execution_count": 10,
     "metadata": {},
     "output_type": "execute_result"
    }
   ],
   "source": [
    "df"
   ]
  },
  {
   "cell_type": "code",
   "execution_count": 11,
   "metadata": {},
   "outputs": [],
   "source": [
    "# 등수 예측이 목적이므로 타겟은 matchRank\n",
    "target = 'matchRank'"
   ]
  },
  {
   "cell_type": "code",
   "execution_count": 12,
   "metadata": {},
   "outputs": [
    {
     "data": {
      "image/png": "[encoded data removed]",
      "text/plain": [
       "<Figure size 720x432 with 1 Axes>"
      ]
     },
     "metadata": {
      "needs_background": "light"
     },
     "output_type": "display_data"
    }
   ],
   "source": [
    "# 타겟이 범주형데이터이므로 분류문제로 해결\n",
    "import seaborn as sns\n",
    "import matplotlib.pyplot as plt\n",
    "\n",
    "fig = sns.displot(df[target])\n",
    "fig.fig.set_size_inches(10,6)"
   ]
  },
  {
   "cell_type": "code",
   "execution_count": 13,
   "metadata": {},
   "outputs": [
    {
     "data": {
      "text/plain": [
       "1.0     0.381301\n",
       "99.0    0.227351\n",
       "2.0     0.182941\n",
       "3.0     0.084488\n",
       "4.0     0.047752\n",
       "5.0     0.031656\n",
       "6.0     0.021882\n",
       "7.0     0.014884\n",
       "8.0     0.007745\n",
       "Name: matchRank, dtype: float64"
      ]
     },
     "execution_count": 13,
     "metadata": {},
     "output_type": "execute_result"
    }
   ],
   "source": [
    "df[target].value_counts(normalize=True)"
   ]
  },
  {
   "cell_type": "code",
   "execution_count": 14,
   "metadata": {},
   "outputs": [],
   "source": [
    "major = df[target].mode()[0]\n",
    "pred = [major] * len(df[target])"
   ]
  },
  {
   "cell_type": "code",
   "execution_count": 15,
   "metadata": {},
   "outputs": [
    {
     "name": "stdout",
     "output_type": "stream",
     "text": [
      "training accuracy:  0.21051233352609813\n"
     ]
    }
   ],
   "source": [
    "from sklearn.metrics import f1_score\n",
    "import sklearn.metrics as metrics\n",
    "\n",
    "# 기준모델의 평가지표\n",
    "print(\"training accuracy: \", metrics.f1_score(df[target], pred,average ='weighted'))"
   ]
  },
  {
   "cell_type": "code",
   "execution_count": 16,
   "metadata": {},
   "outputs": [],
   "source": [
    "from sklearn.model_selection import train_test_split\n",
    "train, test = train_test_split(df, train_size=0.7, stratify=df[target], random_state=2)"
   ]
  },
  {
   "cell_type": "code",
   "execution_count": 17,
   "metadata": {},
   "outputs": [
    {
     "data": {
      "text/plain": [
       "((69322, 13), (29710, 13))"
      ]
     },
     "execution_count": 17,
     "metadata": {},
     "output_type": "execute_result"
    }
   ],
   "source": [
    "train.shape,test.shape"
   ]
  },
  {
   "cell_type": "code",
   "execution_count": 18,
   "metadata": {},
   "outputs": [],
   "source": [
    "import pandas as pd\n",
    "import numpy as np\n",
    "from sklearn.model_selection import train_test_split\n",
    "\n",
    "def divide_data(df):\n",
    "    X = df.drop('matchRank', axis = 1)\n",
    "    y = df['matchRank']\n",
    "    return X, y"
   ]
  },
  {
   "cell_type": "code",
   "execution_count": 19,
   "metadata": {},
   "outputs": [],
   "source": [
    "train, test = train_test_split(df, train_size=0.7, stratify=df[target], random_state=2)\n",
    "X_train, y_train = divide_data(train)\n",
    "X_test, y_test = divide_data(test)"
   ]
  },
  {
   "cell_type": "code",
   "execution_count": 20,
   "metadata": {},
   "outputs": [
    {
     "name": "stdout",
     "output_type": "stream",
     "text": [
      "(69322, 12) (69322,)\n",
      "(29710, 12) (29710,)\n"
     ]
    }
   ],
   "source": [
    "print(X_train.shape,y_train.shape)\n",
    "print(X_test.shape,y_test.shape)"
   ]
  },
  {
   "cell_type": "code",
   "execution_count": 21,
   "metadata": {},
   "outputs": [
    {
     "name": "stdout",
     "output_type": "stream",
     "text": [
      "Requirement already satisfied: xgboost in c:\\users\\colacan\\anaconda3\\lib\\site-packages (1.5.2)\n",
      "Requirement already satisfied: numpy in c:\\users\\colacan\\anaconda3\\lib\\site-packages (from xgboost) (1.20.3)\n",
      "Requirement already satisfied: scipy in c:\\users\\colacan\\anaconda3\\lib\\site-packages (from xgboost) (1.7.3)\n"
     ]
    }
   ],
   "source": [
    "!pip install xgboost"
   ]
  },
  {
   "cell_type": "code",
   "execution_count": 22,
   "metadata": {},
   "outputs": [],
   "source": [
    "from sklearn.metrics import accuracy_score, precision_score, recall_score, confusion_matrix\n",
    "\n",
    "def get_clf_eval(y_test, pred):\n",
    "    confusion = confusion_matrix(y_test, pred)\n",
    "    accuracy = accuracy_score(y_test, pred)\n",
    "    precision = precision_score(y_test, pred,average='weighted')\n",
    "    recall = recall_score(y_test, pred,average='weighted')\n",
    "    print('Confusion Matrix')\n",
    "    print(confusion)\n",
    "    print('정확도:{}, 정밀도:{}, 재현율:{}'.format(accuracy, precision, recall))"
   ]
  },
  {
   "cell_type": "code",
   "execution_count": 23,
   "metadata": {},
   "outputs": [],
   "source": [
    "import warnings\n",
    "warnings.filterwarnings(action='ignore')"
   ]
  },
  {
   "cell_type": "code",
   "execution_count": 24,
   "metadata": {},
   "outputs": [],
   "source": [
    "from sklearn.neighbors import KNeighborsClassifier\n",
    "from sklearn.model_selection import RandomizedSearchCV\n",
    "from sklearn.pipeline import make_pipeline\n",
    "from sklearn.ensemble import RandomForestClassifier\n",
    "from category_encoders import OrdinalEncoder\n",
    "from sklearn.impute import SimpleImputer\n",
    "from scipy.stats import randint, uniform"
   ]
  },
  {
   "cell_type": "code",
   "execution_count": 29,
   "metadata": {},
   "outputs": [],
   "source": [
    "train, test = train_test_split(df, train_size=0.7, stratify=df[target], random_state=2)\n",
    "X_train, y_train = divide_data(train)\n",
    "X_test, y_test = divide_data(test)"
   ]
  },
  {
   "cell_type": "code",
   "execution_count": 30,
   "metadata": {},
   "outputs": [],
   "source": [
    "from sklearn.model_selection import RandomizedSearchCV\n",
    "from sklearn.pipeline import make_pipeline\n",
    "from sklearn.metrics import classification_report\n",
    "\n",
    "# import any libraries needed\n",
    "# YOUR CODE HERE\n",
    "from sklearn.ensemble import RandomForestClassifier\n",
    "from category_encoders import OrdinalEncoder\n",
    "from sklearn.impute import SimpleImputer\n",
    "from scipy.stats import randint, uniform\n",
    "# YOUR CODE ENDS HERE\n",
    "\n",
    "def fit_rf(X_train, y_train):\n",
    "    # YOUR CODE HERE\n",
    "    pipe = make_pipeline(\n",
    "    OrdinalEncoder(),\n",
    "    SimpleImputer(),  \n",
    "    RandomForestClassifier(class_weight = \"balanced\", random_state=42)\n",
    "    )\n",
    "    dists = {\n",
    "    'randomforestclassifier__max_depth' : randint(1, 30),\n",
    "    'randomforestclassifier__max_features' : randint(1, 10),\n",
    "    'randomforestclassifier__n_estimators' : randint(1, 300)\n",
    "    }\n",
    "    clf = RandomizedSearchCV(\n",
    "    pipe, \n",
    "    param_distributions=dists, \n",
    "    n_iter=10, \n",
    "    cv=5, \n",
    "    scoring='f1',  \n",
    "    verbose=1,\n",
    "    n_jobs=-1,\n",
    "    random_state = 42\n",
    "    )\n",
    "    # YOUR CODE ENDS HERE\n",
    "\n",
    "    clf.fit(X_train, y_train)\n",
    "    print(\"Optimal Hyperparameter:\", clf.best_params_)\n",
    "\n",
    "    return clf"
   ]
  },
  {
   "cell_type": "code",
   "execution_count": 31,
   "metadata": {},
   "outputs": [
    {
     "name": "stdout",
     "output_type": "stream",
     "text": [
      "Fitting 5 folds for each of 10 candidates, totalling 50 fits\n",
      "Optimal Hyperparameter: {'randomforestclassifier__max_depth': 7, 'randomforestclassifier__max_features': 4, 'randomforestclassifier__n_estimators': 271}\n"
     ]
    }
   ],
   "source": [
    "clf_rf = fit_rf(X_train, y_train)"
   ]
  },
  {
   "cell_type": "code",
   "execution_count": 32,
   "metadata": {},
   "outputs": [
    {
     "name": "stdout",
     "output_type": "stream",
     "text": [
      "Confusion Matrix\n",
      "[[3787 1710  521  539  140  925  970  615 2121]\n",
      " [ 837 1049  353  308   72  617  620  421 1158]\n",
      " [ 357  360  184  167   36  375  372  243  416]\n",
      " [ 167  177   99   92   23  281  264  177  139]\n",
      " [  84   90   60   59   24  209  184  158   73]\n",
      " [  43   43   27   33   16  160  169  123   36]\n",
      " [  23   28   15   19   12  117  106   99   23]\n",
      " [   5    5    2    4    4   43   51  108    8]\n",
      " [1179 1074  273  244   83  838  652  518 1894]]\n",
      "정확도:0.24920902053180746, 정밀도:0.35522540658902235, 재현율:0.24920902053180746\n",
      "f1 score : 0.28383474993408886\n"
     ]
    }
   ],
   "source": [
    "pred_rf = clf_rf.predict(X_test)\n",
    "get_clf_eval(y_test, pred_rf)\n",
    "f1 = f1_score(y_test, pred_rf,average='weighted')\n",
    "print('f1 score :', f1)"
   ]
  },
  {
   "cell_type": "code",
   "execution_count": 52,
   "metadata": {},
   "outputs": [],
   "source": [
    "train, test = train_test_split(df, train_size=0.7, stratify=df[target], random_state=2)\n",
    "X_train, y_train = divide_data(train)\n",
    "X_test, y_test = divide_data(test)"
   ]
  },
  {
   "cell_type": "code",
   "execution_count": 34,
   "metadata": {},
   "outputs": [
    {
     "name": "stdout",
     "output_type": "stream",
     "text": [
      "Collecting catboost\n",
      "  Downloading catboost-1.0.4-cp38-none-win_amd64.whl (73.5 MB)\n",
      "     ---------------------------------------- 73.5/73.5 MB 8.1 MB/s eta 0:00:00\n",
      "Requirement already satisfied: matplotlib in c:\\users\\colacan\\anaconda3\\lib\\site-packages (from catboost) (3.5.1)\n",
      "Requirement already satisfied: scipy in c:\\users\\colacan\\anaconda3\\lib\\site-packages (from catboost) (1.7.3)\n",
      "Collecting plotly\n",
      "  Using cached plotly-5.6.0-py2.py3-none-any.whl (27.7 MB)\n",
      "Requirement already satisfied: pandas>=0.24.0 in c:\\users\\colacan\\anaconda3\\lib\\site-packages (from catboost) (1.4.1)\n",
      "Requirement already satisfied: graphviz in c:\\users\\colacan\\anaconda3\\lib\\site-packages (from catboost) (0.19.1)\n",
      "Requirement already satisfied: numpy>=1.16.0 in c:\\users\\colacan\\anaconda3\\lib\\site-packages (from catboost) (1.20.3)\n",
      "Requirement already satisfied: six in c:\\users\\colacan\\anaconda3\\lib\\site-packages (from catboost) (1.16.0)\n",
      "Requirement already satisfied: pytz>=2020.1 in c:\\users\\colacan\\anaconda3\\lib\\site-packages (from pandas>=0.24.0->catboost) (2021.3)\n",
      "Requirement already satisfied: python-dateutil>=2.8.1 in c:\\users\\colacan\\anaconda3\\lib\\site-packages (from pandas>=0.24.0->catboost) (2.8.2)\n",
      "Requirement already satisfied: packaging>=20.0 in c:\\users\\colacan\\anaconda3\\lib\\site-packages (from matplotlib->catboost) (21.3)\n",
      "Requirement already satisfied: pyparsing>=2.2.1 in c:\\users\\colacan\\anaconda3\\lib\\site-packages (from matplotlib->catboost) (3.0.4)\n",
      "Requirement already satisfied: fonttools>=4.22.0 in c:\\users\\colacan\\anaconda3\\lib\\site-packages (from matplotlib->catboost) (4.25.0)\n",
      "Requirement already satisfied: kiwisolver>=1.0.1 in c:\\users\\colacan\\anaconda3\\lib\\site-packages (from matplotlib->catboost) (1.3.2)\n",
      "Requirement already satisfied: cycler>=0.10 in c:\\users\\colacan\\anaconda3\\lib\\site-packages (from matplotlib->catboost) (0.11.0)\n",
      "Requirement already satisfied: pillow>=6.2.0 in c:\\users\\colacan\\anaconda3\\lib\\site-packages (from matplotlib->catboost) (9.0.1)\n",
      "Collecting tenacity>=6.2.0\n",
      "  Using cached tenacity-8.0.1-py3-none-any.whl (24 kB)\n",
      "Installing collected packages: tenacity, plotly, catboost\n",
      "Successfully installed catboost-1.0.4 plotly-5.6.0 tenacity-8.0.1\n"
     ]
    }
   ],
   "source": [
    "!pip install catboost"
   ]
  },
  {
   "cell_type": "code",
   "execution_count": 53,
   "metadata": {},
   "outputs": [],
   "source": [
    "from catboost import CatBoostClassifier\n",
    "\n",
    "def fit_cb(X_train, y_train):\n",
    "    # YOUR CODE HERE\n",
    "    pipe = make_pipeline(\n",
    "    OrdinalEncoder(),\n",
    "    SimpleImputer(),  \n",
    "    CatBoostClassifier(loss_function = 'MultiClass',class_weights=[0.619,0.818,0.916,0.953,0.969,0.979,0.986,0.993,0.773],early_stopping_rounds=35,verbose=100)\n",
    "    )\n",
    "    # YOUR CODE ENDS HERE\n",
    "    pipe.fit(X_train, y_train)\n",
    "\n",
    "    return pipe"
   ]
  },
  {
   "cell_type": "code",
   "execution_count": 54,
   "metadata": {},
   "outputs": [
    {
     "name": "stdout",
     "output_type": "stream",
     "text": [
      "Learning rate set to 0.098222\n",
      "0:\tlearn: 2.1004872\ttotal: 30.9ms\tremaining: 30.9s\n",
      "100:\tlearn: 1.6320085\ttotal: 2.07s\tremaining: 18.5s\n",
      "200:\tlearn: 1.5944112\ttotal: 4.17s\tremaining: 16.6s\n",
      "300:\tlearn: 1.5699820\ttotal: 6.2s\tremaining: 14.4s\n",
      "400:\tlearn: 1.5486211\ttotal: 8.26s\tremaining: 12.3s\n",
      "500:\tlearn: 1.5285919\ttotal: 10.3s\tremaining: 10.3s\n",
      "600:\tlearn: 1.5094375\ttotal: 12.4s\tremaining: 8.21s\n",
      "700:\tlearn: 1.4908533\ttotal: 14.4s\tremaining: 6.14s\n",
      "800:\tlearn: 1.4740291\ttotal: 16.5s\tremaining: 4.09s\n",
      "900:\tlearn: 1.4579973\ttotal: 18.5s\tremaining: 2.03s\n",
      "999:\tlearn: 1.4428946\ttotal: 20.5s\tremaining: 0us\n"
     ]
    }
   ],
   "source": [
    "clf_cb = fit_cb(X_train, y_train)"
   ]
  },
  {
   "cell_type": "code",
   "execution_count": 55,
   "metadata": {},
   "outputs": [
    {
     "name": "stdout",
     "output_type": "stream",
     "text": [
      "Confusion Matrix\n",
      "[[7535 1417  104   50   28   17   14   13 2150]\n",
      " [2544 1172  104   53   21   13    7    6 1515]\n",
      " [1110  556   73   46   10   11    8   12  684]\n",
      " [ 571  312   53   31   16   17   13   12  394]\n",
      " [ 377  203   45   22    7    6   12   12  257]\n",
      " [ 234  136   40   14   12   10    9   10  185]\n",
      " [ 152   82   27   23   10    9   11    9  119]\n",
      " [  65   47   16    5    7    8    6   16   60]\n",
      " [2659 1007   84   41   18    7    9    8 2922]]\n",
      "정확도:0.39639851901716594, 정밀도:0.3356237661675014, 재현율:0.39639851901716594\n",
      "f1 score : 0.3540641325664898\n"
     ]
    }
   ],
   "source": [
    "pred_cb = clf_cb.predict(X_test)\n",
    "get_clf_eval(y_test, pred_cb)\n",
    "f1 = f1_score(y_test, pred_cb,average='weighted')\n",
    "print('f1 score :', f1)"
   ]
  },
  {
   "cell_type": "code",
   "execution_count": 59,
   "metadata": {},
   "outputs": [],
   "source": [
    "train, test = train_test_split(df, train_size=0.7, stratify=df[target], random_state=2)\n",
    "X_train, y_train = divide_data(train)\n",
    "X_test, y_test = divide_data(test)"
   ]
  },
  {
   "cell_type": "code",
   "execution_count": 60,
   "metadata": {},
   "outputs": [],
   "source": [
    "# XGBClassifier\n",
    "from sklearn.utils import class_weight\n",
    "from xgboost import XGBClassifier\n",
    "\n",
    "def fit_xg(X_train, y_train):\n",
    "\n",
    "    processor = make_pipeline(\n",
    "    OrdinalEncoder(),\n",
    "    SimpleImputer(strategy='median')\n",
    "    )\n",
    "    X_train_processed = processor.fit_transform(X_train)\n",
    "\n",
    "    classes_weights = class_weight.compute_sample_weight(\n",
    "        class_weight='balanced',\n",
    "        y=y_train\n",
    "    )\n",
    "    \n",
    "    clf = XGBClassifier(eval_metric='mlogloss',max_depth = 21,n_estimators = 190)\n",
    "    clf.fit(X_train_processed, y_train, sample_weight=classes_weights)\n",
    "\n",
    "    return clf"
   ]
  },
  {
   "cell_type": "code",
   "execution_count": 61,
   "metadata": {},
   "outputs": [],
   "source": [
    "clf_xg = fit_xg(X_train, y_train)"
   ]
  },
  {
   "cell_type": "code",
   "execution_count": 62,
   "metadata": {},
   "outputs": [
    {
     "name": "stdout",
     "output_type": "stream",
     "text": [
      "Confusion Matrix\n",
      "[[6682 1510  266   80   56   20   60   50 2604]\n",
      " [2954  792  128   28   15   14   30   21 1453]\n",
      " [1385  371   58    9   11    7   14    7  648]\n",
      " [ 833  196   29    7    8    4    7    7  328]\n",
      " [ 525  145   27    4    2    2    4    4  228]\n",
      " [ 367   96    8    6    3    4    1    1  164]\n",
      " [ 253   62    9    3    3    1    0    0  111]\n",
      " [ 106   43    9    3    4    5    0    1   59]\n",
      " [3616  873  175   42   31   29   28   54 1907]]\n",
      "정확도:0.31817569841804105, 정밀도:0.25590104042192635, 재현율:0.31817569841804105\n",
      "f1 score : 0.27677586841119295\n"
     ]
    }
   ],
   "source": [
    "processor = make_pipeline(\n",
    "    OrdinalEncoder(),\n",
    "    SimpleImputer(strategy='median')\n",
    "    )\n",
    "X_test_processed = processor.fit_transform(X_test)\n",
    "\n",
    "pred_xg = clf_xg.predict(X_test_processed)\n",
    "\n",
    "get_clf_eval(y_test, pred_xg)\n",
    "\n",
    "f1 = f1_score(y_test, pred_xg,average='weighted')\n",
    "print('f1 score :', f1)"
   ]
  },
  {
   "cell_type": "code",
   "execution_count": 85,
   "metadata": {},
   "outputs": [],
   "source": [
    "import seaborn as sns\n",
    "import matplotlib.pyplot as plt\n",
    "df_by_group =  pd.DataFrame(columns = {'model 1','f1'})"
   ]
  },
  {
   "cell_type": "code",
   "execution_count": 86,
   "metadata": {},
   "outputs": [],
   "source": [
    "data_to_insert = {'model 1': 'baseline','f1': 0.2105}\n",
    "df_by_group = df_by_group.append(data_to_insert, ignore_index=True)"
   ]
  },
  {
   "cell_type": "code",
   "execution_count": 87,
   "metadata": {},
   "outputs": [],
   "source": [
    "data_to_insert = {'model 1': 'RandomForestClassifier','f1': 0.2897}\n",
    "df_by_group = df_by_group.append(data_to_insert, ignore_index=True)"
   ]
  },
  {
   "cell_type": "code",
   "execution_count": 88,
   "metadata": {},
   "outputs": [],
   "source": [
    "data_to_insert = {'model 1': 'CatBoostClassifier','f1': 0.3540}\n",
    "df_by_group = df_by_group.append(data_to_insert, ignore_index=True)"
   ]
  },
  {
   "cell_type": "code",
   "execution_count": 89,
   "metadata": {},
   "outputs": [],
   "source": [
    "data_to_insert = {'model 1': 'XGBClassifier','f1': 0.2767}\n",
    "df_by_group = df_by_group.append(data_to_insert, ignore_index=True)"
   ]
  },
  {
   "cell_type": "code",
   "execution_count": 91,
   "metadata": {},
   "outputs": [
    {
     "data": {
      "text/plain": [
       "(array([0, 1, 2, 3]),\n",
       " [Text(0, 0, 'baseline'),\n",
       "  Text(1, 0, 'RandomForestClassifier'),\n",
       "  Text(2, 0, 'CatBoostClassifier'),\n",
       "  Text(3, 0, 'XGBClassifier')])"
      ]
     },
     "execution_count": 91,
     "metadata": {},
     "output_type": "execute_result"
    },
    {
     "data": {
      "image/png": "[encoded data removed]",
      "text/plain": [
       "<Figure size 432x288 with 1 Axes>"
      ]
     },
     "metadata": {
      "needs_background": "light"
     },
     "output_type": "display_data"
    }
   ],
   "source": [
    "df_by_group.plot.bar(x='model 1',y='f1',rot=0)\n",
    "plt.xticks(rotation=45)"
   ]
  },
  {
   "cell_type": "code",
   "execution_count": 98,
   "metadata": {},
   "outputs": [],
   "source": [
    "train, test = train_test_split(df, train_size=0.7, stratify=df[target], random_state=2)\n",
    "X_train, y_train = divide_data(train)\n",
    "X_test, y_test = divide_data(test)"
   ]
  },
  {
   "cell_type": "code",
   "execution_count": 105,
   "metadata": {},
   "outputs": [
    {
     "name": "stdout",
     "output_type": "stream",
     "text": [
      "Learning rate set to 0.09711\n",
      "0:\tlearn: 2.0999997\ttotal: 24.4ms\tremaining: 24.4s\n",
      "100:\tlearn: 1.6238019\ttotal: 1.8s\tremaining: 16s\n",
      "200:\tlearn: 1.5839559\ttotal: 3.59s\tremaining: 14.3s\n",
      "300:\tlearn: 1.5548324\ttotal: 5.33s\tremaining: 12.4s\n",
      "400:\tlearn: 1.5298042\ttotal: 7.09s\tremaining: 10.6s\n",
      "500:\tlearn: 1.5080113\ttotal: 8.84s\tremaining: 8.8s\n",
      "600:\tlearn: 1.4855074\ttotal: 10.7s\tremaining: 7.1s\n",
      "700:\tlearn: 1.4649949\ttotal: 12.5s\tremaining: 5.32s\n",
      "800:\tlearn: 1.4465830\ttotal: 14.2s\tremaining: 3.54s\n",
      "900:\tlearn: 1.4285286\ttotal: 16.1s\tremaining: 1.77s\n",
      "999:\tlearn: 1.4112005\ttotal: 18s\tremaining: 0us\n",
      "Learning rate set to 0.09711\n",
      "0:\tlearn: 2.1020979\ttotal: 22.9ms\tremaining: 22.9s\n",
      "100:\tlearn: 1.6305687\ttotal: 1.79s\tremaining: 16s\n",
      "200:\tlearn: 1.5911366\ttotal: 3.65s\tremaining: 14.5s\n",
      "300:\tlearn: 1.5618677\ttotal: 5.54s\tremaining: 12.9s\n",
      "400:\tlearn: 1.5361404\ttotal: 7.4s\tremaining: 11.1s\n",
      "500:\tlearn: 1.5135757\ttotal: 9.15s\tremaining: 9.11s\n",
      "600:\tlearn: 1.4932918\ttotal: 10.9s\tremaining: 7.25s\n",
      "700:\tlearn: 1.4733381\ttotal: 12.7s\tremaining: 5.41s\n",
      "800:\tlearn: 1.4544836\ttotal: 14.4s\tremaining: 3.59s\n",
      "900:\tlearn: 1.4363652\ttotal: 16.2s\tremaining: 1.78s\n",
      "999:\tlearn: 1.4184802\ttotal: 18.1s\tremaining: 0us\n",
      "Learning rate set to 0.09711\n",
      "0:\tlearn: 2.1022001\ttotal: 23.6ms\tremaining: 23.6s\n",
      "100:\tlearn: 1.6287296\ttotal: 1.8s\tremaining: 16s\n",
      "200:\tlearn: 1.5876942\ttotal: 3.59s\tremaining: 14.3s\n",
      "300:\tlearn: 1.5604622\ttotal: 5.31s\tremaining: 12.3s\n",
      "400:\tlearn: 1.5368078\ttotal: 7.06s\tremaining: 10.5s\n",
      "500:\tlearn: 1.5133008\ttotal: 8.8s\tremaining: 8.77s\n",
      "600:\tlearn: 1.4914030\ttotal: 10.5s\tremaining: 6.98s\n",
      "700:\tlearn: 1.4710751\ttotal: 12.3s\tremaining: 5.23s\n",
      "800:\tlearn: 1.4517492\ttotal: 14s\tremaining: 3.48s\n",
      "900:\tlearn: 1.4348708\ttotal: 15.7s\tremaining: 1.73s\n",
      "999:\tlearn: 1.4185606\ttotal: 17.4s\tremaining: 0us\n",
      "Learning rate set to 0.09711\n",
      "0:\tlearn: 2.1025382\ttotal: 22.4ms\tremaining: 22.4s\n",
      "100:\tlearn: 1.6303786\ttotal: 1.75s\tremaining: 15.6s\n",
      "200:\tlearn: 1.5897099\ttotal: 3.48s\tremaining: 13.8s\n",
      "300:\tlearn: 1.5614843\ttotal: 5.24s\tremaining: 12.2s\n",
      "400:\tlearn: 1.5367788\ttotal: 6.99s\tremaining: 10.4s\n",
      "500:\tlearn: 1.5130960\ttotal: 8.71s\tremaining: 8.68s\n",
      "600:\tlearn: 1.4915172\ttotal: 10.4s\tremaining: 6.93s\n",
      "700:\tlearn: 1.4712557\ttotal: 12.2s\tremaining: 5.2s\n",
      "800:\tlearn: 1.4524388\ttotal: 14s\tremaining: 3.47s\n",
      "900:\tlearn: 1.4336061\ttotal: 15.7s\tremaining: 1.73s\n",
      "999:\tlearn: 1.4166325\ttotal: 17.5s\tremaining: 0us\n",
      "Learning rate set to 0.09711\n",
      "0:\tlearn: 2.1018733\ttotal: 22.4ms\tremaining: 22.3s\n",
      "100:\tlearn: 1.6288089\ttotal: 1.76s\tremaining: 15.7s\n",
      "200:\tlearn: 1.5873440\ttotal: 3.51s\tremaining: 14s\n",
      "300:\tlearn: 1.5601303\ttotal: 5.31s\tremaining: 12.3s\n",
      "400:\tlearn: 1.5361663\ttotal: 7.03s\tremaining: 10.5s\n",
      "500:\tlearn: 1.5129204\ttotal: 8.86s\tremaining: 8.82s\n",
      "600:\tlearn: 1.4926973\ttotal: 10.6s\tremaining: 7.01s\n",
      "700:\tlearn: 1.4735280\ttotal: 12.3s\tremaining: 5.27s\n",
      "800:\tlearn: 1.4541157\ttotal: 14.1s\tremaining: 3.5s\n",
      "900:\tlearn: 1.4359647\ttotal: 15.8s\tremaining: 1.74s\n",
      "999:\tlearn: 1.4192474\ttotal: 17.5s\tremaining: 0us\n",
      "f1 (5 folds): [0.36168032 0.35623532 0.35566363 0.35985314 0.35414102]\n"
     ]
    }
   ],
   "source": [
    "from sklearn.model_selection import cross_val_score\n",
    "from sklearn.metrics import make_scorer\n",
    "\n",
    "# (참고) warning 제거를 위한 코드\n",
    "np.seterr(divide='ignore', invalid='ignore')\n",
    "\n",
    "pipe = make_pipeline(\n",
    "    OrdinalEncoder(), \n",
    "    SimpleImputer(strategy='mean'),\n",
    "    CatBoostClassifier(loss_function = 'MultiClass',class_weights=[0.619,0.818,0.916,0.953,0.969,0.979,0.986,0.993,0.773],early_stopping_rounds=35,verbose=100)\n",
    ")\n",
    "\n",
    "# 5-fold 교차검증을 수행합니다.\n",
    "k = 5\n",
    "scores = cross_val_score(pipe, X_train, y_train, cv=k, scoring=make_scorer(f1_score,average ='weighted'))\n",
    "\n",
    "print(f'f1 ({k} folds):', scores)"
   ]
  },
  {
   "cell_type": "code",
   "execution_count": 106,
   "metadata": {},
   "outputs": [
    {
     "data": {
      "text/plain": [
       "0.3575146853534866"
      ]
     },
     "execution_count": 106,
     "metadata": {},
     "output_type": "execute_result"
    }
   ],
   "source": [
    "scores.mean()"
   ]
  },
  {
   "cell_type": "code",
   "execution_count": 107,
   "metadata": {},
   "outputs": [
    {
     "data": {
      "text/plain": [
       "0.0028023466799683384"
      ]
     },
     "execution_count": 107,
     "metadata": {},
     "output_type": "execute_result"
    }
   ],
   "source": [
    "scores.std()\n",
    "# Variance가 작다는 것은 모델 complexity에 비해 sample수가 많다"
   ]
  },
  {
   "cell_type": "code",
   "execution_count": 114,
   "metadata": {},
   "outputs": [],
   "source": [
    "import seaborn as sns\n",
    "import matplotlib.pyplot as plt\n",
    "\n",
    "data = {'fold1': ['fold1', 'fold2', 'fold3', 'fold4', 'fold5'], 'f1': [0.36168032, 0.35623532, 0.35566363, 0.35985314, 0.35414102]}\n",
    "df_by_fold = pd.DataFrame(data=data)"
   ]
  },
  {
   "cell_type": "code",
   "execution_count": 115,
   "metadata": {},
   "outputs": [
    {
     "data": {
      "text/plain": [
       "<AxesSubplot:xlabel='fold1'>"
      ]
     },
     "execution_count": 115,
     "metadata": {},
     "output_type": "execute_result"
    },
    {
     "data": {
      "image/png": "[encoded data removed]",
      "text/plain": [
       "<Figure size 432x288 with 1 Axes>"
      ]
     },
     "metadata": {
      "needs_background": "light"
     },
     "output_type": "display_data"
    }
   ],
   "source": [
    "df_by_fold.plot.bar(x='fold1',y='f1',rot=0)"
   ]
  },
  {
   "cell_type": "code",
   "execution_count": null,
   "metadata": {},
   "outputs": [],
   "source": []
  }
 ],
 "metadata": {
  "interpreter": {
   "hash": "2777d6cdcc847d8b23e024fdc471fca5052584b8a5117ac6ff394b98c975e41f"
  },
  "kernelspec": {
   "display_name": "Python 3.8.12 ('base')",
   "language": "python",
   "name": "python3"
  },
  "language_info": {
   "codemirror_mode": {
    "name": "ipython",
    "version": 3
   },
   "file_extension": ".py",
   "mimetype": "text/x-python",
   "name": "python",
   "nbconvert_exporter": "python",
   "pygments_lexer": "ipython3",
   "version": "3.8.12"
  },
  "orig_nbformat": 4
 },
 "nbformat": 4,
 "nbformat_minor": 2
}
