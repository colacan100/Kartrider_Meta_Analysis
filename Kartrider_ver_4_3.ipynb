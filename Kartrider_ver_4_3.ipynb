{
 "cells": [
  {
   "cell_type": "code",
   "execution_count": 109,
   "metadata": {},
   "outputs": [],
   "source": [
    "import pandas as pd\n",
    "df = pd.read_csv('C:\\\\Users\\\\colacan\\\\Documents\\\\GitHub\\\\Kartrider_Meta_Analysis_Project\\kartrider_eda.csv')"
   ]
  },
  {
   "cell_type": "code",
   "execution_count": 110,
   "metadata": {},
   "outputs": [],
   "source": [
    "df = df.drop(['Unnamed: 0','matchTime'], axis = 1)"
   ]
  },
  {
   "cell_type": "code",
   "execution_count": 111,
   "metadata": {},
   "outputs": [
    {
     "data": {
      "text/html": [
       "<div>\n",
       "<style scoped>\n",
       "    .dataframe tbody tr th:only-of-type {\n",
       "        vertical-align: middle;\n",
       "    }\n",
       "\n",
       "    .dataframe tbody tr th {\n",
       "        vertical-align: top;\n",
       "    }\n",
       "\n",
       "    .dataframe thead th {\n",
       "        text-align: right;\n",
       "    }\n",
       "</style>\n",
       "<table border=\"1\" class=\"dataframe\">\n",
       "  <thead>\n",
       "    <tr style=\"text-align: right;\">\n",
       "      <th></th>\n",
       "      <th>channelName</th>\n",
       "      <th>gameSpeed</th>\n",
       "      <th>matchType</th>\n",
       "      <th>trackId</th>\n",
       "      <th>kart</th>\n",
       "      <th>pet</th>\n",
       "      <th>flyingPet</th>\n",
       "      <th>partsEngine</th>\n",
       "      <th>partsHandle</th>\n",
       "      <th>partsWheel</th>\n",
       "      <th>partsKit</th>\n",
       "      <th>rankinggrade2</th>\n",
       "      <th>matchRank</th>\n",
       "    </tr>\n",
       "  </thead>\n",
       "  <tbody>\n",
       "    <tr>\n",
       "      <th>0</th>\n",
       "      <td>speedIndiCombine</td>\n",
       "      <td>7</td>\n",
       "      <td>7b9f0fd5377c38514dbb78ebe63ac6c3b81009d5a31dd5...</td>\n",
       "      <td>2fd45f66e1c8df78c260aeffab51e3d9ba41bbd4a3952a...</td>\n",
       "      <td>9d20fe9502958d53fba8fd567036e853318407e575fa82...</td>\n",
       "      <td>36e0b23b8a828cbe001bc81e4580db8f27637febb3bcfc...</td>\n",
       "      <td>a87cb96d91a4e0c357c4eaeb7dbc05ef515d183e79a8aa...</td>\n",
       "      <td>over_ver_engine</td>\n",
       "      <td>over_ver_handle</td>\n",
       "      <td>over_ver_wheel</td>\n",
       "      <td>over_ver_kit</td>\n",
       "      <td>3</td>\n",
       "      <td>1.0</td>\n",
       "    </tr>\n",
       "    <tr>\n",
       "      <th>1</th>\n",
       "      <td>speedIndiInfinit</td>\n",
       "      <td>4</td>\n",
       "      <td>7b9f0fd5377c38514dbb78ebe63ac6c3b81009d5a31dd5...</td>\n",
       "      <td>3a801d3a1be83ef6c290f942e9a9c90b8a5ebc8d978eaa...</td>\n",
       "      <td>d47aa62de79d88ecee263e07456555d99ff8957f1760d0...</td>\n",
       "      <td>non_pet</td>\n",
       "      <td>non_flyingPet</td>\n",
       "      <td>1.0</td>\n",
       "      <td>1.0</td>\n",
       "      <td>1.0</td>\n",
       "      <td>1.0</td>\n",
       "      <td>2</td>\n",
       "      <td>1.0</td>\n",
       "    </tr>\n",
       "    <tr>\n",
       "      <th>2</th>\n",
       "      <td>speedIndiCombine</td>\n",
       "      <td>7</td>\n",
       "      <td>7b9f0fd5377c38514dbb78ebe63ac6c3b81009d5a31dd5...</td>\n",
       "      <td>d167c7195cee3b4e65cf30f507affb0a85d00a5babfc6a...</td>\n",
       "      <td>eb333073a3486846660dc9e82e6b0c55c508c31853e4f4...</td>\n",
       "      <td>7b34fb3da1d2b564672a2ae3938c7ad011f2743e18f088...</td>\n",
       "      <td>d064fb1098287bc1ddf83798b94585ee317dcd90275b10...</td>\n",
       "      <td>over_ver_engine</td>\n",
       "      <td>over_ver_handle</td>\n",
       "      <td>over_ver_wheel</td>\n",
       "      <td>over_ver_kit</td>\n",
       "      <td>3</td>\n",
       "      <td>1.0</td>\n",
       "    </tr>\n",
       "    <tr>\n",
       "      <th>3</th>\n",
       "      <td>speedIndiNewbie</td>\n",
       "      <td>7</td>\n",
       "      <td>7b9f0fd5377c38514dbb78ebe63ac6c3b81009d5a31dd5...</td>\n",
       "      <td>8d50ed8ae32a4ce260dd7d8303552f72f3e80f15d8bf41...</td>\n",
       "      <td>2aeff87dba14c8445406fac69263eb788a40e1bb792b36...</td>\n",
       "      <td>e021e32edef255c629c3d46b02e639cbb5093f536d06e7...</td>\n",
       "      <td>16c0894cf7de4a419b2a4fb40568922546ac1436db1bda...</td>\n",
       "      <td>over_ver_engine</td>\n",
       "      <td>over_ver_handle</td>\n",
       "      <td>over_ver_wheel</td>\n",
       "      <td>over_ver_kit</td>\n",
       "      <td>0</td>\n",
       "      <td>1.0</td>\n",
       "    </tr>\n",
       "    <tr>\n",
       "      <th>4</th>\n",
       "      <td>speedIndiInfinit</td>\n",
       "      <td>4</td>\n",
       "      <td>7b9f0fd5377c38514dbb78ebe63ac6c3b81009d5a31dd5...</td>\n",
       "      <td>3a801d3a1be83ef6c290f942e9a9c90b8a5ebc8d978eaa...</td>\n",
       "      <td>5dae1a3dd645b7e8ee1e61b51c7f4111d9861b08ed0cdc...</td>\n",
       "      <td>non_pet</td>\n",
       "      <td>a87cb96d91a4e0c357c4eaeb7dbc05ef515d183e79a8aa...</td>\n",
       "      <td>over_ver_engine</td>\n",
       "      <td>over_ver_handle</td>\n",
       "      <td>over_ver_wheel</td>\n",
       "      <td>over_ver_kit</td>\n",
       "      <td>5</td>\n",
       "      <td>1.0</td>\n",
       "    </tr>\n",
       "    <tr>\n",
       "      <th>...</th>\n",
       "      <td>...</td>\n",
       "      <td>...</td>\n",
       "      <td>...</td>\n",
       "      <td>...</td>\n",
       "      <td>...</td>\n",
       "      <td>...</td>\n",
       "      <td>...</td>\n",
       "      <td>...</td>\n",
       "      <td>...</td>\n",
       "      <td>...</td>\n",
       "      <td>...</td>\n",
       "      <td>...</td>\n",
       "      <td>...</td>\n",
       "    </tr>\n",
       "    <tr>\n",
       "      <th>96024</th>\n",
       "      <td>itemIndiCombine</td>\n",
       "      <td>7</td>\n",
       "      <td>7ca6fd44026a2c8f5d939b60aa56b4b1714b9cc2355ec5...</td>\n",
       "      <td>692fe5afee5a6423472247e044d61f813ca86a3bd72e5a...</td>\n",
       "      <td>7e9af2569848299f8aae60f4cfdeb21df32daa1f26aef4...</td>\n",
       "      <td>875fb610637b0d48341b73c0bdb078fa90954c477ea9f2...</td>\n",
       "      <td>0ba76db19374fe129bea077d5f72b9db5e5763afef4432...</td>\n",
       "      <td>1.0</td>\n",
       "      <td>1.0</td>\n",
       "      <td>1.0</td>\n",
       "      <td>1.0</td>\n",
       "      <td>2</td>\n",
       "      <td>1.0</td>\n",
       "    </tr>\n",
       "    <tr>\n",
       "      <th>96025</th>\n",
       "      <td>itemIndiCombine</td>\n",
       "      <td>7</td>\n",
       "      <td>7ca6fd44026a2c8f5d939b60aa56b4b1714b9cc2355ec5...</td>\n",
       "      <td>692fe5afee5a6423472247e044d61f813ca86a3bd72e5a...</td>\n",
       "      <td>227c55eaa613b7932ff0ed5918bca667aa609dd18d5be4...</td>\n",
       "      <td>fde208f0931f9d4ddb97b315b84ac6e15d4e4f0e1f799b...</td>\n",
       "      <td>non_flyingPet</td>\n",
       "      <td>over_ver_engine</td>\n",
       "      <td>over_ver_handle</td>\n",
       "      <td>over_ver_wheel</td>\n",
       "      <td>over_ver_kit</td>\n",
       "      <td>1</td>\n",
       "      <td>99.0</td>\n",
       "    </tr>\n",
       "    <tr>\n",
       "      <th>96026</th>\n",
       "      <td>itemIndiCombine</td>\n",
       "      <td>7</td>\n",
       "      <td>7ca6fd44026a2c8f5d939b60aa56b4b1714b9cc2355ec5...</td>\n",
       "      <td>692fe5afee5a6423472247e044d61f813ca86a3bd72e5a...</td>\n",
       "      <td>7e9af2569848299f8aae60f4cfdeb21df32daa1f26aef4...</td>\n",
       "      <td>b5e59da7e51a056fca10406d710af9898b1f29e4182036...</td>\n",
       "      <td>a87cb96d91a4e0c357c4eaeb7dbc05ef515d183e79a8aa...</td>\n",
       "      <td>1.0</td>\n",
       "      <td>0.0</td>\n",
       "      <td>1.0</td>\n",
       "      <td>2.0</td>\n",
       "      <td>2</td>\n",
       "      <td>5.0</td>\n",
       "    </tr>\n",
       "    <tr>\n",
       "      <th>96027</th>\n",
       "      <td>itemIndiCombine</td>\n",
       "      <td>7</td>\n",
       "      <td>7ca6fd44026a2c8f5d939b60aa56b4b1714b9cc2355ec5...</td>\n",
       "      <td>692fe5afee5a6423472247e044d61f813ca86a3bd72e5a...</td>\n",
       "      <td>faf963e754c62f90d61f127d4c7f17d04947cce93acd96...</td>\n",
       "      <td>b5e59da7e51a056fca10406d710af9898b1f29e4182036...</td>\n",
       "      <td>8cc64a4759f245b29ecb30043ae6eb9f9cd63ece7fd9f4...</td>\n",
       "      <td>0.0</td>\n",
       "      <td>0.0</td>\n",
       "      <td>0.0</td>\n",
       "      <td>0.0</td>\n",
       "      <td>2</td>\n",
       "      <td>2.0</td>\n",
       "    </tr>\n",
       "    <tr>\n",
       "      <th>96028</th>\n",
       "      <td>itemIndiCombine</td>\n",
       "      <td>7</td>\n",
       "      <td>7ca6fd44026a2c8f5d939b60aa56b4b1714b9cc2355ec5...</td>\n",
       "      <td>692fe5afee5a6423472247e044d61f813ca86a3bd72e5a...</td>\n",
       "      <td>199114d190e456acde0c46e436c2770cc2ead1e8641027...</td>\n",
       "      <td>492e06ae60ff9d70c311cab587117173484ff667a58832...</td>\n",
       "      <td>a87cb96d91a4e0c357c4eaeb7dbc05ef515d183e79a8aa...</td>\n",
       "      <td>2.0</td>\n",
       "      <td>1.0</td>\n",
       "      <td>2.0</td>\n",
       "      <td>2.0</td>\n",
       "      <td>0</td>\n",
       "      <td>4.0</td>\n",
       "    </tr>\n",
       "  </tbody>\n",
       "</table>\n",
       "<p>96029 rows × 13 columns</p>\n",
       "</div>"
      ],
      "text/plain": [
       "            channelName  gameSpeed  \\\n",
       "0      speedIndiCombine          7   \n",
       "1      speedIndiInfinit          4   \n",
       "2      speedIndiCombine          7   \n",
       "3       speedIndiNewbie          7   \n",
       "4      speedIndiInfinit          4   \n",
       "...                 ...        ...   \n",
       "96024   itemIndiCombine          7   \n",
       "96025   itemIndiCombine          7   \n",
       "96026   itemIndiCombine          7   \n",
       "96027   itemIndiCombine          7   \n",
       "96028   itemIndiCombine          7   \n",
       "\n",
       "                                               matchType  \\\n",
       "0      7b9f0fd5377c38514dbb78ebe63ac6c3b81009d5a31dd5...   \n",
       "1      7b9f0fd5377c38514dbb78ebe63ac6c3b81009d5a31dd5...   \n",
       "2      7b9f0fd5377c38514dbb78ebe63ac6c3b81009d5a31dd5...   \n",
       "3      7b9f0fd5377c38514dbb78ebe63ac6c3b81009d5a31dd5...   \n",
       "4      7b9f0fd5377c38514dbb78ebe63ac6c3b81009d5a31dd5...   \n",
       "...                                                  ...   \n",
       "96024  7ca6fd44026a2c8f5d939b60aa56b4b1714b9cc2355ec5...   \n",
       "96025  7ca6fd44026a2c8f5d939b60aa56b4b1714b9cc2355ec5...   \n",
       "96026  7ca6fd44026a2c8f5d939b60aa56b4b1714b9cc2355ec5...   \n",
       "96027  7ca6fd44026a2c8f5d939b60aa56b4b1714b9cc2355ec5...   \n",
       "96028  7ca6fd44026a2c8f5d939b60aa56b4b1714b9cc2355ec5...   \n",
       "\n",
       "                                                 trackId  \\\n",
       "0      2fd45f66e1c8df78c260aeffab51e3d9ba41bbd4a3952a...   \n",
       "1      3a801d3a1be83ef6c290f942e9a9c90b8a5ebc8d978eaa...   \n",
       "2      d167c7195cee3b4e65cf30f507affb0a85d00a5babfc6a...   \n",
       "3      8d50ed8ae32a4ce260dd7d8303552f72f3e80f15d8bf41...   \n",
       "4      3a801d3a1be83ef6c290f942e9a9c90b8a5ebc8d978eaa...   \n",
       "...                                                  ...   \n",
       "96024  692fe5afee5a6423472247e044d61f813ca86a3bd72e5a...   \n",
       "96025  692fe5afee5a6423472247e044d61f813ca86a3bd72e5a...   \n",
       "96026  692fe5afee5a6423472247e044d61f813ca86a3bd72e5a...   \n",
       "96027  692fe5afee5a6423472247e044d61f813ca86a3bd72e5a...   \n",
       "96028  692fe5afee5a6423472247e044d61f813ca86a3bd72e5a...   \n",
       "\n",
       "                                                    kart  \\\n",
       "0      9d20fe9502958d53fba8fd567036e853318407e575fa82...   \n",
       "1      d47aa62de79d88ecee263e07456555d99ff8957f1760d0...   \n",
       "2      eb333073a3486846660dc9e82e6b0c55c508c31853e4f4...   \n",
       "3      2aeff87dba14c8445406fac69263eb788a40e1bb792b36...   \n",
       "4      5dae1a3dd645b7e8ee1e61b51c7f4111d9861b08ed0cdc...   \n",
       "...                                                  ...   \n",
       "96024  7e9af2569848299f8aae60f4cfdeb21df32daa1f26aef4...   \n",
       "96025  227c55eaa613b7932ff0ed5918bca667aa609dd18d5be4...   \n",
       "96026  7e9af2569848299f8aae60f4cfdeb21df32daa1f26aef4...   \n",
       "96027  faf963e754c62f90d61f127d4c7f17d04947cce93acd96...   \n",
       "96028  199114d190e456acde0c46e436c2770cc2ead1e8641027...   \n",
       "\n",
       "                                                     pet  \\\n",
       "0      36e0b23b8a828cbe001bc81e4580db8f27637febb3bcfc...   \n",
       "1                                                non_pet   \n",
       "2      7b34fb3da1d2b564672a2ae3938c7ad011f2743e18f088...   \n",
       "3      e021e32edef255c629c3d46b02e639cbb5093f536d06e7...   \n",
       "4                                                non_pet   \n",
       "...                                                  ...   \n",
       "96024  875fb610637b0d48341b73c0bdb078fa90954c477ea9f2...   \n",
       "96025  fde208f0931f9d4ddb97b315b84ac6e15d4e4f0e1f799b...   \n",
       "96026  b5e59da7e51a056fca10406d710af9898b1f29e4182036...   \n",
       "96027  b5e59da7e51a056fca10406d710af9898b1f29e4182036...   \n",
       "96028  492e06ae60ff9d70c311cab587117173484ff667a58832...   \n",
       "\n",
       "                                               flyingPet      partsEngine  \\\n",
       "0      a87cb96d91a4e0c357c4eaeb7dbc05ef515d183e79a8aa...  over_ver_engine   \n",
       "1                                          non_flyingPet              1.0   \n",
       "2      d064fb1098287bc1ddf83798b94585ee317dcd90275b10...  over_ver_engine   \n",
       "3      16c0894cf7de4a419b2a4fb40568922546ac1436db1bda...  over_ver_engine   \n",
       "4      a87cb96d91a4e0c357c4eaeb7dbc05ef515d183e79a8aa...  over_ver_engine   \n",
       "...                                                  ...              ...   \n",
       "96024  0ba76db19374fe129bea077d5f72b9db5e5763afef4432...              1.0   \n",
       "96025                                      non_flyingPet  over_ver_engine   \n",
       "96026  a87cb96d91a4e0c357c4eaeb7dbc05ef515d183e79a8aa...              1.0   \n",
       "96027  8cc64a4759f245b29ecb30043ae6eb9f9cd63ece7fd9f4...              0.0   \n",
       "96028  a87cb96d91a4e0c357c4eaeb7dbc05ef515d183e79a8aa...              2.0   \n",
       "\n",
       "           partsHandle      partsWheel      partsKit  rankinggrade2  matchRank  \n",
       "0      over_ver_handle  over_ver_wheel  over_ver_kit              3        1.0  \n",
       "1                  1.0             1.0           1.0              2        1.0  \n",
       "2      over_ver_handle  over_ver_wheel  over_ver_kit              3        1.0  \n",
       "3      over_ver_handle  over_ver_wheel  over_ver_kit              0        1.0  \n",
       "4      over_ver_handle  over_ver_wheel  over_ver_kit              5        1.0  \n",
       "...                ...             ...           ...            ...        ...  \n",
       "96024              1.0             1.0           1.0              2        1.0  \n",
       "96025  over_ver_handle  over_ver_wheel  over_ver_kit              1       99.0  \n",
       "96026              0.0             1.0           2.0              2        5.0  \n",
       "96027              0.0             0.0           0.0              2        2.0  \n",
       "96028              1.0             2.0           2.0              0        4.0  \n",
       "\n",
       "[96029 rows x 13 columns]"
      ]
     },
     "execution_count": 111,
     "metadata": {},
     "output_type": "execute_result"
    }
   ],
   "source": [
    "df"
   ]
  },
  {
   "cell_type": "code",
   "execution_count": 112,
   "metadata": {},
   "outputs": [],
   "source": [
    "# 등수 예측이 목적이므로 타겟은 matchRank\n",
    "target = 'matchRank'"
   ]
  },
  {
   "cell_type": "code",
   "execution_count": 113,
   "metadata": {},
   "outputs": [
    {
     "data": {
      "image/png": "[encoded data removed]",
      "text/plain": [
       "<Figure size 720x432 with 1 Axes>"
      ]
     },
     "metadata": {
      "needs_background": "light"
     },
     "output_type": "display_data"
    }
   ],
   "source": [
    "# 타겟이 범주형데이터이므로 분류문제로 해결\n",
    "import seaborn as sns\n",
    "import matplotlib.pyplot as plt\n",
    "\n",
    "fig = sns.displot(df[target])\n",
    "fig.fig.set_size_inches(10,6)"
   ]
  },
  {
   "cell_type": "code",
   "execution_count": 114,
   "metadata": {},
   "outputs": [
    {
     "data": {
      "text/plain": [
       "1.0     0.387081\n",
       "99.0    0.211603\n",
       "2.0     0.186704\n",
       "3.0     0.086974\n",
       "4.0     0.049173\n",
       "5.0     0.032605\n",
       "6.0     0.022556\n",
       "7.0     0.015329\n",
       "8.0     0.007977\n",
       "Name: matchRank, dtype: float64"
      ]
     },
     "execution_count": 114,
     "metadata": {},
     "output_type": "execute_result"
    }
   ],
   "source": [
    "df[target].value_counts(normalize=True)"
   ]
  },
  {
   "cell_type": "code",
   "execution_count": 115,
   "metadata": {},
   "outputs": [],
   "source": [
    "major = df[target].mode()[0]\n",
    "pred = [major] * len(df[target])"
   ]
  },
  {
   "cell_type": "code",
   "execution_count": 116,
   "metadata": {},
   "outputs": [
    {
     "name": "stdout",
     "output_type": "stream",
     "text": [
      "training accuracy:  0.21603884878119745\n"
     ]
    }
   ],
   "source": [
    "from sklearn.metrics import f1_score\n",
    "import sklearn.metrics as metrics\n",
    "\n",
    "# 기준모델의 평가지표\n",
    "print(\"training accuracy: \", metrics.f1_score(df[target], pred,average ='weighted'))"
   ]
  },
  {
   "cell_type": "code",
   "execution_count": 117,
   "metadata": {},
   "outputs": [],
   "source": [
    "from sklearn.model_selection import train_test_split\n",
    "train, test = train_test_split(df, train_size=0.7, stratify=df[target], random_state=2)"
   ]
  },
  {
   "cell_type": "code",
   "execution_count": 118,
   "metadata": {},
   "outputs": [
    {
     "data": {
      "text/plain": [
       "((67220, 13), (28809, 13))"
      ]
     },
     "execution_count": 118,
     "metadata": {},
     "output_type": "execute_result"
    }
   ],
   "source": [
    "train.shape,test.shape"
   ]
  },
  {
   "cell_type": "code",
   "execution_count": 119,
   "metadata": {},
   "outputs": [],
   "source": [
    "import pandas as pd\n",
    "import numpy as np\n",
    "from sklearn.model_selection import train_test_split\n",
    "\n",
    "def divide_data(df):\n",
    "    X = df.drop('matchRank', axis = 1)\n",
    "    y = df['matchRank']\n",
    "    return X, y"
   ]
  },
  {
   "cell_type": "code",
   "execution_count": 120,
   "metadata": {},
   "outputs": [],
   "source": [
    "train, test = train_test_split(df, train_size=0.7, stratify=df[target], random_state=2)\n",
    "X_train, y_train = divide_data(train)\n",
    "X_test, y_test = divide_data(test)"
   ]
  },
  {
   "cell_type": "code",
   "execution_count": 121,
   "metadata": {},
   "outputs": [
    {
     "name": "stdout",
     "output_type": "stream",
     "text": [
      "(67220, 12) (67220,)\n",
      "(28809, 12) (28809,)\n"
     ]
    }
   ],
   "source": [
    "print(X_train.shape,y_train.shape)\n",
    "print(X_test.shape,y_test.shape)"
   ]
  },
  {
   "cell_type": "code",
   "execution_count": 122,
   "metadata": {},
   "outputs": [
    {
     "name": "stdout",
     "output_type": "stream",
     "text": [
      "Requirement already satisfied: xgboost in c:\\users\\colacan\\anaconda3\\lib\\site-packages (1.5.2)\n",
      "Requirement already satisfied: numpy in c:\\users\\colacan\\anaconda3\\lib\\site-packages (from xgboost) (1.20.3)\n",
      "Requirement already satisfied: scipy in c:\\users\\colacan\\anaconda3\\lib\\site-packages (from xgboost) (1.7.3)\n"
     ]
    }
   ],
   "source": [
    "!pip install xgboost"
   ]
  },
  {
   "cell_type": "code",
   "execution_count": 123,
   "metadata": {},
   "outputs": [],
   "source": [
    "from sklearn.metrics import accuracy_score, precision_score, recall_score, confusion_matrix\n",
    "\n",
    "def get_clf_eval(y_test, pred):\n",
    "    confusion = confusion_matrix(y_test, pred)\n",
    "    accuracy = accuracy_score(y_test, pred)\n",
    "    precision = precision_score(y_test, pred,average='weighted')\n",
    "    recall = recall_score(y_test, pred,average='weighted')\n",
    "    print('Confusion Matrix')\n",
    "    print(confusion)\n",
    "    print('정확도:{}, 정밀도:{}, 재현율:{}'.format(accuracy, precision, recall))"
   ]
  },
  {
   "cell_type": "code",
   "execution_count": 124,
   "metadata": {},
   "outputs": [],
   "source": [
    "import warnings\n",
    "warnings.filterwarnings(action='ignore')"
   ]
  },
  {
   "cell_type": "code",
   "execution_count": 125,
   "metadata": {},
   "outputs": [],
   "source": [
    "from sklearn.neighbors import KNeighborsClassifier\n",
    "from sklearn.model_selection import RandomizedSearchCV\n",
    "from sklearn.pipeline import make_pipeline\n",
    "from sklearn.ensemble import RandomForestClassifier\n",
    "from category_encoders import OrdinalEncoder\n",
    "from sklearn.impute import SimpleImputer\n",
    "from scipy.stats import randint, uniform"
   ]
  },
  {
   "cell_type": "code",
   "execution_count": 126,
   "metadata": {},
   "outputs": [],
   "source": [
    "train, test = train_test_split(df, train_size=0.7, stratify=df[target], random_state=2)\n",
    "X_train, y_train = divide_data(train)\n",
    "X_test, y_test = divide_data(test)"
   ]
  },
  {
   "cell_type": "code",
   "execution_count": 127,
   "metadata": {},
   "outputs": [],
   "source": [
    "from sklearn.model_selection import RandomizedSearchCV\n",
    "from sklearn.pipeline import make_pipeline\n",
    "from sklearn.metrics import classification_report\n",
    "\n",
    "# import any libraries needed\n",
    "# YOUR CODE HERE\n",
    "from sklearn.ensemble import RandomForestClassifier\n",
    "from category_encoders import OrdinalEncoder\n",
    "from sklearn.impute import SimpleImputer\n",
    "from scipy.stats import randint, uniform\n",
    "# YOUR CODE ENDS HERE\n",
    "\n",
    "def fit_rf(X_train, y_train):\n",
    "    # YOUR CODE HERE\n",
    "    pipe = make_pipeline(\n",
    "    OrdinalEncoder(),\n",
    "    SimpleImputer(),  \n",
    "    RandomForestClassifier(class_weight = \"balanced\", random_state=42)\n",
    "    )\n",
    "    dists = {\n",
    "    'randomforestclassifier__max_depth' : randint(1, 30),\n",
    "    'randomforestclassifier__max_features' : randint(1, 10),\n",
    "    'randomforestclassifier__n_estimators' : randint(1, 300)\n",
    "    }\n",
    "    clf = RandomizedSearchCV(\n",
    "    pipe, \n",
    "    param_distributions=dists, \n",
    "    n_iter=10, \n",
    "    cv=5, \n",
    "    scoring='f1',  \n",
    "    verbose=1,\n",
    "    n_jobs=-1,\n",
    "    random_state = 42\n",
    "    )\n",
    "    # YOUR CODE ENDS HERE\n",
    "\n",
    "    clf.fit(X_train, y_train)\n",
    "    print(\"Optimal Hyperparameter:\", clf.best_params_)\n",
    "\n",
    "    return clf"
   ]
  },
  {
   "cell_type": "code",
   "execution_count": 128,
   "metadata": {},
   "outputs": [
    {
     "name": "stdout",
     "output_type": "stream",
     "text": [
      "Fitting 5 folds for each of 10 candidates, totalling 50 fits\n",
      "Optimal Hyperparameter: {'randomforestclassifier__max_depth': 7, 'randomforestclassifier__max_features': 4, 'randomforestclassifier__n_estimators': 271}\n"
     ]
    }
   ],
   "source": [
    "clf_rf = fit_rf(X_train, y_train)"
   ]
  },
  {
   "cell_type": "code",
   "execution_count": 129,
   "metadata": {},
   "outputs": [
    {
     "name": "stdout",
     "output_type": "stream",
     "text": [
      "Confusion Matrix\n",
      "[[4146 1454  239  709  276  927  980  578 1842]\n",
      " [ 974  890  169  399  127  567  603  442 1208]\n",
      " [ 389  321   82  212   68  368  363  258  445]\n",
      " [ 162  136   39  131   44  292  251  216  146]\n",
      " [ 110   63   21   65   42  223  215  130   70]\n",
      " [  57   41    9   39   21  169  159  123   32]\n",
      " [  13   20    8   21   17  119  109  107   27]\n",
      " [   7    4    1    6   10   52   42  101    7]\n",
      " [1044  878  124  262  138  631  696  558 1765]]\n",
      "정확도:0.2580790725120622, 정밀도:0.36114095812887764, 재현율:0.2580790725120622\n",
      "f1 score : 0.29154757174783225\n"
     ]
    }
   ],
   "source": [
    "pred_rf = clf_rf.predict(X_test)\n",
    "get_clf_eval(y_test, pred_rf)\n",
    "f1 = f1_score(y_test, pred_rf,average='weighted')\n",
    "print('f1 score :', f1)"
   ]
  },
  {
   "cell_type": "code",
   "execution_count": 130,
   "metadata": {},
   "outputs": [],
   "source": [
    "train, test = train_test_split(df, train_size=0.7, stratify=df[target], random_state=2)\n",
    "X_train, y_train = divide_data(train)\n",
    "X_test, y_test = divide_data(test)"
   ]
  },
  {
   "cell_type": "code",
   "execution_count": 131,
   "metadata": {},
   "outputs": [
    {
     "name": "stdout",
     "output_type": "stream",
     "text": [
      "Requirement already satisfied: catboost in c:\\users\\colacan\\anaconda3\\lib\\site-packages (1.0.4)\n",
      "Requirement already satisfied: scipy in c:\\users\\colacan\\anaconda3\\lib\\site-packages (from catboost) (1.7.3)\n",
      "Requirement already satisfied: numpy>=1.16.0 in c:\\users\\colacan\\anaconda3\\lib\\site-packages (from catboost) (1.20.3)\n",
      "Requirement already satisfied: matplotlib in c:\\users\\colacan\\anaconda3\\lib\\site-packages (from catboost) (3.5.1)\n",
      "Requirement already satisfied: plotly in c:\\users\\colacan\\anaconda3\\lib\\site-packages (from catboost) (5.6.0)\n",
      "Requirement already satisfied: pandas>=0.24.0 in c:\\users\\colacan\\anaconda3\\lib\\site-packages (from catboost) (1.4.1)\n",
      "Requirement already satisfied: graphviz in c:\\users\\colacan\\anaconda3\\lib\\site-packages (from catboost) (0.19.1)\n",
      "Requirement already satisfied: six in c:\\users\\colacan\\anaconda3\\lib\\site-packages (from catboost) (1.16.0)\n",
      "Requirement already satisfied: python-dateutil>=2.8.1 in c:\\users\\colacan\\anaconda3\\lib\\site-packages (from pandas>=0.24.0->catboost) (2.8.2)\n",
      "Requirement already satisfied: pytz>=2020.1 in c:\\users\\colacan\\anaconda3\\lib\\site-packages (from pandas>=0.24.0->catboost) (2021.3)\n",
      "Requirement already satisfied: fonttools>=4.22.0 in c:\\users\\colacan\\anaconda3\\lib\\site-packages (from matplotlib->catboost) (4.25.0)\n",
      "Requirement already satisfied: kiwisolver>=1.0.1 in c:\\users\\colacan\\anaconda3\\lib\\site-packages (from matplotlib->catboost) (1.3.2)\n",
      "Requirement already satisfied: packaging>=20.0 in c:\\users\\colacan\\anaconda3\\lib\\site-packages (from matplotlib->catboost) (21.3)\n",
      "Requirement already satisfied: pyparsing>=2.2.1 in c:\\users\\colacan\\anaconda3\\lib\\site-packages (from matplotlib->catboost) (3.0.4)\n",
      "Requirement already satisfied: pillow>=6.2.0 in c:\\users\\colacan\\anaconda3\\lib\\site-packages (from matplotlib->catboost) (9.0.1)\n",
      "Requirement already satisfied: cycler>=0.10 in c:\\users\\colacan\\anaconda3\\lib\\site-packages (from matplotlib->catboost) (0.11.0)\n",
      "Requirement already satisfied: tenacity>=6.2.0 in c:\\users\\colacan\\anaconda3\\lib\\site-packages (from plotly->catboost) (8.0.1)\n"
     ]
    }
   ],
   "source": [
    "!pip install catboost"
   ]
  },
  {
   "cell_type": "code",
   "execution_count": 132,
   "metadata": {},
   "outputs": [],
   "source": [
    "from catboost import CatBoostClassifier\n",
    "\n",
    "def fit_cb(X_train, y_train):\n",
    "    # YOUR CODE HERE\n",
    "    pipe = make_pipeline(\n",
    "    OrdinalEncoder(),\n",
    "    SimpleImputer(),  \n",
    "    CatBoostClassifier(loss_function = 'MultiClass',class_weights=[0.619,0.818,0.916,0.953,0.969,0.979,0.986,0.993,0.773],early_stopping_rounds=35,verbose=100)\n",
    "    )\n",
    "    # YOUR CODE ENDS HERE\n",
    "    pipe.fit(X_train, y_train)\n",
    "\n",
    "    return pipe"
   ]
  },
  {
   "cell_type": "code",
   "execution_count": 133,
   "metadata": {},
   "outputs": [
    {
     "name": "stdout",
     "output_type": "stream",
     "text": [
      "Learning rate set to 0.098068\n",
      "0:\tlearn: 2.1020365\ttotal: 32.5ms\tremaining: 32.4s\n",
      "100:\tlearn: 1.6493337\ttotal: 2.1s\tremaining: 18.7s\n",
      "200:\tlearn: 1.6123569\ttotal: 4.24s\tremaining: 16.9s\n",
      "300:\tlearn: 1.5867124\ttotal: 6.34s\tremaining: 14.7s\n",
      "400:\tlearn: 1.5631414\ttotal: 8.36s\tremaining: 12.5s\n",
      "500:\tlearn: 1.5420233\ttotal: 10.5s\tremaining: 10.5s\n",
      "600:\tlearn: 1.5235096\ttotal: 12.5s\tremaining: 8.33s\n",
      "700:\tlearn: 1.5056984\ttotal: 14.7s\tremaining: 6.28s\n",
      "800:\tlearn: 1.4893169\ttotal: 16.8s\tremaining: 4.18s\n",
      "900:\tlearn: 1.4729823\ttotal: 18.9s\tremaining: 2.08s\n",
      "999:\tlearn: 1.4574242\ttotal: 21s\tremaining: 0us\n"
     ]
    }
   ],
   "source": [
    "clf_cb = fit_cb(X_train, y_train)"
   ]
  },
  {
   "cell_type": "code",
   "execution_count": 134,
   "metadata": {},
   "outputs": [
    {
     "name": "stdout",
     "output_type": "stream",
     "text": [
      "Confusion Matrix\n",
      "[[7681 1445  105   54   17   21   14   14 1800]\n",
      " [2510 1198   94   38   24   19   10    9 1477]\n",
      " [1169  538   51   30   19   17   13    6  663]\n",
      " [ 587  325   53   25   12   14    8    7  386]\n",
      " [ 378  208   33   18   16   10    9   18  249]\n",
      " [ 245  140   29   25   12    8    7   13  171]\n",
      " [ 142   79   22   24   10   16    6   13  129]\n",
      " [  59   44   11    9    7    5    8   17   70]\n",
      " [2498  909   66   28   25   11    4   13 2542]]\n",
      "정확도:0.40070811204831824, 정밀도:0.33435591772741086, 재현율:0.40070811204831824\n",
      "f1 score : 0.3548893547373126\n"
     ]
    }
   ],
   "source": [
    "pred_cb = clf_cb.predict(X_test)\n",
    "get_clf_eval(y_test, pred_cb)\n",
    "f1 = f1_score(y_test, pred_cb,average='weighted')\n",
    "print('f1 score :', f1)"
   ]
  },
  {
   "cell_type": "code",
   "execution_count": 135,
   "metadata": {},
   "outputs": [],
   "source": [
    "train, test = train_test_split(df, train_size=0.7, stratify=df[target], random_state=2)\n",
    "X_train, y_train = divide_data(train)\n",
    "X_test, y_test = divide_data(test)"
   ]
  },
  {
   "cell_type": "code",
   "execution_count": 136,
   "metadata": {},
   "outputs": [],
   "source": [
    "# XGBClassifier\n",
    "from sklearn.utils import class_weight\n",
    "from xgboost import XGBClassifier\n",
    "\n",
    "def fit_xg(X_train, y_train):\n",
    "\n",
    "    processor = make_pipeline(\n",
    "    OrdinalEncoder(),\n",
    "    SimpleImputer(strategy='median')\n",
    "    )\n",
    "    X_train_processed = processor.fit_transform(X_train)\n",
    "\n",
    "    classes_weights = class_weight.compute_sample_weight(\n",
    "        class_weight='balanced',\n",
    "        y=y_train\n",
    "    )\n",
    "    \n",
    "    clf = XGBClassifier(eval_metric='mlogloss',max_depth = 21,n_estimators = 190)\n",
    "    clf.fit(X_train_processed, y_train, sample_weight=classes_weights)\n",
    "\n",
    "    return clf"
   ]
  },
  {
   "cell_type": "code",
   "execution_count": 137,
   "metadata": {},
   "outputs": [],
   "source": [
    "clf_xg = fit_xg(X_train, y_train)"
   ]
  },
  {
   "cell_type": "code",
   "execution_count": 138,
   "metadata": {},
   "outputs": [
    {
     "name": "stdout",
     "output_type": "stream",
     "text": [
      "Confusion Matrix\n",
      "[[5256 1705  393  192  113   77  101   43 3271]\n",
      " [2125  741  280  100  113   57   70   27 1866]\n",
      " [ 946  387  131   64   56   22   28    9  863]\n",
      " [ 521  243   83   31   33   20    9    8  469]\n",
      " [ 332  142   50   30   26   14    8    1  336]\n",
      " [ 215  108   44   16   23   13    2    2  227]\n",
      " [ 132   79   26   10   16    8    4    1  165]\n",
      " [  84   40   21    1    4    1    3    1   75]\n",
      " [2311  934  258  116   97   66   84   38 2192]]\n",
      "정확도:0.29140199243292025, 정밀도:0.2659092595132, 재현율:0.29140199243292025\n",
      "f1 score : 0.27390762204269453\n"
     ]
    }
   ],
   "source": [
    "processor = make_pipeline(\n",
    "    OrdinalEncoder(),\n",
    "    SimpleImputer(strategy='median')\n",
    "    )\n",
    "X_test_processed = processor.fit_transform(X_test)\n",
    "\n",
    "pred_xg = clf_xg.predict(X_test_processed)\n",
    "\n",
    "get_clf_eval(y_test, pred_xg)\n",
    "\n",
    "f1 = f1_score(y_test, pred_xg,average='weighted')\n",
    "print('f1 score :', f1)"
   ]
  },
  {
   "cell_type": "code",
   "execution_count": 139,
   "metadata": {},
   "outputs": [],
   "source": [
    "import seaborn as sns\n",
    "import matplotlib.pyplot as plt\n",
    "df_by_group =  pd.DataFrame(columns = {'model 1','f1'})"
   ]
  },
  {
   "cell_type": "code",
   "execution_count": 140,
   "metadata": {},
   "outputs": [],
   "source": [
    "data_to_insert = {'model 1': 'baseline','f1': 0.2105}\n",
    "df_by_group = df_by_group.append(data_to_insert, ignore_index=True)"
   ]
  },
  {
   "cell_type": "code",
   "execution_count": 141,
   "metadata": {},
   "outputs": [],
   "source": [
    "data_to_insert = {'model 1': 'RandomForestClassifier','f1': 0.2897}\n",
    "df_by_group = df_by_group.append(data_to_insert, ignore_index=True)"
   ]
  },
  {
   "cell_type": "code",
   "execution_count": 142,
   "metadata": {},
   "outputs": [],
   "source": [
    "data_to_insert = {'model 1': 'CatBoostClassifier','f1': 0.3540}\n",
    "df_by_group = df_by_group.append(data_to_insert, ignore_index=True)"
   ]
  },
  {
   "cell_type": "code",
   "execution_count": 143,
   "metadata": {},
   "outputs": [],
   "source": [
    "data_to_insert = {'model 1': 'XGBClassifier','f1': 0.2767}\n",
    "df_by_group = df_by_group.append(data_to_insert, ignore_index=True)"
   ]
  },
  {
   "cell_type": "code",
   "execution_count": 144,
   "metadata": {},
   "outputs": [
    {
     "data": {
      "text/plain": [
       "(array([0, 1, 2, 3]),\n",
       " [Text(0, 0, 'baseline'),\n",
       "  Text(1, 0, 'RandomForestClassifier'),\n",
       "  Text(2, 0, 'CatBoostClassifier'),\n",
       "  Text(3, 0, 'XGBClassifier')])"
      ]
     },
     "execution_count": 144,
     "metadata": {},
     "output_type": "execute_result"
    },
    {
     "data": {
      "image/png": "[encoded data removed]",
      "text/plain": [
       "<Figure size 432x288 with 1 Axes>"
      ]
     },
     "metadata": {
      "needs_background": "light"
     },
     "output_type": "display_data"
    }
   ],
   "source": [
    "df_by_group.plot.bar(x='model 1',y='f1',rot=0)\n",
    "plt.xticks(rotation=45)"
   ]
  },
  {
   "cell_type": "code",
   "execution_count": 145,
   "metadata": {},
   "outputs": [],
   "source": [
    "train, test = train_test_split(df, train_size=0.7, stratify=df[target], random_state=2)\n",
    "X_train, y_train = divide_data(train)\n",
    "X_test, y_test = divide_data(test)"
   ]
  },
  {
   "cell_type": "code",
   "execution_count": 146,
   "metadata": {},
   "outputs": [
    {
     "name": "stdout",
     "output_type": "stream",
     "text": [
      "Learning rate set to 0.096958\n",
      "0:\tlearn: 2.0990870\ttotal: 25.4ms\tremaining: 25.4s\n",
      "100:\tlearn: 1.6439002\ttotal: 1.7s\tremaining: 15.2s\n",
      "200:\tlearn: 1.6033784\ttotal: 3.41s\tremaining: 13.5s\n",
      "300:\tlearn: 1.5755113\ttotal: 5.1s\tremaining: 11.8s\n",
      "400:\tlearn: 1.5518144\ttotal: 6.77s\tremaining: 10.1s\n",
      "500:\tlearn: 1.5283601\ttotal: 8.48s\tremaining: 8.45s\n",
      "600:\tlearn: 1.5081978\ttotal: 10.1s\tremaining: 6.73s\n",
      "700:\tlearn: 1.4894015\ttotal: 11.8s\tremaining: 5.04s\n",
      "800:\tlearn: 1.4692669\ttotal: 13.6s\tremaining: 3.38s\n",
      "900:\tlearn: 1.4502464\ttotal: 15.3s\tremaining: 1.68s\n",
      "999:\tlearn: 1.4327049\ttotal: 17s\tremaining: 0us\n",
      "Learning rate set to 0.096958\n",
      "0:\tlearn: 2.1031271\ttotal: 20.2ms\tremaining: 20.2s\n",
      "100:\tlearn: 1.6466212\ttotal: 1.73s\tremaining: 15.4s\n",
      "200:\tlearn: 1.6060304\ttotal: 3.42s\tremaining: 13.6s\n",
      "300:\tlearn: 1.5767022\ttotal: 5.12s\tremaining: 11.9s\n",
      "400:\tlearn: 1.5492388\ttotal: 6.87s\tremaining: 10.3s\n",
      "500:\tlearn: 1.5264579\ttotal: 8.63s\tremaining: 8.6s\n",
      "600:\tlearn: 1.5045431\ttotal: 10.4s\tremaining: 6.88s\n",
      "700:\tlearn: 1.4845724\ttotal: 12.1s\tremaining: 5.16s\n",
      "800:\tlearn: 1.4659297\ttotal: 13.8s\tremaining: 3.43s\n",
      "900:\tlearn: 1.4473789\ttotal: 15.5s\tremaining: 1.71s\n",
      "999:\tlearn: 1.4305469\ttotal: 17.3s\tremaining: 0us\n",
      "Learning rate set to 0.096958\n",
      "0:\tlearn: 2.1032797\ttotal: 18.5ms\tremaining: 18.4s\n",
      "100:\tlearn: 1.6501859\ttotal: 1.72s\tremaining: 15.3s\n",
      "200:\tlearn: 1.6092605\ttotal: 3.41s\tremaining: 13.6s\n",
      "300:\tlearn: 1.5796279\ttotal: 5.09s\tremaining: 11.8s\n",
      "400:\tlearn: 1.5535719\ttotal: 6.84s\tremaining: 10.2s\n",
      "500:\tlearn: 1.5295594\ttotal: 8.63s\tremaining: 8.59s\n",
      "600:\tlearn: 1.5075041\ttotal: 10.4s\tremaining: 6.91s\n",
      "700:\tlearn: 1.4874640\ttotal: 12.1s\tremaining: 5.16s\n",
      "800:\tlearn: 1.4682428\ttotal: 13.8s\tremaining: 3.44s\n",
      "900:\tlearn: 1.4501041\ttotal: 15.6s\tremaining: 1.71s\n",
      "999:\tlearn: 1.4324503\ttotal: 17.3s\tremaining: 0us\n",
      "Learning rate set to 0.096958\n",
      "0:\tlearn: 2.1035094\ttotal: 24ms\tremaining: 24s\n",
      "100:\tlearn: 1.6478704\ttotal: 1.76s\tremaining: 15.6s\n",
      "200:\tlearn: 1.6068975\ttotal: 3.5s\tremaining: 13.9s\n",
      "300:\tlearn: 1.5769560\ttotal: 5.3s\tremaining: 12.3s\n",
      "400:\tlearn: 1.5514293\ttotal: 7.04s\tremaining: 10.5s\n",
      "500:\tlearn: 1.5279374\ttotal: 8.79s\tremaining: 8.76s\n",
      "600:\tlearn: 1.5066818\ttotal: 10.5s\tremaining: 6.99s\n",
      "700:\tlearn: 1.4859009\ttotal: 12.3s\tremaining: 5.23s\n",
      "800:\tlearn: 1.4669565\ttotal: 14s\tremaining: 3.48s\n",
      "900:\tlearn: 1.4493792\ttotal: 15.7s\tremaining: 1.73s\n",
      "999:\tlearn: 1.4319795\ttotal: 17.5s\tremaining: 0us\n",
      "Learning rate set to 0.096958\n",
      "0:\tlearn: 2.1029167\ttotal: 24.6ms\tremaining: 24.6s\n",
      "100:\tlearn: 1.6456801\ttotal: 1.73s\tremaining: 15.4s\n",
      "200:\tlearn: 1.6042193\ttotal: 3.44s\tremaining: 13.7s\n",
      "300:\tlearn: 1.5749773\ttotal: 5.17s\tremaining: 12s\n",
      "400:\tlearn: 1.5488153\ttotal: 6.86s\tremaining: 10.2s\n",
      "500:\tlearn: 1.5257832\ttotal: 8.55s\tremaining: 8.52s\n",
      "600:\tlearn: 1.5047550\ttotal: 10.3s\tremaining: 6.83s\n",
      "700:\tlearn: 1.4845605\ttotal: 12.2s\tremaining: 5.19s\n",
      "800:\tlearn: 1.4661764\ttotal: 14s\tremaining: 3.47s\n",
      "900:\tlearn: 1.4477902\ttotal: 15.7s\tremaining: 1.73s\n",
      "999:\tlearn: 1.4299809\ttotal: 17.4s\tremaining: 0us\n",
      "f1 (5 folds): [0.34898871 0.34896352 0.35652322 0.3537961  0.34892648]\n"
     ]
    }
   ],
   "source": [
    "from sklearn.model_selection import cross_val_score\n",
    "from sklearn.metrics import make_scorer\n",
    "\n",
    "# (참고) warning 제거를 위한 코드\n",
    "np.seterr(divide='ignore', invalid='ignore')\n",
    "\n",
    "pipe = make_pipeline(\n",
    "    OrdinalEncoder(), \n",
    "    SimpleImputer(strategy='mean'),\n",
    "    CatBoostClassifier(loss_function = 'MultiClass',class_weights=[0.619,0.818,0.916,0.953,0.969,0.979,0.986,0.993,0.773],early_stopping_rounds=35,verbose=100)\n",
    ")\n",
    "\n",
    "# 5-fold 교차검증을 수행합니다.\n",
    "k = 5\n",
    "scores = cross_val_score(pipe, X_train, y_train, cv=k, scoring=make_scorer(f1_score,average ='weighted'))\n",
    "\n",
    "print(f'f1 ({k} folds):', scores)"
   ]
  },
  {
   "cell_type": "code",
   "execution_count": 147,
   "metadata": {},
   "outputs": [
    {
     "data": {
      "text/plain": [
       "0.35143960683992564"
      ]
     },
     "execution_count": 147,
     "metadata": {},
     "output_type": "execute_result"
    }
   ],
   "source": [
    "scores.mean()"
   ]
  },
  {
   "cell_type": "code",
   "execution_count": 148,
   "metadata": {},
   "outputs": [
    {
     "data": {
      "text/plain": [
       "0.003157526112247325"
      ]
     },
     "execution_count": 148,
     "metadata": {},
     "output_type": "execute_result"
    }
   ],
   "source": [
    "scores.std()\n",
    "# Variance가 작다는 것은 모델 complexity에 비해 sample수가 많다"
   ]
  },
  {
   "cell_type": "code",
   "execution_count": 149,
   "metadata": {},
   "outputs": [],
   "source": [
    "import seaborn as sns\n",
    "import matplotlib.pyplot as plt\n",
    "\n",
    "data = {'fold1': ['fold1', 'fold2', 'fold3', 'fold4', 'fold5'], 'f1': [0.36168032, 0.35623532, 0.35566363, 0.35985314, 0.35414102]}\n",
    "df_by_fold = pd.DataFrame(data=data)"
   ]
  },
  {
   "cell_type": "code",
   "execution_count": 150,
   "metadata": {},
   "outputs": [
    {
     "data": {
      "text/plain": [
       "<AxesSubplot:xlabel='fold1'>"
      ]
     },
     "execution_count": 150,
     "metadata": {},
     "output_type": "execute_result"
    },
    {
     "data": {
      "image/png": "[encoded data removed]",
      "text/plain": [
       "<Figure size 432x288 with 1 Axes>"
      ]
     },
     "metadata": {
      "needs_background": "light"
     },
     "output_type": "display_data"
    }
   ],
   "source": [
    "df_by_fold.plot.bar(x='fold1',y='f1',rot=0)"
   ]
  },
  {
   "cell_type": "code",
   "execution_count": 151,
   "metadata": {},
   "outputs": [],
   "source": [
    "train, test = train_test_split(df, train_size=0.7, stratify=df[target], random_state=2)\n",
    "X_train, y_train = divide_data(train)\n",
    "X_test, y_test = divide_data(test)"
   ]
  },
  {
   "cell_type": "code",
   "execution_count": 152,
   "metadata": {},
   "outputs": [],
   "source": [
    "from catboost import CatBoostClassifier\n",
    "\n",
    "def fit_cb(X_train, y_train):\n",
    "    # YOUR CODE HERE\n",
    "    pipe = make_pipeline(\n",
    "    OrdinalEncoder(),\n",
    "    SimpleImputer(),  \n",
    "    CatBoostClassifier(loss_function = 'MultiClass',class_weights=[0.622,0.77,0.928,0.928,0.974,0.982,0.987,0.993,0.789],early_stopping_rounds=35,verbose=100)\n",
    "    )\n",
    "    # YOUR CODE ENDS HERE\n",
    "    pipe.fit(X_train, y_train)\n",
    "\n",
    "    return pipe"
   ]
  },
  {
   "cell_type": "code",
   "execution_count": 153,
   "metadata": {},
   "outputs": [
    {
     "name": "stdout",
     "output_type": "stream",
     "text": [
      "Learning rate set to 0.098068\n",
      "0:\tlearn: 2.1011815\ttotal: 24.6ms\tremaining: 24.6s\n",
      "100:\tlearn: 1.6476945\ttotal: 2.06s\tremaining: 18.3s\n",
      "200:\tlearn: 1.6097176\ttotal: 4.1s\tremaining: 16.3s\n",
      "300:\tlearn: 1.5837480\ttotal: 6.27s\tremaining: 14.6s\n",
      "400:\tlearn: 1.5607734\ttotal: 8.4s\tremaining: 12.5s\n",
      "500:\tlearn: 1.5399207\ttotal: 10.5s\tremaining: 10.5s\n",
      "600:\tlearn: 1.5214391\ttotal: 12.6s\tremaining: 8.38s\n",
      "700:\tlearn: 1.5035230\ttotal: 14.7s\tremaining: 6.29s\n",
      "800:\tlearn: 1.4865577\ttotal: 16.8s\tremaining: 4.18s\n",
      "900:\tlearn: 1.4711710\ttotal: 19s\tremaining: 2.09s\n",
      "999:\tlearn: 1.4557770\ttotal: 21.2s\tremaining: 0us\n"
     ]
    },
    {
     "data": {
      "text/plain": [
       "<catboost.core.CatBoostClassifier at 0x15e67dc3850>"
      ]
     },
     "execution_count": 153,
     "metadata": {},
     "output_type": "execute_result"
    }
   ],
   "source": [
    "processor = make_pipeline(\n",
    "    OrdinalEncoder(),\n",
    "    SimpleImputer(strategy='median')\n",
    "    )\n",
    "X_train_processed = processor.fit_transform(X_train)\n",
    "\n",
    "res_clf = CatBoostClassifier(loss_function = 'MultiClass',class_weights=[0.622,0.77,0.928,0.928,0.974,0.982,0.987,0.993,0.789],early_stopping_rounds=35,verbose=100)\n",
    "\n",
    "res_clf.fit(X_train_processed,y_train)"
   ]
  },
  {
   "cell_type": "code",
   "execution_count": 154,
   "metadata": {},
   "outputs": [
    {
     "data": {
      "text/plain": [
       "array([ 9.42506961,  3.8843528 ,  3.6941246 , 18.29352653, 13.32113064,\n",
       "       12.2050236 , 12.24629638,  3.98242717,  3.26797755,  3.67377797,\n",
       "        3.28963557, 12.71665759])"
      ]
     },
     "execution_count": 154,
     "metadata": {},
     "output_type": "execute_result"
    }
   ],
   "source": [
    "res_clf.get_feature_importance()"
   ]
  },
  {
   "cell_type": "code",
   "execution_count": 155,
   "metadata": {},
   "outputs": [],
   "source": [
    "def plot_feature_importance(importance,names,model_type):\n",
    "    \n",
    "    #Create arrays from feature importance and feature names\n",
    "    feature_importance = np.array(importance)\n",
    "    feature_names = np.array(names)\n",
    "    \n",
    "    #Create a DataFrame using a Dictionary\n",
    "    data={'feature_names':feature_names,'feature_importance':feature_importance}\n",
    "    fi_df = pd.DataFrame(data)\n",
    "    \n",
    "    #Sort the DataFrame in order decreasing feature importance\n",
    "    fi_df.sort_values(by=['feature_importance'], ascending=False,inplace=True)\n",
    "    \n",
    "    #Define size of bar plot\n",
    "    plt.figure(figsize=(10,8))\n",
    "    #Plot Searborn bar chart\n",
    "    sns.barplot(x=fi_df['feature_importance'], y=fi_df['feature_names'])\n",
    "    #Add chart labels\n",
    "    plt.title(model_type + 'FEATURE IMPORTANCE')\n",
    "    plt.xlabel('FEATURE IMPORTANCE')\n",
    "    plt.ylabel('FEATURE NAMES')"
   ]
  },
  {
   "cell_type": "code",
   "execution_count": 156,
   "metadata": {},
   "outputs": [
    {
     "data": {
      "image/png": "[encoded data removed]",
      "text/plain": [
       "<Figure size 720x576 with 1 Axes>"
      ]
     },
     "metadata": {
      "needs_background": "light"
     },
     "output_type": "display_data"
    }
   ],
   "source": [
    "plot_feature_importance(res_clf.get_feature_importance(),X_train.columns,'CATBOOST')"
   ]
  },
  {
   "cell_type": "code",
   "execution_count": null,
   "metadata": {},
   "outputs": [],
   "source": []
  },
  {
   "cell_type": "code",
   "execution_count": null,
   "metadata": {},
   "outputs": [],
   "source": []
  }
 ],
 "metadata": {
  "interpreter": {
   "hash": "2777d6cdcc847d8b23e024fdc471fca5052584b8a5117ac6ff394b98c975e41f"
  },
  "kernelspec": {
   "display_name": "Python 3.8.12 ('base')",
   "language": "python",
   "name": "python3"
  },
  "language_info": {
   "codemirror_mode": {
    "name": "ipython",
    "version": 3
   },
   "file_extension": ".py",
   "mimetype": "text/x-python",
   "name": "python",
   "nbconvert_exporter": "python",
   "pygments_lexer": "ipython3",
   "version": "3.8.12"
  },
  "orig_nbformat": 4
 },
 "nbformat": 4,
 "nbformat_minor": 2
}
