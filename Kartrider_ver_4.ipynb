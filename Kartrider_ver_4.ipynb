{
 "cells": [
  {
   "cell_type": "code",
   "execution_count": 1,
   "metadata": {},
   "outputs": [],
   "source": [
    "import pandas as pd\n",
    "df = pd.read_csv('C:\\\\Users\\\\colacan\\\\Documents\\\\GitHub\\\\Kartrider_Meta_Analysis_Project\\kartrider_eda.csv')"
   ]
  },
  {
   "cell_type": "code",
   "execution_count": 2,
   "metadata": {},
   "outputs": [],
   "source": [
    "df = df.drop('Unnamed: 0', axis = 1)"
   ]
  },
  {
   "cell_type": "code",
   "execution_count": 3,
   "metadata": {},
   "outputs": [
    {
     "data": {
      "text/html": [
       "<div>\n",
       "<style scoped>\n",
       "    .dataframe tbody tr th:only-of-type {\n",
       "        vertical-align: middle;\n",
       "    }\n",
       "\n",
       "    .dataframe tbody tr th {\n",
       "        vertical-align: top;\n",
       "    }\n",
       "\n",
       "    .dataframe thead th {\n",
       "        text-align: right;\n",
       "    }\n",
       "</style>\n",
       "<table border=\"1\" class=\"dataframe\">\n",
       "  <thead>\n",
       "    <tr style=\"text-align: right;\">\n",
       "      <th></th>\n",
       "      <th>channelName</th>\n",
       "      <th>gameSpeed</th>\n",
       "      <th>matchType</th>\n",
       "      <th>trackId</th>\n",
       "      <th>kart</th>\n",
       "      <th>pet</th>\n",
       "      <th>flyingPet</th>\n",
       "      <th>partsEngine</th>\n",
       "      <th>partsHandle</th>\n",
       "      <th>partsWheel</th>\n",
       "      <th>partsKit</th>\n",
       "      <th>rankinggrade2</th>\n",
       "      <th>matchRank</th>\n",
       "      <th>matchTime</th>\n",
       "    </tr>\n",
       "  </thead>\n",
       "  <tbody>\n",
       "    <tr>\n",
       "      <th>0</th>\n",
       "      <td>speedIndiCombine</td>\n",
       "      <td>7</td>\n",
       "      <td>7b9f0fd5377c38514dbb78ebe63ac6c3b81009d5a31dd5...</td>\n",
       "      <td>2fd45f66e1c8df78c260aeffab51e3d9ba41bbd4a3952a...</td>\n",
       "      <td>9d20fe9502958d53fba8fd567036e853318407e575fa82...</td>\n",
       "      <td>36e0b23b8a828cbe001bc81e4580db8f27637febb3bcfc...</td>\n",
       "      <td>a87cb96d91a4e0c357c4eaeb7dbc05ef515d183e79a8aa...</td>\n",
       "      <td>over_ver_engine</td>\n",
       "      <td>over_ver_handle</td>\n",
       "      <td>over_ver_wheel</td>\n",
       "      <td>over_ver_kit</td>\n",
       "      <td>3</td>\n",
       "      <td>1.0</td>\n",
       "      <td>135.0</td>\n",
       "    </tr>\n",
       "    <tr>\n",
       "      <th>1</th>\n",
       "      <td>speedIndiInfinit</td>\n",
       "      <td>4</td>\n",
       "      <td>7b9f0fd5377c38514dbb78ebe63ac6c3b81009d5a31dd5...</td>\n",
       "      <td>3a801d3a1be83ef6c290f942e9a9c90b8a5ebc8d978eaa...</td>\n",
       "      <td>d47aa62de79d88ecee263e07456555d99ff8957f1760d0...</td>\n",
       "      <td>non_pet</td>\n",
       "      <td>non_flyingPet</td>\n",
       "      <td>1.0</td>\n",
       "      <td>1.0</td>\n",
       "      <td>1.0</td>\n",
       "      <td>1.0</td>\n",
       "      <td>2</td>\n",
       "      <td>1.0</td>\n",
       "      <td>679.0</td>\n",
       "    </tr>\n",
       "    <tr>\n",
       "      <th>2</th>\n",
       "      <td>speedIndiCombine</td>\n",
       "      <td>7</td>\n",
       "      <td>7b9f0fd5377c38514dbb78ebe63ac6c3b81009d5a31dd5...</td>\n",
       "      <td>d167c7195cee3b4e65cf30f507affb0a85d00a5babfc6a...</td>\n",
       "      <td>eb333073a3486846660dc9e82e6b0c55c508c31853e4f4...</td>\n",
       "      <td>7b34fb3da1d2b564672a2ae3938c7ad011f2743e18f088...</td>\n",
       "      <td>d064fb1098287bc1ddf83798b94585ee317dcd90275b10...</td>\n",
       "      <td>over_ver_engine</td>\n",
       "      <td>over_ver_handle</td>\n",
       "      <td>over_ver_wheel</td>\n",
       "      <td>over_ver_kit</td>\n",
       "      <td>3</td>\n",
       "      <td>1.0</td>\n",
       "      <td>123.0</td>\n",
       "    </tr>\n",
       "    <tr>\n",
       "      <th>3</th>\n",
       "      <td>speedIndiNewbie</td>\n",
       "      <td>7</td>\n",
       "      <td>7b9f0fd5377c38514dbb78ebe63ac6c3b81009d5a31dd5...</td>\n",
       "      <td>8d50ed8ae32a4ce260dd7d8303552f72f3e80f15d8bf41...</td>\n",
       "      <td>2aeff87dba14c8445406fac69263eb788a40e1bb792b36...</td>\n",
       "      <td>e021e32edef255c629c3d46b02e639cbb5093f536d06e7...</td>\n",
       "      <td>16c0894cf7de4a419b2a4fb40568922546ac1436db1bda...</td>\n",
       "      <td>over_ver_engine</td>\n",
       "      <td>over_ver_handle</td>\n",
       "      <td>over_ver_wheel</td>\n",
       "      <td>over_ver_kit</td>\n",
       "      <td>0</td>\n",
       "      <td>1.0</td>\n",
       "      <td>141.0</td>\n",
       "    </tr>\n",
       "    <tr>\n",
       "      <th>4</th>\n",
       "      <td>speedIndiInfinit</td>\n",
       "      <td>4</td>\n",
       "      <td>7b9f0fd5377c38514dbb78ebe63ac6c3b81009d5a31dd5...</td>\n",
       "      <td>3a801d3a1be83ef6c290f942e9a9c90b8a5ebc8d978eaa...</td>\n",
       "      <td>5dae1a3dd645b7e8ee1e61b51c7f4111d9861b08ed0cdc...</td>\n",
       "      <td>non_pet</td>\n",
       "      <td>a87cb96d91a4e0c357c4eaeb7dbc05ef515d183e79a8aa...</td>\n",
       "      <td>over_ver_engine</td>\n",
       "      <td>over_ver_handle</td>\n",
       "      <td>over_ver_wheel</td>\n",
       "      <td>over_ver_kit</td>\n",
       "      <td>5</td>\n",
       "      <td>1.0</td>\n",
       "      <td>637.0</td>\n",
       "    </tr>\n",
       "    <tr>\n",
       "      <th>...</th>\n",
       "      <td>...</td>\n",
       "      <td>...</td>\n",
       "      <td>...</td>\n",
       "      <td>...</td>\n",
       "      <td>...</td>\n",
       "      <td>...</td>\n",
       "      <td>...</td>\n",
       "      <td>...</td>\n",
       "      <td>...</td>\n",
       "      <td>...</td>\n",
       "      <td>...</td>\n",
       "      <td>...</td>\n",
       "      <td>...</td>\n",
       "      <td>...</td>\n",
       "    </tr>\n",
       "    <tr>\n",
       "      <th>96024</th>\n",
       "      <td>itemIndiCombine</td>\n",
       "      <td>7</td>\n",
       "      <td>7ca6fd44026a2c8f5d939b60aa56b4b1714b9cc2355ec5...</td>\n",
       "      <td>692fe5afee5a6423472247e044d61f813ca86a3bd72e5a...</td>\n",
       "      <td>7e9af2569848299f8aae60f4cfdeb21df32daa1f26aef4...</td>\n",
       "      <td>875fb610637b0d48341b73c0bdb078fa90954c477ea9f2...</td>\n",
       "      <td>0ba76db19374fe129bea077d5f72b9db5e5763afef4432...</td>\n",
       "      <td>1.0</td>\n",
       "      <td>1.0</td>\n",
       "      <td>1.0</td>\n",
       "      <td>1.0</td>\n",
       "      <td>2</td>\n",
       "      <td>1.0</td>\n",
       "      <td>119.0</td>\n",
       "    </tr>\n",
       "    <tr>\n",
       "      <th>96025</th>\n",
       "      <td>itemIndiCombine</td>\n",
       "      <td>7</td>\n",
       "      <td>7ca6fd44026a2c8f5d939b60aa56b4b1714b9cc2355ec5...</td>\n",
       "      <td>692fe5afee5a6423472247e044d61f813ca86a3bd72e5a...</td>\n",
       "      <td>227c55eaa613b7932ff0ed5918bca667aa609dd18d5be4...</td>\n",
       "      <td>fde208f0931f9d4ddb97b315b84ac6e15d4e4f0e1f799b...</td>\n",
       "      <td>non_flyingPet</td>\n",
       "      <td>over_ver_engine</td>\n",
       "      <td>over_ver_handle</td>\n",
       "      <td>over_ver_wheel</td>\n",
       "      <td>over_ver_kit</td>\n",
       "      <td>1</td>\n",
       "      <td>99.0</td>\n",
       "      <td>999.0</td>\n",
       "    </tr>\n",
       "    <tr>\n",
       "      <th>96026</th>\n",
       "      <td>itemIndiCombine</td>\n",
       "      <td>7</td>\n",
       "      <td>7ca6fd44026a2c8f5d939b60aa56b4b1714b9cc2355ec5...</td>\n",
       "      <td>692fe5afee5a6423472247e044d61f813ca86a3bd72e5a...</td>\n",
       "      <td>7e9af2569848299f8aae60f4cfdeb21df32daa1f26aef4...</td>\n",
       "      <td>b5e59da7e51a056fca10406d710af9898b1f29e4182036...</td>\n",
       "      <td>a87cb96d91a4e0c357c4eaeb7dbc05ef515d183e79a8aa...</td>\n",
       "      <td>1.0</td>\n",
       "      <td>0.0</td>\n",
       "      <td>1.0</td>\n",
       "      <td>2.0</td>\n",
       "      <td>2</td>\n",
       "      <td>5.0</td>\n",
       "      <td>123.0</td>\n",
       "    </tr>\n",
       "    <tr>\n",
       "      <th>96027</th>\n",
       "      <td>itemIndiCombine</td>\n",
       "      <td>7</td>\n",
       "      <td>7ca6fd44026a2c8f5d939b60aa56b4b1714b9cc2355ec5...</td>\n",
       "      <td>692fe5afee5a6423472247e044d61f813ca86a3bd72e5a...</td>\n",
       "      <td>faf963e754c62f90d61f127d4c7f17d04947cce93acd96...</td>\n",
       "      <td>b5e59da7e51a056fca10406d710af9898b1f29e4182036...</td>\n",
       "      <td>8cc64a4759f245b29ecb30043ae6eb9f9cd63ece7fd9f4...</td>\n",
       "      <td>0.0</td>\n",
       "      <td>0.0</td>\n",
       "      <td>0.0</td>\n",
       "      <td>0.0</td>\n",
       "      <td>2</td>\n",
       "      <td>2.0</td>\n",
       "      <td>120.0</td>\n",
       "    </tr>\n",
       "    <tr>\n",
       "      <th>96028</th>\n",
       "      <td>itemIndiCombine</td>\n",
       "      <td>7</td>\n",
       "      <td>7ca6fd44026a2c8f5d939b60aa56b4b1714b9cc2355ec5...</td>\n",
       "      <td>692fe5afee5a6423472247e044d61f813ca86a3bd72e5a...</td>\n",
       "      <td>199114d190e456acde0c46e436c2770cc2ead1e8641027...</td>\n",
       "      <td>492e06ae60ff9d70c311cab587117173484ff667a58832...</td>\n",
       "      <td>a87cb96d91a4e0c357c4eaeb7dbc05ef515d183e79a8aa...</td>\n",
       "      <td>2.0</td>\n",
       "      <td>1.0</td>\n",
       "      <td>2.0</td>\n",
       "      <td>2.0</td>\n",
       "      <td>0</td>\n",
       "      <td>4.0</td>\n",
       "      <td>123.0</td>\n",
       "    </tr>\n",
       "  </tbody>\n",
       "</table>\n",
       "<p>96029 rows × 14 columns</p>\n",
       "</div>"
      ],
      "text/plain": [
       "            channelName  gameSpeed  \\\n",
       "0      speedIndiCombine          7   \n",
       "1      speedIndiInfinit          4   \n",
       "2      speedIndiCombine          7   \n",
       "3       speedIndiNewbie          7   \n",
       "4      speedIndiInfinit          4   \n",
       "...                 ...        ...   \n",
       "96024   itemIndiCombine          7   \n",
       "96025   itemIndiCombine          7   \n",
       "96026   itemIndiCombine          7   \n",
       "96027   itemIndiCombine          7   \n",
       "96028   itemIndiCombine          7   \n",
       "\n",
       "                                               matchType  \\\n",
       "0      7b9f0fd5377c38514dbb78ebe63ac6c3b81009d5a31dd5...   \n",
       "1      7b9f0fd5377c38514dbb78ebe63ac6c3b81009d5a31dd5...   \n",
       "2      7b9f0fd5377c38514dbb78ebe63ac6c3b81009d5a31dd5...   \n",
       "3      7b9f0fd5377c38514dbb78ebe63ac6c3b81009d5a31dd5...   \n",
       "4      7b9f0fd5377c38514dbb78ebe63ac6c3b81009d5a31dd5...   \n",
       "...                                                  ...   \n",
       "96024  7ca6fd44026a2c8f5d939b60aa56b4b1714b9cc2355ec5...   \n",
       "96025  7ca6fd44026a2c8f5d939b60aa56b4b1714b9cc2355ec5...   \n",
       "96026  7ca6fd44026a2c8f5d939b60aa56b4b1714b9cc2355ec5...   \n",
       "96027  7ca6fd44026a2c8f5d939b60aa56b4b1714b9cc2355ec5...   \n",
       "96028  7ca6fd44026a2c8f5d939b60aa56b4b1714b9cc2355ec5...   \n",
       "\n",
       "                                                 trackId  \\\n",
       "0      2fd45f66e1c8df78c260aeffab51e3d9ba41bbd4a3952a...   \n",
       "1      3a801d3a1be83ef6c290f942e9a9c90b8a5ebc8d978eaa...   \n",
       "2      d167c7195cee3b4e65cf30f507affb0a85d00a5babfc6a...   \n",
       "3      8d50ed8ae32a4ce260dd7d8303552f72f3e80f15d8bf41...   \n",
       "4      3a801d3a1be83ef6c290f942e9a9c90b8a5ebc8d978eaa...   \n",
       "...                                                  ...   \n",
       "96024  692fe5afee5a6423472247e044d61f813ca86a3bd72e5a...   \n",
       "96025  692fe5afee5a6423472247e044d61f813ca86a3bd72e5a...   \n",
       "96026  692fe5afee5a6423472247e044d61f813ca86a3bd72e5a...   \n",
       "96027  692fe5afee5a6423472247e044d61f813ca86a3bd72e5a...   \n",
       "96028  692fe5afee5a6423472247e044d61f813ca86a3bd72e5a...   \n",
       "\n",
       "                                                    kart  \\\n",
       "0      9d20fe9502958d53fba8fd567036e853318407e575fa82...   \n",
       "1      d47aa62de79d88ecee263e07456555d99ff8957f1760d0...   \n",
       "2      eb333073a3486846660dc9e82e6b0c55c508c31853e4f4...   \n",
       "3      2aeff87dba14c8445406fac69263eb788a40e1bb792b36...   \n",
       "4      5dae1a3dd645b7e8ee1e61b51c7f4111d9861b08ed0cdc...   \n",
       "...                                                  ...   \n",
       "96024  7e9af2569848299f8aae60f4cfdeb21df32daa1f26aef4...   \n",
       "96025  227c55eaa613b7932ff0ed5918bca667aa609dd18d5be4...   \n",
       "96026  7e9af2569848299f8aae60f4cfdeb21df32daa1f26aef4...   \n",
       "96027  faf963e754c62f90d61f127d4c7f17d04947cce93acd96...   \n",
       "96028  199114d190e456acde0c46e436c2770cc2ead1e8641027...   \n",
       "\n",
       "                                                     pet  \\\n",
       "0      36e0b23b8a828cbe001bc81e4580db8f27637febb3bcfc...   \n",
       "1                                                non_pet   \n",
       "2      7b34fb3da1d2b564672a2ae3938c7ad011f2743e18f088...   \n",
       "3      e021e32edef255c629c3d46b02e639cbb5093f536d06e7...   \n",
       "4                                                non_pet   \n",
       "...                                                  ...   \n",
       "96024  875fb610637b0d48341b73c0bdb078fa90954c477ea9f2...   \n",
       "96025  fde208f0931f9d4ddb97b315b84ac6e15d4e4f0e1f799b...   \n",
       "96026  b5e59da7e51a056fca10406d710af9898b1f29e4182036...   \n",
       "96027  b5e59da7e51a056fca10406d710af9898b1f29e4182036...   \n",
       "96028  492e06ae60ff9d70c311cab587117173484ff667a58832...   \n",
       "\n",
       "                                               flyingPet      partsEngine  \\\n",
       "0      a87cb96d91a4e0c357c4eaeb7dbc05ef515d183e79a8aa...  over_ver_engine   \n",
       "1                                          non_flyingPet              1.0   \n",
       "2      d064fb1098287bc1ddf83798b94585ee317dcd90275b10...  over_ver_engine   \n",
       "3      16c0894cf7de4a419b2a4fb40568922546ac1436db1bda...  over_ver_engine   \n",
       "4      a87cb96d91a4e0c357c4eaeb7dbc05ef515d183e79a8aa...  over_ver_engine   \n",
       "...                                                  ...              ...   \n",
       "96024  0ba76db19374fe129bea077d5f72b9db5e5763afef4432...              1.0   \n",
       "96025                                      non_flyingPet  over_ver_engine   \n",
       "96026  a87cb96d91a4e0c357c4eaeb7dbc05ef515d183e79a8aa...              1.0   \n",
       "96027  8cc64a4759f245b29ecb30043ae6eb9f9cd63ece7fd9f4...              0.0   \n",
       "96028  a87cb96d91a4e0c357c4eaeb7dbc05ef515d183e79a8aa...              2.0   \n",
       "\n",
       "           partsHandle      partsWheel      partsKit  rankinggrade2  \\\n",
       "0      over_ver_handle  over_ver_wheel  over_ver_kit              3   \n",
       "1                  1.0             1.0           1.0              2   \n",
       "2      over_ver_handle  over_ver_wheel  over_ver_kit              3   \n",
       "3      over_ver_handle  over_ver_wheel  over_ver_kit              0   \n",
       "4      over_ver_handle  over_ver_wheel  over_ver_kit              5   \n",
       "...                ...             ...           ...            ...   \n",
       "96024              1.0             1.0           1.0              2   \n",
       "96025  over_ver_handle  over_ver_wheel  over_ver_kit              1   \n",
       "96026              0.0             1.0           2.0              2   \n",
       "96027              0.0             0.0           0.0              2   \n",
       "96028              1.0             2.0           2.0              0   \n",
       "\n",
       "       matchRank  matchTime  \n",
       "0            1.0      135.0  \n",
       "1            1.0      679.0  \n",
       "2            1.0      123.0  \n",
       "3            1.0      141.0  \n",
       "4            1.0      637.0  \n",
       "...          ...        ...  \n",
       "96024        1.0      119.0  \n",
       "96025       99.0      999.0  \n",
       "96026        5.0      123.0  \n",
       "96027        2.0      120.0  \n",
       "96028        4.0      123.0  \n",
       "\n",
       "[96029 rows x 14 columns]"
      ]
     },
     "execution_count": 3,
     "metadata": {},
     "output_type": "execute_result"
    }
   ],
   "source": [
    "df"
   ]
  },
  {
   "cell_type": "code",
   "execution_count": 4,
   "metadata": {},
   "outputs": [],
   "source": [
    "# 등수 예측이 목적이므로 타겟은 matchRank\n",
    "target = 'matchRank'"
   ]
  },
  {
   "cell_type": "code",
   "execution_count": 6,
   "metadata": {},
   "outputs": [
    {
     "data": {
      "text/plain": [
       "<seaborn.axisgrid.FacetGrid at 0x13444318548>"
      ]
     },
     "execution_count": 6,
     "metadata": {},
     "output_type": "execute_result"
    },
    {
     "data": {
      "image/png": "[encoded data removed]",
      "text/plain": [
       "<Figure size 360x360 with 1 Axes>"
      ]
     },
     "metadata": {
      "needs_background": "light"
     },
     "output_type": "display_data"
    }
   ],
   "source": [
    "# 타겟이 범주형데이터이므로 분류문제로 해결\n",
    "import seaborn as sns\n",
    "sns.displot(df[target])"
   ]
  },
  {
   "cell_type": "code",
   "execution_count": 7,
   "metadata": {},
   "outputs": [
    {
     "data": {
      "text/plain": [
       "1.0     0.387081\n",
       "99.0    0.211603\n",
       "2.0     0.186704\n",
       "3.0     0.086974\n",
       "4.0     0.049173\n",
       "5.0     0.032605\n",
       "6.0     0.022556\n",
       "7.0     0.015329\n",
       "8.0     0.007977\n",
       "Name: matchRank, dtype: float64"
      ]
     },
     "execution_count": 7,
     "metadata": {},
     "output_type": "execute_result"
    }
   ],
   "source": [
    "df[target].value_counts(normalize = True)"
   ]
  },
  {
   "cell_type": "code",
   "execution_count": 8,
   "metadata": {},
   "outputs": [],
   "source": [
    "major = df[target].mode()[0]\n",
    "pred = [major] * len(df[target])"
   ]
  },
  {
   "cell_type": "code",
   "execution_count": 9,
   "metadata": {},
   "outputs": [
    {
     "name": "stdout",
     "output_type": "stream",
     "text": [
      "training accuracy:  0.3870809859521603\n"
     ]
    }
   ],
   "source": [
    "from sklearn.metrics import accuracy_score\n",
    "import sklearn.metrics as metrics\n",
    "from sklearn.metrics import classification_report\n",
    "\n",
    "# 기준모델의 평가지표\n",
    "print(\"training accuracy: \", metrics.accuracy_score(df[target], pred))"
   ]
  },
  {
   "cell_type": "code",
   "execution_count": 10,
   "metadata": {},
   "outputs": [],
   "source": [
    "from sklearn.model_selection import train_test_split\n",
    "train, test = train_test_split(df, train_size=0.7, stratify=df[target], random_state=2)"
   ]
  },
  {
   "cell_type": "code",
   "execution_count": 11,
   "metadata": {},
   "outputs": [
    {
     "data": {
      "text/plain": [
       "((67220, 14), (28809, 14))"
      ]
     },
     "execution_count": 11,
     "metadata": {},
     "output_type": "execute_result"
    }
   ],
   "source": [
    "train.shape,test.shape"
   ]
  },
  {
   "cell_type": "code",
   "execution_count": 12,
   "metadata": {},
   "outputs": [],
   "source": [
    "import pandas as pd\n",
    "import numpy as np\n",
    "from sklearn.model_selection import train_test_split\n",
    "\n",
    "def divide_data(df):\n",
    "    X = df.drop('matchRank', axis = 1)\n",
    "    y = df['matchRank']\n",
    "    return X, y\n"
   ]
  },
  {
   "cell_type": "code",
   "execution_count": 22,
   "metadata": {},
   "outputs": [],
   "source": [
    "train, test = train_test_split(df, train_size=0.7, stratify=df[target], random_state=2)\n",
    "X_train, y_train = divide_data(train)\n",
    "X_test, y_test = divide_data(test)"
   ]
  },
  {
   "cell_type": "code",
   "execution_count": null,
   "metadata": {},
   "outputs": [],
   "source": [
    "print(X_train.shape,y_train.shape)\n",
    "print(X_test.shape,y_test.shape)"
   ]
  },
  {
   "cell_type": "code",
   "execution_count": 23,
   "metadata": {},
   "outputs": [
    {
     "name": "stdout",
     "output_type": "stream",
     "text": [
      "Requirement already satisfied: xgboost in c:\\users\\colacan\\anaconda3\\envs\\data_science\\lib\\site-packages (1.5.2)\n",
      "Requirement already satisfied: numpy in c:\\users\\colacan\\anaconda3\\envs\\data_science\\lib\\site-packages (from xgboost) (1.21.5)\n",
      "Requirement already satisfied: scipy in c:\\users\\colacan\\anaconda3\\envs\\data_science\\lib\\site-packages (from xgboost) (1.7.3)\n"
     ]
    }
   ],
   "source": [
    "!pip install xgboost"
   ]
  },
  {
   "cell_type": "code",
   "execution_count": 34,
   "metadata": {},
   "outputs": [],
   "source": [
    "train, test = train_test_split(df, train_size=0.7, stratify=df[target], random_state=2)\n",
    "X_train, y_train = divide_data(train)\n",
    "X_test, y_test = divide_data(test)"
   ]
  },
  {
   "cell_type": "code",
   "execution_count": 45,
   "metadata": {},
   "outputs": [
    {
     "data": {
      "text/plain": [
       "Pipeline(steps=[('ordinalencoder',\n",
       "                 OrdinalEncoder(cols=['channelName', 'matchType', 'trackId',\n",
       "                                      'kart', 'pet', 'flyingPet', 'partsEngine',\n",
       "                                      'partsHandle', 'partsWheel', 'partsKit'],\n",
       "                                mapping=[{'col': 'channelName',\n",
       "                                          'data_type': dtype('O'),\n",
       "                                          'mapping': itemIndiCombine          1\n",
       "itemNewItemIndiNewbie    2\n",
       "speedIndiCombine         3\n",
       "speedIndiInfinit         4\n",
       "speedIndiNewbie          5\n",
       "NaN                     -2\n",
       "dtype: int64},\n",
       "                                         {'col': 'matc...\n",
       "dtype: int64},\n",
       "                                         {'col': 'partsKit',\n",
       "                                          'data_type': dtype('O'),\n",
       "                                          'mapping': over_ver_kit     1\n",
       "0.0              2\n",
       "2.0              3\n",
       "1.0              4\n",
       "3.0              5\n",
       "8.0              6\n",
       "7.0              7\n",
       "5.0              8\n",
       "6.0              9\n",
       "12.0            10\n",
       "10.0            11\n",
       "4.0             12\n",
       "11.0            13\n",
       "30.0            14\n",
       "15.0            15\n",
       "13.0            16\n",
       "20.0            17\n",
       "17.0            18\n",
       "23.0            19\n",
       "22.0            20\n",
       "16.0            21\n",
       "14.0            22\n",
       "27.0            23\n",
       "25.0            24\n",
       "26.0            25\n",
       "24.0            26\n",
       "29.0            27\n",
       "28.0            28\n",
       "21.0            29\n",
       "19.0            30\n",
       "18.0            31\n",
       "NaN             -2\n",
       "dtype: int64}])),\n",
       "                ('simpleimputer', SimpleImputer()),\n",
       "                ('kneighborsclassifier', KNeighborsClassifier(n_neighbors=1))])"
      ]
     },
     "execution_count": 45,
     "metadata": {},
     "output_type": "execute_result"
    }
   ],
   "source": [
    "from sklearn.neighbors import KNeighborsClassifier\n",
    "\n",
    "pipe_knn = make_pipeline(\n",
    "    OrdinalEncoder(),\n",
    "    SimpleImputer(),  \n",
    "    KNeighborsClassifier(n_neighbors=1)\n",
    "    )\n",
    "\n",
    "pipe_knn.fit(X_train, y_train)"
   ]
  },
  {
   "cell_type": "code",
   "execution_count": 49,
   "metadata": {},
   "outputs": [
    {
     "name": "stdout",
     "output_type": "stream",
     "text": [
      "Confusion Matrix\n",
      "[[6178 2445 1042  580  371  215  144   65  111]\n",
      " [2343 1363  681  369  250  161  117   36   59]\n",
      " [ 967  657  316  199  150  100   63   29   25]\n",
      " [ 500  334  214  130   98   66   45   19   11]\n",
      " [ 330  195  142  100   65   42   46   17    2]\n",
      " [ 203  148   92   63   57   34   29   17    7]\n",
      " [ 137   83   68   36   43   34   23   16    1]\n",
      " [  70   44   32   24   13   17   20    9    1]\n",
      " [  43   19   13    7    1    7    2    0 6004]]\n",
      "정확도:0.49019403658578914, 정밀도:0.4933920562805927, 재현율:0.49019403658578914\n"
     ]
    }
   ],
   "source": [
    "from sklearn.metrics import accuracy_score, precision_score, recall_score, confusion_matrix\n",
    "\n",
    "def get_clf_eval(y_test, pred):\n",
    "    confusion = confusion_matrix(y_test, pred)\n",
    "    accuracy = accuracy_score(y_test, pred)\n",
    "    precision = precision_score(y_test, pred,average='weighted')\n",
    "    recall = recall_score(y_test, pred,average='weighted')\n",
    "    print('Confusion Matrix')\n",
    "    print(confusion)\n",
    "    print('정확도:{}, 정밀도:{}, 재현율:{}'.format(accuracy, precision, recall))\n",
    "\n",
    "pred_knn = pipe_knn.predict(X_test)\n",
    "\n",
    "get_clf_eval(y_test, pred_knn)"
   ]
  },
  {
   "cell_type": "code",
   "execution_count": 51,
   "metadata": {},
   "outputs": [
    {
     "name": "stdout",
     "output_type": "stream",
     "text": [
      "f1 score : 0.4916851324076603\n"
     ]
    }
   ],
   "source": [
    "from sklearn.metrics import f1_score\n",
    "\n",
    "f1 = f1_score(y_test, pred_knn,average='weighted')\n",
    "print('f1 score :', f1)"
   ]
  },
  {
   "cell_type": "code",
   "execution_count": 144,
   "metadata": {},
   "outputs": [],
   "source": [
    "train, test = train_test_split(df, train_size=0.7, stratify=df[target], random_state=2)\n",
    "X_train, y_train = divide_data(train)\n",
    "X_test, y_test = divide_data(test)"
   ]
  },
  {
   "cell_type": "code",
   "execution_count": 151,
   "metadata": {},
   "outputs": [],
   "source": [
    "# XGBClassifier\n",
    "from xgboost import XGBClassifier\n",
    "\n",
    "train, test = train_test_split(df, train_size=0.7, stratify=df[target], random_state=2)\n",
    "X_train, y_train = divide_data(train)\n",
    "X_test, y_test = divide_data(test)\n",
    "\n",
    "def fit_xg(X_train, y_train):\n",
    "\n",
    "    pipe = make_pipeline(\n",
    "    OrdinalEncoder(),\n",
    "    SimpleImputer(strategy='median'),  \n",
    "    XGBClassifier(eval_metric='mlogloss')\n",
    "    )\n",
    "    dists = {\n",
    "    'xgbclassifier__max_depth' : [5, 10, 15, 20, None],\n",
    "    'xgbclassifier__n_estimators' : randint(50, 500),\n",
    "    'xgbclassifier__learning_rate' : uniform(0, 1)\n",
    "    }\n",
    "    clf = RandomizedSearchCV(\n",
    "    pipe, \n",
    "    param_distributions=dists, \n",
    "    n_iter=2, \n",
    "    cv=2, \n",
    "    scoring='f1'\n",
    "    )\n",
    "    # YOUR CODE ENDS HERE\n",
    "\n",
    "    clf.fit(X_train, y_train)\n",
    "    print(\"Optimal Hyperparameter:\", clf.best_params_)\n",
    "\n",
    "    return clf"
   ]
  },
  {
   "cell_type": "code",
   "execution_count": 152,
   "metadata": {},
   "outputs": [
    {
     "name": "stdout",
     "output_type": "stream",
     "text": [
      "Optimal Hyperparameter: {'xgbclassifier__learning_rate': 0.706763355999453, 'xgbclassifier__max_depth': 20, 'xgbclassifier__n_estimators': 406}\n"
     ]
    }
   ],
   "source": [
    "clf_xg = fit_xg(X_train, y_train)"
   ]
  },
  {
   "cell_type": "code",
   "execution_count": 153,
   "metadata": {},
   "outputs": [
    {
     "name": "stdout",
     "output_type": "stream",
     "text": [
      "Confusion Matrix\n",
      "[[7904 2245  529  217  125   77   26   17   11]\n",
      " [3001 1502  486  171  112   56   33   11    7]\n",
      " [1201  735  261  124   87   52   28   16    2]\n",
      " [ 600  354  192  108   75   54   18   15    1]\n",
      " [ 342  254  118   81   55   45   23   21    0]\n",
      " [ 214  141   94   61   56   34   29   20    1]\n",
      " [ 136  107   52   45   35   29   21   16    0]\n",
      " [  70   51   29   19   12   14   16   19    0]\n",
      " [   0    0    0    1    0    0    0    0 6095]]\n",
      "정확도:0.5553472873060502, 정밀도:0.5174777946546643, 재현율:0.5553472873060502\n",
      "f1 score : 0.5329614906231382\n"
     ]
    }
   ],
   "source": [
    "pred_xg = clf_xg.predict(X_test)\n",
    "\n",
    "get_clf_eval(y_test, pred_xg)\n",
    "\n",
    "f1 = f1_score(y_test, pred_xg,average='weighted')\n",
    "print('f1 score :', f1)"
   ]
  },
  {
   "cell_type": "code",
   "execution_count": 139,
   "metadata": {},
   "outputs": [],
   "source": [
    "train, test = train_test_split(df, train_size=0.7, stratify=df[target], random_state=2)\n",
    "X_train, y_train = divide_data(train)\n",
    "X_test, y_test = divide_data(test)"
   ]
  },
  {
   "cell_type": "code",
   "execution_count": 140,
   "metadata": {},
   "outputs": [],
   "source": [
    "# 모델 테스트\n",
    "from sklearn.model_selection import RandomizedSearchCV\n",
    "from sklearn.pipeline import make_pipeline\n",
    "from sklearn.metrics import classification_report\n",
    "\n",
    "# import any libraries needed\n",
    "# YOUR CODE HERE\n",
    "from sklearn.ensemble import RandomForestClassifier\n",
    "from category_encoders import OrdinalEncoder\n",
    "from sklearn.impute import SimpleImputer\n",
    "from scipy.stats import randint, uniform\n",
    "# YOUR CODE ENDS HERE\n",
    "\n",
    "def fit_rf(X_train, y_train):\n",
    "    # YOUR CODE HERE\n",
    "    pipe = make_pipeline(\n",
    "    OrdinalEncoder(),\n",
    "    SimpleImputer(),  \n",
    "    RandomForestClassifier(class_weight = \"balanced\", random_state=42)\n",
    "    )\n",
    "    dists = {\n",
    "    'randomforestclassifier__max_depth' : [7,8,9,10,11,12,13,14,15],\n",
    "    'randomforestclassifier__max_features' : [2,3,4,5,10],\n",
    "    'randomforestclassifier__n_estimators' : [80,100,150,200,250,300]\n",
    "    }\n",
    "    clf = RandomizedSearchCV(\n",
    "    pipe, \n",
    "    param_distributions=dists, \n",
    "    n_iter=2, \n",
    "    cv=2, \n",
    "    scoring='f1',  \n",
    "    verbose=1,\n",
    "    n_jobs=-1,\n",
    "    random_state = 42\n",
    "    )\n",
    "    # YOUR CODE ENDS HERE\n",
    "\n",
    "    clf.fit(X_train, y_train)\n",
    "    print(\"Optimal Hyperparameter:\", clf.best_params_)\n",
    "\n",
    "    return clf"
   ]
  },
  {
   "cell_type": "code",
   "execution_count": 141,
   "metadata": {},
   "outputs": [
    {
     "name": "stdout",
     "output_type": "stream",
     "text": [
      "Fitting 2 folds for each of 2 candidates, totalling 4 fits\n",
      "Optimal Hyperparameter: {'randomforestclassifier__n_estimators': 80, 'randomforestclassifier__max_features': 4, 'randomforestclassifier__max_depth': 10}\n"
     ]
    }
   ],
   "source": [
    "clf_rf = fit_rf(X_train, y_train)"
   ]
  },
  {
   "cell_type": "code",
   "execution_count": 142,
   "metadata": {},
   "outputs": [
    {
     "name": "stdout",
     "output_type": "stream",
     "text": [
      "Confusion Matrix\n",
      "[[5105 2994  432  451  331  810  614  403   11]\n",
      " [1043 2127  306  301  195  629  450  321    7]\n",
      " [ 401  755  148  158  120  430  280  212    2]\n",
      " [ 161  266   87  108   85  340  194  175    1]\n",
      " [ 115  130   41   53   63  269  156  112    0]\n",
      " [  60   69   22   32   33  203  125  105    1]\n",
      " [  15   43   20   16   21  138   94   94    0]\n",
      " [   9    4    5    5   10   65   42   90    0]\n",
      " [   0    0    0    0    0    0    0    0 6096]]\n",
      "정확도:0.48713943559304385, 정밀도:0.5810615907302484, 재현율:0.48713943559304385\n",
      "f1 score : 0.5158459477391752\n"
     ]
    }
   ],
   "source": [
    "pred_rf = clf_rf.predict(X_test)\n",
    "get_clf_eval(y_test, pred_rf)\n",
    "f1 = f1_score(y_test, pred_rf,average='weighted')\n",
    "print('f1 score :', f1)"
   ]
  },
  {
   "cell_type": "code",
   "execution_count": 99,
   "metadata": {},
   "outputs": [
    {
     "name": "stdout",
     "output_type": "stream",
     "text": [
      "Collecting catboost\n",
      "  Downloading catboost-1.0.4-cp37-none-win_amd64.whl (73.5 MB)\n",
      "Requirement already satisfied: six in c:\\users\\colacan\\anaconda3\\envs\\data_science\\lib\\site-packages (from catboost) (1.16.0)\n",
      "Requirement already satisfied: numpy>=1.16.0 in c:\\users\\colacan\\anaconda3\\envs\\data_science\\lib\\site-packages (from catboost) (1.21.5)\n",
      "Requirement already satisfied: scipy in c:\\users\\colacan\\anaconda3\\envs\\data_science\\lib\\site-packages (from catboost) (1.7.3)\n",
      "Requirement already satisfied: graphviz in c:\\users\\colacan\\anaconda3\\envs\\data_science\\lib\\site-packages (from catboost) (0.19.1)\n",
      "Collecting plotly\n",
      "  Downloading plotly-5.6.0-py2.py3-none-any.whl (27.7 MB)\n",
      "Requirement already satisfied: matplotlib in c:\\users\\colacan\\anaconda3\\envs\\data_science\\lib\\site-packages (from catboost) (3.5.1)\n",
      "Requirement already satisfied: pandas>=0.24.0 in c:\\users\\colacan\\anaconda3\\envs\\data_science\\lib\\site-packages (from catboost) (1.3.5)\n",
      "Requirement already satisfied: python-dateutil>=2.7.3 in c:\\users\\colacan\\anaconda3\\envs\\data_science\\lib\\site-packages (from pandas>=0.24.0->catboost) (2.8.2)\n",
      "Requirement already satisfied: pytz>=2017.3 in c:\\users\\colacan\\anaconda3\\envs\\data_science\\lib\\site-packages (from pandas>=0.24.0->catboost) (2021.3)\n",
      "Requirement already satisfied: pillow>=6.2.0 in c:\\users\\colacan\\anaconda3\\envs\\data_science\\lib\\site-packages (from matplotlib->catboost) (9.0.0)\n",
      "Requirement already satisfied: fonttools>=4.22.0 in c:\\users\\colacan\\anaconda3\\envs\\data_science\\lib\\site-packages (from matplotlib->catboost) (4.28.5)\n",
      "Requirement already satisfied: cycler>=0.10 in c:\\users\\colacan\\anaconda3\\envs\\data_science\\lib\\site-packages (from matplotlib->catboost) (0.11.0)\n",
      "Requirement already satisfied: pyparsing>=2.2.1 in c:\\users\\colacan\\anaconda3\\envs\\data_science\\lib\\site-packages (from matplotlib->catboost) (3.0.6)\n",
      "Requirement already satisfied: kiwisolver>=1.0.1 in c:\\users\\colacan\\anaconda3\\envs\\data_science\\lib\\site-packages (from matplotlib->catboost) (1.3.2)\n",
      "Requirement already satisfied: packaging>=20.0 in c:\\users\\colacan\\anaconda3\\envs\\data_science\\lib\\site-packages (from matplotlib->catboost) (21.3)\n",
      "Collecting tenacity>=6.2.0\n",
      "  Downloading tenacity-8.0.1-py3-none-any.whl (24 kB)\n",
      "Installing collected packages: tenacity, plotly, catboost\n",
      "Successfully installed catboost-1.0.4 plotly-5.6.0 tenacity-8.0.1\n"
     ]
    }
   ],
   "source": [
    "!pip install catboost"
   ]
  },
  {
   "cell_type": "code",
   "execution_count": 105,
   "metadata": {},
   "outputs": [],
   "source": [
    "train, test = train_test_split(df, train_size=0.7, stratify=df[target], random_state=2)\n",
    "X_train, y_train = divide_data(train)\n",
    "X_test, y_test = divide_data(test)"
   ]
  },
  {
   "cell_type": "code",
   "execution_count": 106,
   "metadata": {},
   "outputs": [],
   "source": [
    "from catboost import CatBoostClassifier\n",
    "\n",
    "def fit_cb(X_train, y_train):\n",
    "    # YOUR CODE HERE\n",
    "    pipe = make_pipeline(\n",
    "    OrdinalEncoder(),\n",
    "    SimpleImputer(),  \n",
    "    CatBoostClassifier(early_stopping_rounds=35,verbose=100)\n",
    "    )\n",
    "    # YOUR CODE ENDS HERE\n",
    "\n",
    "    pipe.fit(X_train, y_train)\n",
    "\n",
    "    return pipe"
   ]
  },
  {
   "cell_type": "code",
   "execution_count": 107,
   "metadata": {},
   "outputs": [
    {
     "name": "stdout",
     "output_type": "stream",
     "text": [
      "Learning rate set to 0.098068\n",
      "0:\tlearn: 1.8843800\ttotal: 26.5ms\tremaining: 26.5s\n",
      "100:\tlearn: 1.0445479\ttotal: 2.2s\tremaining: 19.6s\n",
      "200:\tlearn: 1.0179418\ttotal: 4.29s\tremaining: 17.1s\n",
      "300:\tlearn: 0.9986274\ttotal: 6.38s\tremaining: 14.8s\n",
      "400:\tlearn: 0.9808201\ttotal: 8.46s\tremaining: 12.6s\n",
      "500:\tlearn: 0.9654114\ttotal: 10.5s\tremaining: 10.5s\n",
      "600:\tlearn: 0.9511964\ttotal: 12.6s\tremaining: 8.37s\n",
      "700:\tlearn: 0.9367386\ttotal: 14.7s\tremaining: 6.28s\n",
      "800:\tlearn: 0.9232841\ttotal: 16.9s\tremaining: 4.19s\n",
      "900:\tlearn: 0.9104242\ttotal: 18.9s\tremaining: 2.08s\n",
      "999:\tlearn: 0.8975871\ttotal: 21s\tremaining: 0us\n"
     ]
    }
   ],
   "source": [
    "clf_cb = fit_cb(X_train, y_train)"
   ]
  },
  {
   "cell_type": "code",
   "execution_count": 108,
   "metadata": {},
   "outputs": [
    {
     "name": "stdout",
     "output_type": "stream",
     "text": [
      "Confusion Matrix\n",
      "[[9936 1080   47   20   15   15    6   10   22]\n",
      " [4300  949   47   26   13   10    7   11   16]\n",
      " [1969  433   38   19   14   11   10    8    4]\n",
      " [1049  277   36   16   16    7    7    5    4]\n",
      " [ 678  177   25   14    7   11   12   15    0]\n",
      " [ 447  126   20   10   13   10   14    9    1]\n",
      " [ 298   90   13    8    7    5   10    9    1]\n",
      " [ 129   49    6    8    9    6   10   13    0]\n",
      " [   0    0    0    0    0    0    0    0 6096]]\n",
      "정확도:0.5926967267173453, 정밀도:0.49965238637513504, 재현율:0.5926967267173453\n",
      "f1 score : 0.5146950302609092\n"
     ]
    }
   ],
   "source": [
    "pred_cb = clf_cb.predict(X_test)\n",
    "get_clf_eval(y_test, pred_cb)\n",
    "f1 = f1_score(y_test, pred_cb,average='weighted')\n",
    "print('f1 score :', f1)"
   ]
  },
  {
   "cell_type": "code",
   "execution_count": null,
   "metadata": {},
   "outputs": [],
   "source": []
  },
  {
   "cell_type": "code",
   "execution_count": 240,
   "metadata": {},
   "outputs": [],
   "source": [
    "train, test = train_test_split(df, train_size=0.7, stratify=df[target], random_state=2)\n",
    "X_train, y_train = divide_data(train)\n",
    "X_test, y_test = divide_data(test)"
   ]
  },
  {
   "cell_type": "code",
   "execution_count": 249,
   "metadata": {},
   "outputs": [
    {
     "data": {
      "text/plain": [
       "XGBClassifier(base_score=0.5, booster='gbtree', colsample_bylevel=1,\n",
       "              colsample_bynode=1, colsample_bytree=1, enable_categorical=False,\n",
       "              eval_metric='mlogloss', gamma=0, gpu_id=-1,\n",
       "              importance_type='gain', interaction_constraints='',\n",
       "              learning_rate=0.7290535489571274, max_delta_step=0, max_depth=15,\n",
       "              min_child_weight=1, missing=nan, monotone_constraints='()',\n",
       "              n_estimators=72, n_jobs=16, num_parallel_tree=1,\n",
       "              objective='multi:softprob', predictor='auto', random_state=0,\n",
       "              reg_alpha=0, reg_lambda=1, scale_pos_weight=None, subsample=1,\n",
       "              tree_method='exact', validate_parameters=1, verbosity=None)"
      ]
     },
     "execution_count": 249,
     "metadata": {},
     "output_type": "execute_result"
    }
   ],
   "source": [
    "import eli5 \n",
    "from eli5.sklearn import PermutationImportance\n",
    "\n",
    "processor = make_pipeline(\n",
    "    OrdinalEncoder(),\n",
    "    SimpleImputer()\n",
    ")\n",
    "preprocess_pipeline = processor.fit_transform(X_train)\n",
    "res_model = XGBClassifier(eval_metric='mlogloss',learning_rate = 0.7290535489571274, max_depth= 15, n_estimators = 72,importance_type='gain')\n",
    "res_model.fit(preprocess_pipeline,y_train)"
   ]
  },
  {
   "cell_type": "code",
   "execution_count": 250,
   "metadata": {},
   "outputs": [
    {
     "data": {
      "text/plain": [
       "array([0.13383882, 0.09623167, 0.        , 0.06010219, 0.05524927,\n",
       "       0.05950462, 0.05717529, 0.05932903, 0.06055082, 0.06576505,\n",
       "       0.06092747, 0.05425557, 0.23707019], dtype=float32)"
      ]
     },
     "execution_count": 250,
     "metadata": {},
     "output_type": "execute_result"
    }
   ],
   "source": [
    "res_model.feature_importances_"
   ]
  },
  {
   "cell_type": "code",
   "execution_count": 255,
   "metadata": {},
   "outputs": [
    {
     "data": {
      "image/png": "[encoded data removed]",
      "text/plain": [
       "<Figure size 432x288 with 1 Axes>"
      ]
     },
     "metadata": {
      "needs_background": "light"
     },
     "output_type": "display_data"
    }
   ],
   "source": [
    "import matplotlib.pyplot as plt\n",
    "import xgboost\n",
    "\n",
    "ax = xgboost.plot_importance(res_model, importance_type='weight',grid=False,title='gain')"
   ]
  },
  {
   "cell_type": "code",
   "execution_count": 256,
   "metadata": {},
   "outputs": [
    {
     "data": {
      "text/plain": [
       "Index(['channelName', 'gameSpeed', 'matchType', 'trackId', 'kart', 'pet',\n",
       "       'flyingPet', 'partsEngine', 'partsHandle', 'partsWheel', 'partsKit',\n",
       "       'rankinggrade2', 'matchTime'],\n",
       "      dtype='object')"
      ]
     },
     "execution_count": 256,
     "metadata": {},
     "output_type": "execute_result"
    }
   ],
   "source": [
    "X_train.columns"
   ]
  },
  {
   "cell_type": "code",
   "execution_count": 260,
   "metadata": {},
   "outputs": [],
   "source": [
    "preprocess_pipeline_test = processor.fit_transform(X_test)\n",
    "xgb_pred = res_model.predict(preprocess_pipeline_test)"
   ]
  },
  {
   "cell_type": "code",
   "execution_count": null,
   "metadata": {},
   "outputs": [],
   "source": []
  }
 ],
 "metadata": {
  "interpreter": {
   "hash": "249aa0fc8c2ccb32d4f68419b61948b5264a8e026c78b28992715d78036bdf63"
  },
  "kernelspec": {
   "display_name": "codestates",
   "language": "python",
   "name": "python3"
  },
  "language_info": {
   "codemirror_mode": {
    "name": "ipython",
    "version": 3
   },
   "file_extension": ".py",
   "mimetype": "text/x-python",
   "name": "python",
   "nbconvert_exporter": "python",
   "pygments_lexer": "ipython3",
   "version": "3.7.11"
  },
  "orig_nbformat": 4
 },
 "nbformat": 4,
 "nbformat_minor": 2
}
